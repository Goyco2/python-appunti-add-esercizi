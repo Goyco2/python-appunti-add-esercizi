{
  "nbformat": 4,
  "nbformat_minor": 0,
  "metadata": {
    "colab": {
      "name": "esercitazioni-Pandas2.ipynb",
      "provenance": [],
      "collapsed_sections": []
    },
    "kernelspec": {
      "name": "python3",
      "display_name": "Python 3"
    },
    "language_info": {
      "name": "python"
    }
  },
  "cells": [
    {
      "cell_type": "code",
      "metadata": {
        "id": "ABd0GeKWJa6o"
      },
      "source": [
        "import pandas as pd"
      ],
      "execution_count": null,
      "outputs": []
    },
    {
      "cell_type": "code",
      "metadata": {
        "colab": {
          "base_uri": "https://localhost:8080/",
          "height": 419
        },
        "id": "aurpiis2PKvp",
        "outputId": "a95a6dd6-2c12-4cc8-8017-e00ba160fbb7"
      },
      "source": [
        "url = 'https://raw.githubusercontent.com/CappuCitti/Python-appunti-ed-esercizi/main/Pandas/Data/uffici_postali_milano.csv'\n",
        "df = pd.read_csv(url)\n",
        "df"
      ],
      "execution_count": null,
      "outputs": [
        {
          "output_type": "execute_result",
          "data": {
            "text/html": [
              "<div>\n",
              "<style scoped>\n",
              "    .dataframe tbody tr th:only-of-type {\n",
              "        vertical-align: middle;\n",
              "    }\n",
              "\n",
              "    .dataframe tbody tr th {\n",
              "        vertical-align: top;\n",
              "    }\n",
              "\n",
              "    .dataframe thead th {\n",
              "        text-align: right;\n",
              "    }\n",
              "</style>\n",
              "<table border=\"1\" class=\"dataframe\">\n",
              "  <thead>\n",
              "    <tr style=\"text-align: right;\">\n",
              "      <th></th>\n",
              "      <th>Indirizzo</th>\n",
              "      <th>Telefono</th>\n",
              "      <th>Fax</th>\n",
              "      <th>CAP</th>\n",
              "      <th>MUNICIPIO</th>\n",
              "      <th>ID_NIL</th>\n",
              "      <th>NIL</th>\n",
              "      <th>LONG_X_4326</th>\n",
              "      <th>LAT_Y_4326</th>\n",
              "      <th>Location</th>\n",
              "    </tr>\n",
              "  </thead>\n",
              "  <tbody>\n",
              "    <tr>\n",
              "      <th>0</th>\n",
              "      <td>BASTIONI DI PORTA VOLTA 7</td>\n",
              "      <td>02-6572655</td>\n",
              "      <td>02-29002004</td>\n",
              "      <td>20121</td>\n",
              "      <td>1</td>\n",
              "      <td>2</td>\n",
              "      <td>BRERA</td>\n",
              "      <td>9.182151</td>\n",
              "      <td>45.479601</td>\n",
              "      <td>(45.47960100000006;9.182151000000033)</td>\n",
              "    </tr>\n",
              "    <tr>\n",
              "      <th>1</th>\n",
              "      <td>CORSO DI PORTA VIGENTINA 35</td>\n",
              "      <td>02-58320771</td>\n",
              "      <td>02-58319779</td>\n",
              "      <td>20122</td>\n",
              "      <td>1</td>\n",
              "      <td>5</td>\n",
              "      <td>PORTA VIGENTINA - PORTA LODOVICA</td>\n",
              "      <td>9.196520</td>\n",
              "      <td>45.452538</td>\n",
              "      <td>(45.45253800000006;9.196519500000022)</td>\n",
              "    </tr>\n",
              "    <tr>\n",
              "      <th>2</th>\n",
              "      <td>CORSO ITALI 16</td>\n",
              "      <td>02-804336</td>\n",
              "      <td>02-86454450</td>\n",
              "      <td>20122</td>\n",
              "      <td>1</td>\n",
              "      <td>1</td>\n",
              "      <td>DUOMO</td>\n",
              "      <td>9.187470</td>\n",
              "      <td>45.457893</td>\n",
              "      <td>(45.45789300000007;9.187470000000076)</td>\n",
              "    </tr>\n",
              "    <tr>\n",
              "      <th>3</th>\n",
              "      <td>CORSO SEMPIONE 94</td>\n",
              "      <td>NaN</td>\n",
              "      <td>NaN</td>\n",
              "      <td>20154</td>\n",
              "      <td>8</td>\n",
              "      <td>69</td>\n",
              "      <td>SARPI</td>\n",
              "      <td>9.158508</td>\n",
              "      <td>45.486540</td>\n",
              "      <td>(45.48654000000005;9.15850800000004)</td>\n",
              "    </tr>\n",
              "    <tr>\n",
              "      <th>4</th>\n",
              "      <td>CORSO VENEZIA 42</td>\n",
              "      <td>02-76023056</td>\n",
              "      <td>02-7837251</td>\n",
              "      <td>20121</td>\n",
              "      <td>1</td>\n",
              "      <td>4</td>\n",
              "      <td>GUASTALLA</td>\n",
              "      <td>9.202703</td>\n",
              "      <td>45.471861</td>\n",
              "      <td>(45.47186100000005;9.202702500000044)</td>\n",
              "    </tr>\n",
              "    <tr>\n",
              "      <th>...</th>\n",
              "      <td>...</td>\n",
              "      <td>...</td>\n",
              "      <td>...</td>\n",
              "      <td>...</td>\n",
              "      <td>...</td>\n",
              "      <td>...</td>\n",
              "      <td>...</td>\n",
              "      <td>...</td>\n",
              "      <td>...</td>\n",
              "      <td>...</td>\n",
              "    </tr>\n",
              "    <tr>\n",
              "      <th>77</th>\n",
              "      <td>VIALE GORIZIA 6</td>\n",
              "      <td>02-8358241</td>\n",
              "      <td>02-8373830</td>\n",
              "      <td>20144</td>\n",
              "      <td>6</td>\n",
              "      <td>44</td>\n",
              "      <td>PORTA TICINESE - CONCHETTA</td>\n",
              "      <td>9.173156</td>\n",
              "      <td>45.454518</td>\n",
              "      <td>(45.454518000000064;9.173155500000064)</td>\n",
              "    </tr>\n",
              "    <tr>\n",
              "      <th>78</th>\n",
              "      <td>VIALE MONTE CENERI SNC</td>\n",
              "      <td>02-32671911</td>\n",
              "      <td>02-32671947</td>\n",
              "      <td>20155</td>\n",
              "      <td>8</td>\n",
              "      <td>71</td>\n",
              "      <td>VILLAPIZZONE - CAGNOLA - BOLDINASCO</td>\n",
              "      <td>9.153592</td>\n",
              "      <td>45.491568</td>\n",
              "      <td>(45.49156751800007;9.153591732000052)</td>\n",
              "    </tr>\n",
              "    <tr>\n",
              "      <th>79</th>\n",
              "      <td>VIALE SABOTINO 21/A</td>\n",
              "      <td>02-58457911</td>\n",
              "      <td>02-58457947</td>\n",
              "      <td>20135</td>\n",
              "      <td>5</td>\n",
              "      <td>27</td>\n",
              "      <td>PTA ROMANA</td>\n",
              "      <td>9.200174</td>\n",
              "      <td>45.451017</td>\n",
              "      <td>(45.451017000000036;9.200173500000062)</td>\n",
              "    </tr>\n",
              "    <tr>\n",
              "      <th>80</th>\n",
              "      <td>VIALE SAN GIMIGNANO 10</td>\n",
              "      <td>02-41411311</td>\n",
              "      <td>02-41411347</td>\n",
              "      <td>20146</td>\n",
              "      <td>6</td>\n",
              "      <td>52</td>\n",
              "      <td>BANDE NERE</td>\n",
              "      <td>9.136526</td>\n",
              "      <td>45.455868</td>\n",
              "      <td>(45.455868000000066;9.136525500000062)</td>\n",
              "    </tr>\n",
              "    <tr>\n",
              "      <th>81</th>\n",
              "      <td>VIALE ZARA 131</td>\n",
              "      <td>02-69911111</td>\n",
              "      <td>02-69911147</td>\n",
              "      <td>20159</td>\n",
              "      <td>9</td>\n",
              "      <td>12</td>\n",
              "      <td>MACIACHINI - MAGGIOLINA</td>\n",
              "      <td>9.196686</td>\n",
              "      <td>45.500193</td>\n",
              "      <td>(45.50019300000008;9.196686000000057)</td>\n",
              "    </tr>\n",
              "  </tbody>\n",
              "</table>\n",
              "<p>82 rows × 10 columns</p>\n",
              "</div>"
            ],
            "text/plain": [
              "                      Indirizzo  ...                                Location\n",
              "0     BASTIONI DI PORTA VOLTA 7  ...   (45.47960100000006;9.182151000000033)\n",
              "1   CORSO DI PORTA VIGENTINA 35  ...   (45.45253800000006;9.196519500000022)\n",
              "2                CORSO ITALI 16  ...   (45.45789300000007;9.187470000000076)\n",
              "3             CORSO SEMPIONE 94  ...    (45.48654000000005;9.15850800000004)\n",
              "4              CORSO VENEZIA 42  ...   (45.47186100000005;9.202702500000044)\n",
              "..                          ...  ...                                     ...\n",
              "77              VIALE GORIZIA 6  ...  (45.454518000000064;9.173155500000064)\n",
              "78       VIALE MONTE CENERI SNC  ...   (45.49156751800007;9.153591732000052)\n",
              "79          VIALE SABOTINO 21/A  ...  (45.451017000000036;9.200173500000062)\n",
              "80       VIALE SAN GIMIGNANO 10  ...  (45.455868000000066;9.136525500000062)\n",
              "81               VIALE ZARA 131  ...   (45.50019300000008;9.196686000000057)\n",
              "\n",
              "[82 rows x 10 columns]"
            ]
          },
          "metadata": {},
          "execution_count": 5
        }
      ]
    },
    {
      "cell_type": "markdown",
      "metadata": {
        "id": "hXJmoOXSPewC"
      },
      "source": [
        " 2. visualizzare solo la prima colonna"
      ]
    },
    {
      "cell_type": "code",
      "metadata": {
        "colab": {
          "base_uri": "https://localhost:8080/"
        },
        "id": "Lydm1QAiPgch",
        "outputId": "3d590183-7d5f-4a58-a310-1881fe3b5fd4"
      },
      "source": [
        "df[df.columns[0]]"
      ],
      "execution_count": null,
      "outputs": [
        {
          "output_type": "execute_result",
          "data": {
            "text/plain": [
              "0       BASTIONI DI PORTA VOLTA 7\n",
              "1     CORSO DI PORTA VIGENTINA 35\n",
              "2                  CORSO ITALI 16\n",
              "3               CORSO SEMPIONE 94\n",
              "4                CORSO VENEZIA 42\n",
              "                 ...             \n",
              "77                VIALE GORIZIA 6\n",
              "78         VIALE MONTE CENERI SNC\n",
              "79            VIALE SABOTINO 21/A\n",
              "80         VIALE SAN GIMIGNANO 10\n",
              "81                 VIALE ZARA 131\n",
              "Name: Indirizzo, Length: 82, dtype: object"
            ]
          },
          "metadata": {},
          "execution_count": 3
        }
      ]
    },
    {
      "cell_type": "markdown",
      "metadata": {
        "id": "aWtlBWWTQD1i"
      },
      "source": [
        "3. visualizzare solo l'ultima colonna"
      ]
    },
    {
      "cell_type": "code",
      "metadata": {
        "colab": {
          "base_uri": "https://localhost:8080/"
        },
        "id": "EgtXe1cSQHEa",
        "outputId": "155427b5-1ad3-4eaf-f8b6-6f4069fee23b"
      },
      "source": [
        "df[df.columns[9]]"
      ],
      "execution_count": null,
      "outputs": [
        {
          "output_type": "execute_result",
          "data": {
            "text/plain": [
              "0      (45.47960100000006;9.182151000000033)\n",
              "1      (45.45253800000006;9.196519500000022)\n",
              "2      (45.45789300000007;9.187470000000076)\n",
              "3       (45.48654000000005;9.15850800000004)\n",
              "4      (45.47186100000005;9.202702500000044)\n",
              "                       ...                  \n",
              "77    (45.454518000000064;9.173155500000064)\n",
              "78     (45.49156751800007;9.153591732000052)\n",
              "79    (45.451017000000036;9.200173500000062)\n",
              "80    (45.455868000000066;9.136525500000062)\n",
              "81     (45.50019300000008;9.196686000000057)\n",
              "Name: Location, Length: 82, dtype: object"
            ]
          },
          "metadata": {},
          "execution_count": 4
        }
      ]
    },
    {
      "cell_type": "markdown",
      "metadata": {
        "id": "asvAAHeSQgvh"
      },
      "source": [
        "4. visualizzare le colonne dalle terza alla quinta"
      ]
    },
    {
      "cell_type": "code",
      "metadata": {
        "colab": {
          "base_uri": "https://localhost:8080/",
          "height": 422
        },
        "id": "8LLh-iSvQy2T",
        "outputId": "c39ba6e8-7259-42ff-b2ac-c4b475246249"
      },
      "source": [
        "df[df.columns[2:5]]"
      ],
      "execution_count": null,
      "outputs": [
        {
          "output_type": "execute_result",
          "data": {
            "text/html": [
              "<div>\n",
              "<style scoped>\n",
              "    .dataframe tbody tr th:only-of-type {\n",
              "        vertical-align: middle;\n",
              "    }\n",
              "\n",
              "    .dataframe tbody tr th {\n",
              "        vertical-align: top;\n",
              "    }\n",
              "\n",
              "    .dataframe thead th {\n",
              "        text-align: right;\n",
              "    }\n",
              "</style>\n",
              "<table border=\"1\" class=\"dataframe\">\n",
              "  <thead>\n",
              "    <tr style=\"text-align: right;\">\n",
              "      <th></th>\n",
              "      <th>Fax</th>\n",
              "      <th>CAP</th>\n",
              "      <th>MUNICIPIO</th>\n",
              "    </tr>\n",
              "  </thead>\n",
              "  <tbody>\n",
              "    <tr>\n",
              "      <th>0</th>\n",
              "      <td>02-29002004</td>\n",
              "      <td>20121</td>\n",
              "      <td>1</td>\n",
              "    </tr>\n",
              "    <tr>\n",
              "      <th>1</th>\n",
              "      <td>02-58319779</td>\n",
              "      <td>20122</td>\n",
              "      <td>1</td>\n",
              "    </tr>\n",
              "    <tr>\n",
              "      <th>2</th>\n",
              "      <td>02-86454450</td>\n",
              "      <td>20122</td>\n",
              "      <td>1</td>\n",
              "    </tr>\n",
              "    <tr>\n",
              "      <th>3</th>\n",
              "      <td>NaN</td>\n",
              "      <td>20154</td>\n",
              "      <td>8</td>\n",
              "    </tr>\n",
              "    <tr>\n",
              "      <th>4</th>\n",
              "      <td>02-7837251</td>\n",
              "      <td>20121</td>\n",
              "      <td>1</td>\n",
              "    </tr>\n",
              "    <tr>\n",
              "      <th>...</th>\n",
              "      <td>...</td>\n",
              "      <td>...</td>\n",
              "      <td>...</td>\n",
              "    </tr>\n",
              "    <tr>\n",
              "      <th>77</th>\n",
              "      <td>02-8373830</td>\n",
              "      <td>20144</td>\n",
              "      <td>6</td>\n",
              "    </tr>\n",
              "    <tr>\n",
              "      <th>78</th>\n",
              "      <td>02-32671947</td>\n",
              "      <td>20155</td>\n",
              "      <td>8</td>\n",
              "    </tr>\n",
              "    <tr>\n",
              "      <th>79</th>\n",
              "      <td>02-58457947</td>\n",
              "      <td>20135</td>\n",
              "      <td>5</td>\n",
              "    </tr>\n",
              "    <tr>\n",
              "      <th>80</th>\n",
              "      <td>02-41411347</td>\n",
              "      <td>20146</td>\n",
              "      <td>6</td>\n",
              "    </tr>\n",
              "    <tr>\n",
              "      <th>81</th>\n",
              "      <td>02-69911147</td>\n",
              "      <td>20159</td>\n",
              "      <td>9</td>\n",
              "    </tr>\n",
              "  </tbody>\n",
              "</table>\n",
              "<p>82 rows × 3 columns</p>\n",
              "</div>"
            ],
            "text/plain": [
              "            Fax    CAP  MUNICIPIO\n",
              "0   02-29002004  20121          1\n",
              "1   02-58319779  20122          1\n",
              "2   02-86454450  20122          1\n",
              "3           NaN  20154          8\n",
              "4    02-7837251  20121          1\n",
              "..          ...    ...        ...\n",
              "77   02-8373830  20144          6\n",
              "78  02-32671947  20155          8\n",
              "79  02-58457947  20135          5\n",
              "80  02-41411347  20146          6\n",
              "81  02-69911147  20159          9\n",
              "\n",
              "[82 rows x 3 columns]"
            ]
          },
          "metadata": {},
          "execution_count": 5
        }
      ]
    },
    {
      "cell_type": "markdown",
      "metadata": {
        "id": "7PvZlxzoRNXT"
      },
      "source": [
        "5. visualizzare la terza e la sesta colonna"
      ]
    },
    {
      "cell_type": "code",
      "metadata": {
        "colab": {
          "base_uri": "https://localhost:8080/",
          "height": 422
        },
        "id": "XkTAVmegRPQ6",
        "outputId": "c8aa6253-2de5-4bcc-f737-3003a34862b7"
      },
      "source": [
        "df[df.columns[[2,5]]]"
      ],
      "execution_count": null,
      "outputs": [
        {
          "output_type": "execute_result",
          "data": {
            "text/html": [
              "<div>\n",
              "<style scoped>\n",
              "    .dataframe tbody tr th:only-of-type {\n",
              "        vertical-align: middle;\n",
              "    }\n",
              "\n",
              "    .dataframe tbody tr th {\n",
              "        vertical-align: top;\n",
              "    }\n",
              "\n",
              "    .dataframe thead th {\n",
              "        text-align: right;\n",
              "    }\n",
              "</style>\n",
              "<table border=\"1\" class=\"dataframe\">\n",
              "  <thead>\n",
              "    <tr style=\"text-align: right;\">\n",
              "      <th></th>\n",
              "      <th>Fax</th>\n",
              "      <th>ID_NIL</th>\n",
              "    </tr>\n",
              "  </thead>\n",
              "  <tbody>\n",
              "    <tr>\n",
              "      <th>0</th>\n",
              "      <td>02-29002004</td>\n",
              "      <td>2</td>\n",
              "    </tr>\n",
              "    <tr>\n",
              "      <th>1</th>\n",
              "      <td>02-58319779</td>\n",
              "      <td>5</td>\n",
              "    </tr>\n",
              "    <tr>\n",
              "      <th>2</th>\n",
              "      <td>02-86454450</td>\n",
              "      <td>1</td>\n",
              "    </tr>\n",
              "    <tr>\n",
              "      <th>3</th>\n",
              "      <td>NaN</td>\n",
              "      <td>69</td>\n",
              "    </tr>\n",
              "    <tr>\n",
              "      <th>4</th>\n",
              "      <td>02-7837251</td>\n",
              "      <td>4</td>\n",
              "    </tr>\n",
              "    <tr>\n",
              "      <th>...</th>\n",
              "      <td>...</td>\n",
              "      <td>...</td>\n",
              "    </tr>\n",
              "    <tr>\n",
              "      <th>77</th>\n",
              "      <td>02-8373830</td>\n",
              "      <td>44</td>\n",
              "    </tr>\n",
              "    <tr>\n",
              "      <th>78</th>\n",
              "      <td>02-32671947</td>\n",
              "      <td>71</td>\n",
              "    </tr>\n",
              "    <tr>\n",
              "      <th>79</th>\n",
              "      <td>02-58457947</td>\n",
              "      <td>27</td>\n",
              "    </tr>\n",
              "    <tr>\n",
              "      <th>80</th>\n",
              "      <td>02-41411347</td>\n",
              "      <td>52</td>\n",
              "    </tr>\n",
              "    <tr>\n",
              "      <th>81</th>\n",
              "      <td>02-69911147</td>\n",
              "      <td>12</td>\n",
              "    </tr>\n",
              "  </tbody>\n",
              "</table>\n",
              "<p>82 rows × 2 columns</p>\n",
              "</div>"
            ],
            "text/plain": [
              "            Fax  ID_NIL\n",
              "0   02-29002004       2\n",
              "1   02-58319779       5\n",
              "2   02-86454450       1\n",
              "3           NaN      69\n",
              "4    02-7837251       4\n",
              "..          ...     ...\n",
              "77   02-8373830      44\n",
              "78  02-32671947      71\n",
              "79  02-58457947      27\n",
              "80  02-41411347      52\n",
              "81  02-69911147      12\n",
              "\n",
              "[82 rows x 2 columns]"
            ]
          },
          "metadata": {},
          "execution_count": 6
        }
      ]
    },
    {
      "cell_type": "markdown",
      "metadata": {
        "id": "Z9HKsYdMR8hz"
      },
      "source": [
        "6. visualizzare la colonna dell'indirizzo e del municipio"
      ]
    },
    {
      "cell_type": "code",
      "metadata": {
        "colab": {
          "base_uri": "https://localhost:8080/",
          "height": 422
        },
        "id": "Q7_D1HzeR9u5",
        "outputId": "27aa7bad-e5af-4fd6-e3ae-1cab2e988927"
      },
      "source": [
        "df[['Indirizzo', 'MUNICIPIO']]"
      ],
      "execution_count": null,
      "outputs": [
        {
          "output_type": "execute_result",
          "data": {
            "text/html": [
              "<div>\n",
              "<style scoped>\n",
              "    .dataframe tbody tr th:only-of-type {\n",
              "        vertical-align: middle;\n",
              "    }\n",
              "\n",
              "    .dataframe tbody tr th {\n",
              "        vertical-align: top;\n",
              "    }\n",
              "\n",
              "    .dataframe thead th {\n",
              "        text-align: right;\n",
              "    }\n",
              "</style>\n",
              "<table border=\"1\" class=\"dataframe\">\n",
              "  <thead>\n",
              "    <tr style=\"text-align: right;\">\n",
              "      <th></th>\n",
              "      <th>Indirizzo</th>\n",
              "      <th>MUNICIPIO</th>\n",
              "    </tr>\n",
              "  </thead>\n",
              "  <tbody>\n",
              "    <tr>\n",
              "      <th>0</th>\n",
              "      <td>BASTIONI DI PORTA VOLTA 7</td>\n",
              "      <td>1</td>\n",
              "    </tr>\n",
              "    <tr>\n",
              "      <th>1</th>\n",
              "      <td>CORSO DI PORTA VIGENTINA 35</td>\n",
              "      <td>1</td>\n",
              "    </tr>\n",
              "    <tr>\n",
              "      <th>2</th>\n",
              "      <td>CORSO ITALI 16</td>\n",
              "      <td>1</td>\n",
              "    </tr>\n",
              "    <tr>\n",
              "      <th>3</th>\n",
              "      <td>CORSO SEMPIONE 94</td>\n",
              "      <td>8</td>\n",
              "    </tr>\n",
              "    <tr>\n",
              "      <th>4</th>\n",
              "      <td>CORSO VENEZIA 42</td>\n",
              "      <td>1</td>\n",
              "    </tr>\n",
              "    <tr>\n",
              "      <th>...</th>\n",
              "      <td>...</td>\n",
              "      <td>...</td>\n",
              "    </tr>\n",
              "    <tr>\n",
              "      <th>77</th>\n",
              "      <td>VIALE GORIZIA 6</td>\n",
              "      <td>6</td>\n",
              "    </tr>\n",
              "    <tr>\n",
              "      <th>78</th>\n",
              "      <td>VIALE MONTE CENERI SNC</td>\n",
              "      <td>8</td>\n",
              "    </tr>\n",
              "    <tr>\n",
              "      <th>79</th>\n",
              "      <td>VIALE SABOTINO 21/A</td>\n",
              "      <td>5</td>\n",
              "    </tr>\n",
              "    <tr>\n",
              "      <th>80</th>\n",
              "      <td>VIALE SAN GIMIGNANO 10</td>\n",
              "      <td>6</td>\n",
              "    </tr>\n",
              "    <tr>\n",
              "      <th>81</th>\n",
              "      <td>VIALE ZARA 131</td>\n",
              "      <td>9</td>\n",
              "    </tr>\n",
              "  </tbody>\n",
              "</table>\n",
              "<p>82 rows × 2 columns</p>\n",
              "</div>"
            ],
            "text/plain": [
              "                      Indirizzo  MUNICIPIO\n",
              "0     BASTIONI DI PORTA VOLTA 7          1\n",
              "1   CORSO DI PORTA VIGENTINA 35          1\n",
              "2                CORSO ITALI 16          1\n",
              "3             CORSO SEMPIONE 94          8\n",
              "4              CORSO VENEZIA 42          1\n",
              "..                          ...        ...\n",
              "77              VIALE GORIZIA 6          6\n",
              "78       VIALE MONTE CENERI SNC          8\n",
              "79          VIALE SABOTINO 21/A          5\n",
              "80       VIALE SAN GIMIGNANO 10          6\n",
              "81               VIALE ZARA 131          9\n",
              "\n",
              "[82 rows x 2 columns]"
            ]
          },
          "metadata": {},
          "execution_count": 7
        }
      ]
    },
    {
      "cell_type": "markdown",
      "metadata": {
        "id": "9gAD0CtZSTRj"
      },
      "source": [
        "7. visualizzare la prima riga"
      ]
    },
    {
      "cell_type": "code",
      "metadata": {
        "colab": {
          "base_uri": "https://localhost:8080/",
          "height": 81
        },
        "id": "3XLad4AySVRR",
        "outputId": "d5030a50-6935-42c4-a909-fffd5aee866c"
      },
      "source": [
        "df.head(1)"
      ],
      "execution_count": null,
      "outputs": [
        {
          "output_type": "execute_result",
          "data": {
            "text/html": [
              "<div>\n",
              "<style scoped>\n",
              "    .dataframe tbody tr th:only-of-type {\n",
              "        vertical-align: middle;\n",
              "    }\n",
              "\n",
              "    .dataframe tbody tr th {\n",
              "        vertical-align: top;\n",
              "    }\n",
              "\n",
              "    .dataframe thead th {\n",
              "        text-align: right;\n",
              "    }\n",
              "</style>\n",
              "<table border=\"1\" class=\"dataframe\">\n",
              "  <thead>\n",
              "    <tr style=\"text-align: right;\">\n",
              "      <th></th>\n",
              "      <th>Indirizzo</th>\n",
              "      <th>Telefono</th>\n",
              "      <th>Fax</th>\n",
              "      <th>CAP</th>\n",
              "      <th>MUNICIPIO</th>\n",
              "      <th>ID_NIL</th>\n",
              "      <th>NIL</th>\n",
              "      <th>LONG_X_4326</th>\n",
              "      <th>LAT_Y_4326</th>\n",
              "      <th>Location</th>\n",
              "    </tr>\n",
              "  </thead>\n",
              "  <tbody>\n",
              "    <tr>\n",
              "      <th>0</th>\n",
              "      <td>BASTIONI DI PORTA VOLTA 7</td>\n",
              "      <td>02-6572655</td>\n",
              "      <td>02-29002004</td>\n",
              "      <td>20121</td>\n",
              "      <td>1</td>\n",
              "      <td>2</td>\n",
              "      <td>BRERA</td>\n",
              "      <td>9.182151</td>\n",
              "      <td>45.479601</td>\n",
              "      <td>(45.47960100000006;9.182151000000033)</td>\n",
              "    </tr>\n",
              "  </tbody>\n",
              "</table>\n",
              "</div>"
            ],
            "text/plain": [
              "                   Indirizzo  ...                               Location\n",
              "0  BASTIONI DI PORTA VOLTA 7  ...  (45.47960100000006;9.182151000000033)\n",
              "\n",
              "[1 rows x 10 columns]"
            ]
          },
          "metadata": {},
          "execution_count": 8
        }
      ]
    },
    {
      "cell_type": "markdown",
      "metadata": {
        "id": "4iK1BulgSkW5"
      },
      "source": [
        "8. visualizzare l'ultima riga"
      ]
    },
    {
      "cell_type": "code",
      "metadata": {
        "colab": {
          "base_uri": "https://localhost:8080/",
          "height": 81
        },
        "id": "rka8JHWPSnT5",
        "outputId": "dbdce3ac-a77e-4a21-c291-07b4ec9e67f9"
      },
      "source": [
        "df.tail(1)"
      ],
      "execution_count": null,
      "outputs": [
        {
          "output_type": "execute_result",
          "data": {
            "text/html": [
              "<div>\n",
              "<style scoped>\n",
              "    .dataframe tbody tr th:only-of-type {\n",
              "        vertical-align: middle;\n",
              "    }\n",
              "\n",
              "    .dataframe tbody tr th {\n",
              "        vertical-align: top;\n",
              "    }\n",
              "\n",
              "    .dataframe thead th {\n",
              "        text-align: right;\n",
              "    }\n",
              "</style>\n",
              "<table border=\"1\" class=\"dataframe\">\n",
              "  <thead>\n",
              "    <tr style=\"text-align: right;\">\n",
              "      <th></th>\n",
              "      <th>Indirizzo</th>\n",
              "      <th>Telefono</th>\n",
              "      <th>Fax</th>\n",
              "      <th>CAP</th>\n",
              "      <th>MUNICIPIO</th>\n",
              "      <th>ID_NIL</th>\n",
              "      <th>NIL</th>\n",
              "      <th>LONG_X_4326</th>\n",
              "      <th>LAT_Y_4326</th>\n",
              "      <th>Location</th>\n",
              "    </tr>\n",
              "  </thead>\n",
              "  <tbody>\n",
              "    <tr>\n",
              "      <th>81</th>\n",
              "      <td>VIALE ZARA 131</td>\n",
              "      <td>02-69911111</td>\n",
              "      <td>02-69911147</td>\n",
              "      <td>20159</td>\n",
              "      <td>9</td>\n",
              "      <td>12</td>\n",
              "      <td>MACIACHINI - MAGGIOLINA</td>\n",
              "      <td>9.196686</td>\n",
              "      <td>45.500193</td>\n",
              "      <td>(45.50019300000008;9.196686000000057)</td>\n",
              "    </tr>\n",
              "  </tbody>\n",
              "</table>\n",
              "</div>"
            ],
            "text/plain": [
              "         Indirizzo  ...                               Location\n",
              "81  VIALE ZARA 131  ...  (45.50019300000008;9.196686000000057)\n",
              "\n",
              "[1 rows x 10 columns]"
            ]
          },
          "metadata": {},
          "execution_count": 9
        }
      ]
    },
    {
      "cell_type": "markdown",
      "metadata": {
        "id": "mblECKWtSs-J"
      },
      "source": [
        "9. visualizzare la riga centrale"
      ]
    },
    {
      "cell_type": "code",
      "metadata": {
        "colab": {
          "base_uri": "https://localhost:8080/",
          "height": 171
        },
        "id": "eLTItw_nSvug",
        "outputId": "e35f3448-d830-4425-e05b-c75369c15f4d"
      },
      "source": [
        "d"
      ],
      "execution_count": null,
      "outputs": [
        {
          "output_type": "error",
          "ename": "NameError",
          "evalue": "ignored",
          "traceback": [
            "\u001b[0;31m---------------------------------------------------------------------------\u001b[0m",
            "\u001b[0;31mNameError\u001b[0m                                 Traceback (most recent call last)",
            "\u001b[0;32m<ipython-input-10-e983f374794d>\u001b[0m in \u001b[0;36m<module>\u001b[0;34m()\u001b[0m\n\u001b[0;32m----> 1\u001b[0;31m \u001b[0md\u001b[0m\u001b[0;34m\u001b[0m\u001b[0;34m\u001b[0m\u001b[0m\n\u001b[0m",
            "\u001b[0;31mNameError\u001b[0m: name 'd' is not defined"
          ]
        }
      ]
    },
    {
      "cell_type": "markdown",
      "metadata": {
        "id": "IxmRsfy6Tm38"
      },
      "source": [
        "10. visualizzare le righe 3, 4 e 12"
      ]
    },
    {
      "cell_type": "code",
      "metadata": {
        "colab": {
          "base_uri": "https://localhost:8080/",
          "height": 143
        },
        "id": "JBVYaG9FToF6",
        "outputId": "d4f6ef7c-49c6-4a9b-b8a6-c261e3ad76ad"
      },
      "source": [
        "df.iloc[[3,4,12]]"
      ],
      "execution_count": null,
      "outputs": [
        {
          "output_type": "execute_result",
          "data": {
            "text/html": [
              "<div>\n",
              "<style scoped>\n",
              "    .dataframe tbody tr th:only-of-type {\n",
              "        vertical-align: middle;\n",
              "    }\n",
              "\n",
              "    .dataframe tbody tr th {\n",
              "        vertical-align: top;\n",
              "    }\n",
              "\n",
              "    .dataframe thead th {\n",
              "        text-align: right;\n",
              "    }\n",
              "</style>\n",
              "<table border=\"1\" class=\"dataframe\">\n",
              "  <thead>\n",
              "    <tr style=\"text-align: right;\">\n",
              "      <th></th>\n",
              "      <th>Indirizzo</th>\n",
              "      <th>Telefono</th>\n",
              "      <th>Fax</th>\n",
              "      <th>CAP</th>\n",
              "      <th>MUNICIPIO</th>\n",
              "      <th>ID_NIL</th>\n",
              "      <th>NIL</th>\n",
              "      <th>LONG_X_4326</th>\n",
              "      <th>LAT_Y_4326</th>\n",
              "      <th>Location</th>\n",
              "    </tr>\n",
              "  </thead>\n",
              "  <tbody>\n",
              "    <tr>\n",
              "      <th>3</th>\n",
              "      <td>CORSO SEMPIONE 94</td>\n",
              "      <td>NaN</td>\n",
              "      <td>NaN</td>\n",
              "      <td>20154</td>\n",
              "      <td>8</td>\n",
              "      <td>69</td>\n",
              "      <td>SARPI</td>\n",
              "      <td>9.158508</td>\n",
              "      <td>45.486540</td>\n",
              "      <td>(45.48654000000005;9.15850800000004)</td>\n",
              "    </tr>\n",
              "    <tr>\n",
              "      <th>4</th>\n",
              "      <td>CORSO VENEZIA 42</td>\n",
              "      <td>02-76023056</td>\n",
              "      <td>02-7837251</td>\n",
              "      <td>20121</td>\n",
              "      <td>1</td>\n",
              "      <td>4</td>\n",
              "      <td>GUASTALLA</td>\n",
              "      <td>9.202703</td>\n",
              "      <td>45.471861</td>\n",
              "      <td>(45.47186100000005;9.202702500000044)</td>\n",
              "    </tr>\n",
              "    <tr>\n",
              "      <th>12</th>\n",
              "      <td>VIA APPENNINI 77/A</td>\n",
              "      <td>02-3535414</td>\n",
              "      <td>02-3538072</td>\n",
              "      <td>20151</td>\n",
              "      <td>8</td>\n",
              "      <td>65</td>\n",
              "      <td>Q.RE GALLARATESE - Q.RE SAN LEONARDO - LAMPUGNANO</td>\n",
              "      <td>9.104292</td>\n",
              "      <td>45.502074</td>\n",
              "      <td>(45.50207400000005;9.104292000000044)</td>\n",
              "    </tr>\n",
              "  </tbody>\n",
              "</table>\n",
              "</div>"
            ],
            "text/plain": [
              "             Indirizzo  ...                               Location\n",
              "3    CORSO SEMPIONE 94  ...   (45.48654000000005;9.15850800000004)\n",
              "4     CORSO VENEZIA 42  ...  (45.47186100000005;9.202702500000044)\n",
              "12  VIA APPENNINI 77/A  ...  (45.50207400000005;9.104292000000044)\n",
              "\n",
              "[3 rows x 10 columns]"
            ]
          },
          "metadata": {},
          "execution_count": 11
        }
      ]
    },
    {
      "cell_type": "markdown",
      "metadata": {
        "id": "nByhs_GBT7gT"
      },
      "source": [
        "11. visualizzare le righe dalla decima alla quindicesima"
      ]
    },
    {
      "cell_type": "code",
      "metadata": {
        "colab": {
          "base_uri": "https://localhost:8080/",
          "height": 236
        },
        "id": "ufagNY5OT85D",
        "outputId": "a2dfb8dc-d8d3-4bec-b67e-2dfd6e972357"
      },
      "source": [
        "df.iloc[10:16]"
      ],
      "execution_count": null,
      "outputs": [
        {
          "output_type": "execute_result",
          "data": {
            "text/html": [
              "<div>\n",
              "<style scoped>\n",
              "    .dataframe tbody tr th:only-of-type {\n",
              "        vertical-align: middle;\n",
              "    }\n",
              "\n",
              "    .dataframe tbody tr th {\n",
              "        vertical-align: top;\n",
              "    }\n",
              "\n",
              "    .dataframe thead th {\n",
              "        text-align: right;\n",
              "    }\n",
              "</style>\n",
              "<table border=\"1\" class=\"dataframe\">\n",
              "  <thead>\n",
              "    <tr style=\"text-align: right;\">\n",
              "      <th></th>\n",
              "      <th>Indirizzo</th>\n",
              "      <th>Telefono</th>\n",
              "      <th>Fax</th>\n",
              "      <th>CAP</th>\n",
              "      <th>MUNICIPIO</th>\n",
              "      <th>ID_NIL</th>\n",
              "      <th>NIL</th>\n",
              "      <th>LONG_X_4326</th>\n",
              "      <th>LAT_Y_4326</th>\n",
              "      <th>Location</th>\n",
              "    </tr>\n",
              "  </thead>\n",
              "  <tbody>\n",
              "    <tr>\n",
              "      <th>10</th>\n",
              "      <td>VIA ALFREDO CAPPELLINI 17/19</td>\n",
              "      <td>02-6773311</td>\n",
              "      <td>02-67733147</td>\n",
              "      <td>20124</td>\n",
              "      <td>2</td>\n",
              "      <td>10</td>\n",
              "      <td>STAZIONE CENTRALE - PONTE SEVESO</td>\n",
              "      <td>9.201735</td>\n",
              "      <td>45.481950</td>\n",
              "      <td>(45.48195000000004;9.201735000000042)</td>\n",
              "    </tr>\n",
              "    <tr>\n",
              "      <th>11</th>\n",
              "      <td>VIA ANDREA VOCHIERI 12</td>\n",
              "      <td>02-66200116</td>\n",
              "      <td>02-66203094</td>\n",
              "      <td>20161</td>\n",
              "      <td>9</td>\n",
              "      <td>80</td>\n",
              "      <td>AFFORI</td>\n",
              "      <td>9.168683</td>\n",
              "      <td>45.514143</td>\n",
              "      <td>(45.51414300000005;9.168682500000045)</td>\n",
              "    </tr>\n",
              "    <tr>\n",
              "      <th>12</th>\n",
              "      <td>VIA APPENNINI 77/A</td>\n",
              "      <td>02-3535414</td>\n",
              "      <td>02-3538072</td>\n",
              "      <td>20151</td>\n",
              "      <td>8</td>\n",
              "      <td>65</td>\n",
              "      <td>Q.RE GALLARATESE - Q.RE SAN LEONARDO - LAMPUGNANO</td>\n",
              "      <td>9.104292</td>\n",
              "      <td>45.502074</td>\n",
              "      <td>(45.50207400000005;9.104292000000044)</td>\n",
              "    </tr>\n",
              "    <tr>\n",
              "      <th>13</th>\n",
              "      <td>VIA ARQUA' 14</td>\n",
              "      <td>02-26141687</td>\n",
              "      <td>02-26825342</td>\n",
              "      <td>20131</td>\n",
              "      <td>2</td>\n",
              "      <td>20</td>\n",
              "      <td>LORETO - CASORETTO - NOLO</td>\n",
              "      <td>9.227714</td>\n",
              "      <td>45.492876</td>\n",
              "      <td>(45.49287600000008;9.22771350000005)</td>\n",
              "    </tr>\n",
              "    <tr>\n",
              "      <th>14</th>\n",
              "      <td>VIA BENOZZO GOZZOLI 51</td>\n",
              "      <td>02-48945239</td>\n",
              "      <td>02-48945202</td>\n",
              "      <td>20152</td>\n",
              "      <td>7</td>\n",
              "      <td>55</td>\n",
              "      <td>BAGGIO - Q.RE DEGLI OLMI - Q.RE VALSESIA</td>\n",
              "      <td>9.090990</td>\n",
              "      <td>45.455607</td>\n",
              "      <td>(45.45560700000004;9.090990000000033)</td>\n",
              "    </tr>\n",
              "    <tr>\n",
              "      <th>15</th>\n",
              "      <td>VIA BOVISASCA 173</td>\n",
              "      <td>02-3573683</td>\n",
              "      <td>02-39000632</td>\n",
              "      <td>20161</td>\n",
              "      <td>9</td>\n",
              "      <td>81</td>\n",
              "      <td>BOVISASCA</td>\n",
              "      <td>9.152855</td>\n",
              "      <td>45.519456</td>\n",
              "      <td>(45.519456269000045;9.152854782000077)</td>\n",
              "    </tr>\n",
              "  </tbody>\n",
              "</table>\n",
              "</div>"
            ],
            "text/plain": [
              "                       Indirizzo  ...                                Location\n",
              "10  VIA ALFREDO CAPPELLINI 17/19  ...   (45.48195000000004;9.201735000000042)\n",
              "11        VIA ANDREA VOCHIERI 12  ...   (45.51414300000005;9.168682500000045)\n",
              "12            VIA APPENNINI 77/A  ...   (45.50207400000005;9.104292000000044)\n",
              "13                 VIA ARQUA' 14  ...    (45.49287600000008;9.22771350000005)\n",
              "14        VIA BENOZZO GOZZOLI 51  ...   (45.45560700000004;9.090990000000033)\n",
              "15             VIA BOVISASCA 173  ...  (45.519456269000045;9.152854782000077)\n",
              "\n",
              "[6 rows x 10 columns]"
            ]
          },
          "metadata": {},
          "execution_count": 12
        }
      ]
    },
    {
      "cell_type": "markdown",
      "metadata": {
        "id": "jT4hh-uAUTg8"
      },
      "source": [
        "12. visualizzare la colonna indirizzo e NIL delle righe dalla decima alla quindicesima"
      ]
    },
    {
      "cell_type": "code",
      "metadata": {
        "colab": {
          "base_uri": "https://localhost:8080/",
          "height": 236
        },
        "id": "MEC6pxaQUVdr",
        "outputId": "bb7bf637-c0d6-4e53-f9e5-5a4cfd9264e9"
      },
      "source": [
        "df.loc[10:15,['NIL', 'Indirizzo']]"
      ],
      "execution_count": null,
      "outputs": [
        {
          "output_type": "execute_result",
          "data": {
            "text/html": [
              "<div>\n",
              "<style scoped>\n",
              "    .dataframe tbody tr th:only-of-type {\n",
              "        vertical-align: middle;\n",
              "    }\n",
              "\n",
              "    .dataframe tbody tr th {\n",
              "        vertical-align: top;\n",
              "    }\n",
              "\n",
              "    .dataframe thead th {\n",
              "        text-align: right;\n",
              "    }\n",
              "</style>\n",
              "<table border=\"1\" class=\"dataframe\">\n",
              "  <thead>\n",
              "    <tr style=\"text-align: right;\">\n",
              "      <th></th>\n",
              "      <th>NIL</th>\n",
              "      <th>Indirizzo</th>\n",
              "    </tr>\n",
              "  </thead>\n",
              "  <tbody>\n",
              "    <tr>\n",
              "      <th>10</th>\n",
              "      <td>STAZIONE CENTRALE - PONTE SEVESO</td>\n",
              "      <td>VIA ALFREDO CAPPELLINI 17/19</td>\n",
              "    </tr>\n",
              "    <tr>\n",
              "      <th>11</th>\n",
              "      <td>AFFORI</td>\n",
              "      <td>VIA ANDREA VOCHIERI 12</td>\n",
              "    </tr>\n",
              "    <tr>\n",
              "      <th>12</th>\n",
              "      <td>Q.RE GALLARATESE - Q.RE SAN LEONARDO - LAMPUGNANO</td>\n",
              "      <td>VIA APPENNINI 77/A</td>\n",
              "    </tr>\n",
              "    <tr>\n",
              "      <th>13</th>\n",
              "      <td>LORETO - CASORETTO - NOLO</td>\n",
              "      <td>VIA ARQUA' 14</td>\n",
              "    </tr>\n",
              "    <tr>\n",
              "      <th>14</th>\n",
              "      <td>BAGGIO - Q.RE DEGLI OLMI - Q.RE VALSESIA</td>\n",
              "      <td>VIA BENOZZO GOZZOLI 51</td>\n",
              "    </tr>\n",
              "    <tr>\n",
              "      <th>15</th>\n",
              "      <td>BOVISASCA</td>\n",
              "      <td>VIA BOVISASCA 173</td>\n",
              "    </tr>\n",
              "  </tbody>\n",
              "</table>\n",
              "</div>"
            ],
            "text/plain": [
              "                                                  NIL                     Indirizzo\n",
              "10                   STAZIONE CENTRALE - PONTE SEVESO  VIA ALFREDO CAPPELLINI 17/19\n",
              "11                                             AFFORI        VIA ANDREA VOCHIERI 12\n",
              "12  Q.RE GALLARATESE - Q.RE SAN LEONARDO - LAMPUGNANO            VIA APPENNINI 77/A\n",
              "13                          LORETO - CASORETTO - NOLO                 VIA ARQUA' 14\n",
              "14           BAGGIO - Q.RE DEGLI OLMI - Q.RE VALSESIA        VIA BENOZZO GOZZOLI 51\n",
              "15                                          BOVISASCA             VIA BOVISASCA 173"
            ]
          },
          "metadata": {},
          "execution_count": 14
        }
      ]
    },
    {
      "cell_type": "markdown",
      "metadata": {
        "id": "2oUEIoh4VBrz"
      },
      "source": [
        "13. visualizzare le colonne telefono e fax delle righe 3, 5 e 12"
      ]
    },
    {
      "cell_type": "code",
      "metadata": {
        "colab": {
          "base_uri": "https://localhost:8080/",
          "height": 143
        },
        "id": "uQMKbwQJVDty",
        "outputId": "bff190c0-b5da-4f4b-a365-bccf5f490ae3"
      },
      "source": [
        "df.loc[[3,4,12],['Telefono', 'Fax']]"
      ],
      "execution_count": null,
      "outputs": [
        {
          "output_type": "execute_result",
          "data": {
            "text/html": [
              "<div>\n",
              "<style scoped>\n",
              "    .dataframe tbody tr th:only-of-type {\n",
              "        vertical-align: middle;\n",
              "    }\n",
              "\n",
              "    .dataframe tbody tr th {\n",
              "        vertical-align: top;\n",
              "    }\n",
              "\n",
              "    .dataframe thead th {\n",
              "        text-align: right;\n",
              "    }\n",
              "</style>\n",
              "<table border=\"1\" class=\"dataframe\">\n",
              "  <thead>\n",
              "    <tr style=\"text-align: right;\">\n",
              "      <th></th>\n",
              "      <th>Telefono</th>\n",
              "      <th>Fax</th>\n",
              "    </tr>\n",
              "  </thead>\n",
              "  <tbody>\n",
              "    <tr>\n",
              "      <th>3</th>\n",
              "      <td>NaN</td>\n",
              "      <td>NaN</td>\n",
              "    </tr>\n",
              "    <tr>\n",
              "      <th>4</th>\n",
              "      <td>02-76023056</td>\n",
              "      <td>02-7837251</td>\n",
              "    </tr>\n",
              "    <tr>\n",
              "      <th>12</th>\n",
              "      <td>02-3535414</td>\n",
              "      <td>02-3538072</td>\n",
              "    </tr>\n",
              "  </tbody>\n",
              "</table>\n",
              "</div>"
            ],
            "text/plain": [
              "       Telefono         Fax\n",
              "3           NaN         NaN\n",
              "4   02-76023056  02-7837251\n",
              "12   02-3535414  02-3538072"
            ]
          },
          "metadata": {},
          "execution_count": 16
        }
      ]
    },
    {
      "cell_type": "markdown",
      "metadata": {
        "id": "SVpnycQWVbD6"
      },
      "source": [
        "14. visualizzare le colonne dalla 2 alla 6 delle righe dalla 3 alla 10"
      ]
    },
    {
      "cell_type": "code",
      "metadata": {
        "colab": {
          "base_uri": "https://localhost:8080/",
          "height": 175
        },
        "id": "Y0Iovn7FVdNa",
        "outputId": "ec1a6817-1887-4189-fbbf-abf9105c3621"
      },
      "source": [
        "df.iloc[3:7,2:9]"
      ],
      "execution_count": null,
      "outputs": [
        {
          "output_type": "execute_result",
          "data": {
            "text/html": [
              "<div>\n",
              "<style scoped>\n",
              "    .dataframe tbody tr th:only-of-type {\n",
              "        vertical-align: middle;\n",
              "    }\n",
              "\n",
              "    .dataframe tbody tr th {\n",
              "        vertical-align: top;\n",
              "    }\n",
              "\n",
              "    .dataframe thead th {\n",
              "        text-align: right;\n",
              "    }\n",
              "</style>\n",
              "<table border=\"1\" class=\"dataframe\">\n",
              "  <thead>\n",
              "    <tr style=\"text-align: right;\">\n",
              "      <th></th>\n",
              "      <th>Fax</th>\n",
              "      <th>CAP</th>\n",
              "      <th>MUNICIPIO</th>\n",
              "      <th>ID_NIL</th>\n",
              "      <th>NIL</th>\n",
              "      <th>LONG_X_4326</th>\n",
              "      <th>LAT_Y_4326</th>\n",
              "    </tr>\n",
              "  </thead>\n",
              "  <tbody>\n",
              "    <tr>\n",
              "      <th>3</th>\n",
              "      <td>NaN</td>\n",
              "      <td>20154</td>\n",
              "      <td>8</td>\n",
              "      <td>69</td>\n",
              "      <td>SARPI</td>\n",
              "      <td>9.158508</td>\n",
              "      <td>45.486540</td>\n",
              "    </tr>\n",
              "    <tr>\n",
              "      <th>4</th>\n",
              "      <td>02-7837251</td>\n",
              "      <td>20121</td>\n",
              "      <td>1</td>\n",
              "      <td>4</td>\n",
              "      <td>GUASTALLA</td>\n",
              "      <td>9.202703</td>\n",
              "      <td>45.471861</td>\n",
              "    </tr>\n",
              "    <tr>\n",
              "      <th>5</th>\n",
              "      <td>02-47714047</td>\n",
              "      <td>20146</td>\n",
              "      <td>6</td>\n",
              "      <td>49</td>\n",
              "      <td>GIAMBELLINO</td>\n",
              "      <td>9.141183</td>\n",
              "      <td>45.450396</td>\n",
              "    </tr>\n",
              "    <tr>\n",
              "      <th>6</th>\n",
              "      <td>02-42255247</td>\n",
              "      <td>20146</td>\n",
              "      <td>6</td>\n",
              "      <td>49</td>\n",
              "      <td>GIAMBELLINO</td>\n",
              "      <td>9.152789</td>\n",
              "      <td>45.452475</td>\n",
              "    </tr>\n",
              "  </tbody>\n",
              "</table>\n",
              "</div>"
            ],
            "text/plain": [
              "           Fax    CAP  MUNICIPIO  ID_NIL          NIL  LONG_X_4326  LAT_Y_4326\n",
              "3          NaN  20154          8      69        SARPI     9.158508   45.486540\n",
              "4   02-7837251  20121          1       4    GUASTALLA     9.202703   45.471861\n",
              "5  02-47714047  20146          6      49  GIAMBELLINO     9.141183   45.450396\n",
              "6  02-42255247  20146          6      49  GIAMBELLINO     9.152789   45.452475"
            ]
          },
          "metadata": {},
          "execution_count": 34
        }
      ]
    },
    {
      "cell_type": "markdown",
      "metadata": {
        "id": "z1K1TeNDXPG_"
      },
      "source": [
        "15. visualizzare il numero di telefono dell'ufficio di piazza Napoli"
      ]
    },
    {
      "cell_type": "code",
      "metadata": {
        "colab": {
          "base_uri": "https://localhost:8080/"
        },
        "id": "kNn8vOY1XQqn",
        "outputId": "257b04b9-3ffd-4184-b151-ec3cd4d2bcd8"
      },
      "source": [
        "df[df['Indirizzo'].str.contains('PIAZZA NAPOLI')].Telefono"
      ],
      "execution_count": null,
      "outputs": [
        {
          "output_type": "execute_result",
          "data": {
            "text/plain": [
              "6    02-42255211\n",
              "Name: Telefono, dtype: object"
            ]
          },
          "metadata": {},
          "execution_count": 37
        }
      ]
    },
    {
      "cell_type": "markdown",
      "metadata": {
        "id": "_ddmfzGoYskj"
      },
      "source": [
        "16. visualizzare l'indirizzo e il numero di telefono degli uffici postali di Niguarda"
      ]
    },
    {
      "cell_type": "code",
      "metadata": {
        "colab": {
          "base_uri": "https://localhost:8080/",
          "height": 108
        },
        "id": "aVxzrX6wYuY6",
        "outputId": "9dcb9856-ef62-4166-91f6-38805a318825"
      },
      "source": [
        "df[df['NIL'].str.contains('NIGUARDA')][['Indirizzo','Telefono']]"
      ],
      "execution_count": null,
      "outputs": [
        {
          "output_type": "execute_result",
          "data": {
            "text/html": [
              "<div>\n",
              "<style scoped>\n",
              "    .dataframe tbody tr th:only-of-type {\n",
              "        vertical-align: middle;\n",
              "    }\n",
              "\n",
              "    .dataframe tbody tr th {\n",
              "        vertical-align: top;\n",
              "    }\n",
              "\n",
              "    .dataframe thead th {\n",
              "        text-align: right;\n",
              "    }\n",
              "</style>\n",
              "<table border=\"1\" class=\"dataframe\">\n",
              "  <thead>\n",
              "    <tr style=\"text-align: right;\">\n",
              "      <th></th>\n",
              "      <th>Indirizzo</th>\n",
              "      <th>Telefono</th>\n",
              "    </tr>\n",
              "  </thead>\n",
              "  <tbody>\n",
              "    <tr>\n",
              "      <th>60</th>\n",
              "      <td>VIA PONALE 6</td>\n",
              "      <td>02-66100185</td>\n",
              "    </tr>\n",
              "    <tr>\n",
              "      <th>76</th>\n",
              "      <td>VIALE GIOVANNI SUZZANI</td>\n",
              "      <td>02-6470400</td>\n",
              "    </tr>\n",
              "  </tbody>\n",
              "</table>\n",
              "</div>"
            ],
            "text/plain": [
              "                 Indirizzo     Telefono\n",
              "60            VIA PONALE 6  02-66100185\n",
              "76  VIALE GIOVANNI SUZZANI   02-6470400"
            ]
          },
          "metadata": {},
          "execution_count": 67
        }
      ]
    },
    {
      "cell_type": "markdown",
      "metadata": {
        "id": "iMaY87pJbzXm"
      },
      "source": [
        "17. visualizzare l'indirizzo e il numero di telefono degli uffici postali dei municipi 1, 2 e 3"
      ]
    },
    {
      "cell_type": "code",
      "metadata": {
        "colab": {
          "base_uri": "https://localhost:8080/",
          "height": 532
        },
        "id": "HoYQV7TWb2jX",
        "outputId": "a348c32f-c76b-4e51-9a38-500e17cf9c16"
      },
      "source": [
        "df.loc[('MUNICPIO'==1) | (df['MUNICIPIO']==2) |(df['MUNICIPIO']==3)][['Indirizzo', 'Telefono']]"
      ],
      "execution_count": null,
      "outputs": [
        {
          "output_type": "execute_result",
          "data": {
            "text/html": [
              "<div>\n",
              "<style scoped>\n",
              "    .dataframe tbody tr th:only-of-type {\n",
              "        vertical-align: middle;\n",
              "    }\n",
              "\n",
              "    .dataframe tbody tr th {\n",
              "        vertical-align: top;\n",
              "    }\n",
              "\n",
              "    .dataframe thead th {\n",
              "        text-align: right;\n",
              "    }\n",
              "</style>\n",
              "<table border=\"1\" class=\"dataframe\">\n",
              "  <thead>\n",
              "    <tr style=\"text-align: right;\">\n",
              "      <th></th>\n",
              "      <th>Indirizzo</th>\n",
              "      <th>Telefono</th>\n",
              "    </tr>\n",
              "  </thead>\n",
              "  <tbody>\n",
              "    <tr>\n",
              "      <th>9</th>\n",
              "      <td>VIA ADELCHI 2</td>\n",
              "      <td>02-2665192</td>\n",
              "    </tr>\n",
              "    <tr>\n",
              "      <th>10</th>\n",
              "      <td>VIA ALFREDO CAPPELLINI 17/19</td>\n",
              "      <td>02-6773311</td>\n",
              "    </tr>\n",
              "    <tr>\n",
              "      <th>13</th>\n",
              "      <td>VIA ARQUA' 14</td>\n",
              "      <td>02-26141687</td>\n",
              "    </tr>\n",
              "    <tr>\n",
              "      <th>16</th>\n",
              "      <td>VIA BRONZINO 7</td>\n",
              "      <td>02-29527423</td>\n",
              "    </tr>\n",
              "    <tr>\n",
              "      <th>21</th>\n",
              "      <td>VIA COMUNE ANTICO 1</td>\n",
              "      <td>02-67070525</td>\n",
              "    </tr>\n",
              "    <tr>\n",
              "      <th>27</th>\n",
              "      <td>VIA DURAZZO 5</td>\n",
              "      <td>02-21040511</td>\n",
              "    </tr>\n",
              "    <tr>\n",
              "      <th>40</th>\n",
              "      <td>VIA GIUSEPPE PECCHIO 1</td>\n",
              "      <td>NaN</td>\n",
              "    </tr>\n",
              "    <tr>\n",
              "      <th>46</th>\n",
              "      <td>VIA LUIGI VARANINI 26/28</td>\n",
              "      <td>02-28181611</td>\n",
              "    </tr>\n",
              "    <tr>\n",
              "      <th>51</th>\n",
              "      <td>VIA MONDOVI' 2</td>\n",
              "      <td>02-26300993</td>\n",
              "    </tr>\n",
              "    <tr>\n",
              "      <th>55</th>\n",
              "      <td>VIA ORTICA 19</td>\n",
              "      <td>02-70061332</td>\n",
              "    </tr>\n",
              "    <tr>\n",
              "      <th>59</th>\n",
              "      <td>VIA PINDARO 29</td>\n",
              "      <td>NaN</td>\n",
              "    </tr>\n",
              "    <tr>\n",
              "      <th>64</th>\n",
              "      <td>VIA ROSOLINO PILO 19/A</td>\n",
              "      <td>02-2046789</td>\n",
              "    </tr>\n",
              "    <tr>\n",
              "      <th>67</th>\n",
              "      <td>VIA SAN MAMETE 16</td>\n",
              "      <td>02-2566786</td>\n",
              "    </tr>\n",
              "    <tr>\n",
              "      <th>71</th>\n",
              "      <td>VIA SCIPIONE PIATTOLI 6</td>\n",
              "      <td>02-26112432</td>\n",
              "    </tr>\n",
              "    <tr>\n",
              "      <th>73</th>\n",
              "      <td>VIALE ANDREA DORIA 48</td>\n",
              "      <td>02-2047169</td>\n",
              "    </tr>\n",
              "    <tr>\n",
              "      <th>75</th>\n",
              "      <td>VIALE EVARISTO STEFINI 12</td>\n",
              "      <td>02-67361911</td>\n",
              "    </tr>\n",
              "  </tbody>\n",
              "</table>\n",
              "</div>"
            ],
            "text/plain": [
              "                       Indirizzo     Telefono\n",
              "9                  VIA ADELCHI 2   02-2665192\n",
              "10  VIA ALFREDO CAPPELLINI 17/19   02-6773311\n",
              "13                 VIA ARQUA' 14  02-26141687\n",
              "16                VIA BRONZINO 7  02-29527423\n",
              "21           VIA COMUNE ANTICO 1  02-67070525\n",
              "27                 VIA DURAZZO 5  02-21040511\n",
              "40        VIA GIUSEPPE PECCHIO 1          NaN\n",
              "46      VIA LUIGI VARANINI 26/28  02-28181611\n",
              "51                VIA MONDOVI' 2  02-26300993\n",
              "55                 VIA ORTICA 19  02-70061332\n",
              "59                VIA PINDARO 29          NaN\n",
              "64        VIA ROSOLINO PILO 19/A   02-2046789\n",
              "67             VIA SAN MAMETE 16   02-2566786\n",
              "71       VIA SCIPIONE PIATTOLI 6  02-26112432\n",
              "73         VIALE ANDREA DORIA 48   02-2047169\n",
              "75     VIALE EVARISTO STEFINI 12  02-67361911"
            ]
          },
          "metadata": {},
          "execution_count": 65
        }
      ]
    },
    {
      "cell_type": "markdown",
      "metadata": {
        "id": "DaZoaobge6U-"
      },
      "source": [
        "18. visualizzare gli uffici di cui non si conosce il numero di telefono o il fax\n"
      ]
    },
    {
      "cell_type": "code",
      "metadata": {
        "colab": {
          "base_uri": "https://localhost:8080/"
        },
        "id": "fBbnd1Kee8Q_",
        "outputId": "7d55611b-b1db-419f-ca76-49bbf28267be"
      },
      "source": [
        "df[df['Telefono'].isnull() | df['Fax'].isnull()]['Indirizzo']"
      ],
      "execution_count": null,
      "outputs": [
        {
          "output_type": "execute_result",
          "data": {
            "text/plain": [
              "3           CORSO SEMPIONE 94\n",
              "26       VIA DELLA MOSCOVA 30\n",
              "31    VIA FILIPPO SASSETTI 27\n",
              "40     VIA GIUSEPPE PECCHIO 1\n",
              "59             VIA PINDARO 29\n",
              "Name: Indirizzo, dtype: object"
            ]
          },
          "metadata": {},
          "execution_count": 76
        }
      ]
    },
    {
      "cell_type": "markdown",
      "metadata": {
        "id": "ycfu7dUAhAFV"
      },
      "source": [
        "19. visualizzare il numero di uffici per ogni Nucleo di Identità Locale (NIL)"
      ]
    },
    {
      "cell_type": "code",
      "metadata": {
        "colab": {
          "base_uri": "https://localhost:8080/"
        },
        "id": "c_4oRgcihCwc",
        "outputId": "66a0accb-5bb6-4cd8-9ec0-4f6eaefc89c2"
      },
      "source": [
        "df.groupby('NIL')['Indirizzo'].count()"
      ],
      "execution_count": null,
      "outputs": [
        {
          "output_type": "execute_result",
          "data": {
            "text/plain": [
              "NIL\n",
              "ADRIANO                                                        1\n",
              "AFFORI                                                         2\n",
              "BAGGIO - Q.RE DEGLI OLMI - Q.RE VALSESIA                       2\n",
              "BANDE NERE                                                     1\n",
              "BOVISASCA                                                      1\n",
              "BRERA                                                          4\n",
              "BRUZZANO                                                       1\n",
              "BUENOS AIRES - PORTA VENEZIA - PORTA MONFORTE                  4\n",
              "CIMIANO - ROTTOLE - Q.RE FELTRE                                1\n",
              "CITTA' STUDI                                                   1\n",
              "CORSICA                                                        1\n",
              "DE ANGELI - MONTE ROSA                                         1\n",
              "DERGANO                                                        1\n",
              "DUOMO                                                          7\n",
              "FARINI                                                         1\n",
              "FORZE ARMATE                                                   2\n",
              "GIAMBELLINO                                                    3\n",
              "GORLA - PRECOTTO                                               1\n",
              "GRATOSOGLIO - Q.RE MISSAGLIA - Q.RE TERRAZZE                   1\n",
              "GRECO - SEGNANO                                                1\n",
              "GUASTALLA                                                      1\n",
              "ISOLA                                                          3\n",
              "LAMBRATE - ORTICA                                              1\n",
              "LODI - CORVETTO                                                1\n",
              "LORETO - CASORETTO - NOLO                                      2\n",
              "MACIACHINI - MAGGIOLINA                                        2\n",
              "MONCUCCO - SAN CRISTOFORO                                      1\n",
              "MONLUE' - PONTE LAMBRO                                         1\n",
              "NIGUARDA - CA' GRANDA - PRATO CENTENARO - Q.RE FULVIO TESTI    2\n",
              "PADOVA - TURRO - CRESCENZAGO                                   2\n",
              "PAGANO                                                         1\n",
              "PORTA GARIBALDI - PORTA NUOVA                                  1\n",
              "PORTA GENOVA                                                   1\n",
              "PORTA MAGENTA                                                  1\n",
              "PORTA TICINESE - CONCA DEL NAVIGLIO                            1\n",
              "PORTA TICINESE - CONCHETTA                                     1\n",
              "PORTA VIGENTINA - PORTA LODOVICA                               1\n",
              "PTA ROMANA                                                     1\n",
              "Q.RE GALLARATESE - Q.RE SAN LEONARDO - LAMPUGNANO              2\n",
              "QT 8                                                           1\n",
              "QUARTO OGGIARO - VIALBA - MUSOCCO                              2\n",
              "QUINTO ROMANO                                                  1\n",
              "ROGOREDO - SANTA GIULIA                                        1\n",
              "RONCHETTO SUL NAVIGLIO - Q.RE LODOVICO IL MORO                 1\n",
              "SAN SIRO                                                       1\n",
              "SARPI                                                          2\n",
              "SCALO ROMANA                                                   1\n",
              "STADERA - CHIESA ROSSA - Q.RE TORRETTA - CONCA FALLATA         1\n",
              "STAZIONE CENTRALE - PONTE SEVESO                               1\n",
              "TIBALDI                                                        2\n",
              "UMBRIA - MOLISE - CALVAIRATE                                   1\n",
              "VIGENTINO - Q.RE FATIMA                                        1\n",
              "VILLAPIZZONE - CAGNOLA - BOLDINASCO                            1\n",
              "XXII MARZO                                                     2\n",
              "Name: Indirizzo, dtype: int64"
            ]
          },
          "metadata": {},
          "execution_count": 77
        }
      ]
    },
    {
      "cell_type": "markdown",
      "metadata": {
        "id": "L2sAQC7dhNRk"
      },
      "source": [
        "20. visualizzare il numero di uffici per ogni Nucleo di Identità Locale (NIL). Ordinare a partire dal NIL che ha più uffici in giù"
      ]
    },
    {
      "cell_type": "code",
      "metadata": {
        "colab": {
          "base_uri": "https://localhost:8080/"
        },
        "id": "8rZuDqaDhOq0",
        "outputId": "363eb0c1-3919-4982-8545-0b301f160fa9"
      },
      "source": [
        "df.groupby('NIL')['Indirizzo'].count().sort_values(ascending=False)"
      ],
      "execution_count": null,
      "outputs": [
        {
          "output_type": "execute_result",
          "data": {
            "text/plain": [
              "NIL\n",
              "DUOMO                                                          7\n",
              "BRERA                                                          4\n",
              "BUENOS AIRES - PORTA VENEZIA - PORTA MONFORTE                  4\n",
              "ISOLA                                                          3\n",
              "GIAMBELLINO                                                    3\n",
              "QUARTO OGGIARO - VIALBA - MUSOCCO                              2\n",
              "LORETO - CASORETTO - NOLO                                      2\n",
              "MACIACHINI - MAGGIOLINA                                        2\n",
              "NIGUARDA - CA' GRANDA - PRATO CENTENARO - Q.RE FULVIO TESTI    2\n",
              "PADOVA - TURRO - CRESCENZAGO                                   2\n",
              "FORZE ARMATE                                                   2\n",
              "XXII MARZO                                                     2\n",
              "Q.RE GALLARATESE - Q.RE SAN LEONARDO - LAMPUGNANO              2\n",
              "AFFORI                                                         2\n",
              "BAGGIO - Q.RE DEGLI OLMI - Q.RE VALSESIA                       2\n",
              "TIBALDI                                                        2\n",
              "SARPI                                                          2\n",
              "GORLA - PRECOTTO                                               1\n",
              "GUASTALLA                                                      1\n",
              "GRECO - SEGNANO                                                1\n",
              "BANDE NERE                                                     1\n",
              "GRATOSOGLIO - Q.RE MISSAGLIA - Q.RE TERRAZZE                   1\n",
              "CITTA' STUDI                                                   1\n",
              "CIMIANO - ROTTOLE - Q.RE FELTRE                                1\n",
              "FARINI                                                         1\n",
              "BRUZZANO                                                       1\n",
              "DERGANO                                                        1\n",
              "DE ANGELI - MONTE ROSA                                         1\n",
              "LAMBRATE - ORTICA                                              1\n",
              "CORSICA                                                        1\n",
              "BOVISASCA                                                      1\n",
              "MONCUCCO - SAN CRISTOFORO                                      1\n",
              "LODI - CORVETTO                                                1\n",
              "VILLAPIZZONE - CAGNOLA - BOLDINASCO                            1\n",
              "VIGENTINO - Q.RE FATIMA                                        1\n",
              "UMBRIA - MOLISE - CALVAIRATE                                   1\n",
              "STAZIONE CENTRALE - PONTE SEVESO                               1\n",
              "STADERA - CHIESA ROSSA - Q.RE TORRETTA - CONCA FALLATA         1\n",
              "SCALO ROMANA                                                   1\n",
              "SAN SIRO                                                       1\n",
              "RONCHETTO SUL NAVIGLIO - Q.RE LODOVICO IL MORO                 1\n",
              "ROGOREDO - SANTA GIULIA                                        1\n",
              "QUINTO ROMANO                                                  1\n",
              "QT 8                                                           1\n",
              "PTA ROMANA                                                     1\n",
              "PORTA VIGENTINA - PORTA LODOVICA                               1\n",
              "PORTA TICINESE - CONCHETTA                                     1\n",
              "PORTA TICINESE - CONCA DEL NAVIGLIO                            1\n",
              "PORTA MAGENTA                                                  1\n",
              "PORTA GENOVA                                                   1\n",
              "PORTA GARIBALDI - PORTA NUOVA                                  1\n",
              "PAGANO                                                         1\n",
              "MONLUE' - PONTE LAMBRO                                         1\n",
              "ADRIANO                                                        1\n",
              "Name: Indirizzo, dtype: int64"
            ]
          },
          "metadata": {},
          "execution_count": 79
        }
      ]
    },
    {
      "cell_type": "markdown",
      "metadata": {
        "id": "M4bwS8PtiCb9"
      },
      "source": [
        "21. visualizzare i municipi che hanno più di 15 uffici postali"
      ]
    },
    {
      "cell_type": "code",
      "metadata": {
        "colab": {
          "base_uri": "https://localhost:8080/",
          "height": 180
        },
        "id": "EZUGYgXkiDyt",
        "outputId": "d4af960d-4f2a-4c5d-817b-726524e92574"
      },
      "source": [
        "df1 = df.groupby('MUNICIPIO').count()\n",
        "df1.loc[df1['Indirizzo']>= 15]['Indirizzo']"
      ],
      "execution_count": null,
      "outputs": [
        {
          "output_type": "error",
          "ename": "NameError",
          "evalue": "ignored",
          "traceback": [
            "\u001b[0;31m---------------------------------------------------------------------------\u001b[0m",
            "\u001b[0;31mNameError\u001b[0m                                 Traceback (most recent call last)",
            "\u001b[0;32m<ipython-input-2-e89bca0dd4e2>\u001b[0m in \u001b[0;36m<module>\u001b[0;34m()\u001b[0m\n\u001b[0;32m----> 1\u001b[0;31m \u001b[0mdf1\u001b[0m \u001b[0;34m=\u001b[0m \u001b[0mdf\u001b[0m\u001b[0;34m.\u001b[0m\u001b[0mgroupby\u001b[0m\u001b[0;34m(\u001b[0m\u001b[0;34m'NIL'\u001b[0m\u001b[0;34m)\u001b[0m\u001b[0;34m.\u001b[0m\u001b[0mcount\u001b[0m\u001b[0;34m(\u001b[0m\u001b[0;34m)\u001b[0m\u001b[0;34m\u001b[0m\u001b[0;34m\u001b[0m\u001b[0m\n\u001b[0m\u001b[1;32m      2\u001b[0m \u001b[0mdf1\u001b[0m\u001b[0;34m.\u001b[0m\u001b[0mloc\u001b[0m\u001b[0;34m[\u001b[0m\u001b[0mdf1\u001b[0m\u001b[0;34m[\u001b[0m\u001b[0;34m'Indirizzo'\u001b[0m\u001b[0;34m]\u001b[0m\u001b[0;34m>=\u001b[0m \u001b[0;36m15\u001b[0m\u001b[0;34m]\u001b[0m\u001b[0;34m[\u001b[0m\u001b[0;34m'Indirizzo'\u001b[0m\u001b[0;34m]\u001b[0m\u001b[0;34m\u001b[0m\u001b[0;34m\u001b[0m\u001b[0m\n",
            "\u001b[0;31mNameError\u001b[0m: name 'df' is not defined"
          ]
        }
      ]
    },
    {
      "cell_type": "markdown",
      "metadata": {
        "id": "o99dZJOzkelV"
      },
      "source": [
        "22. visualizzare il municipio che ha più uffici postali"
      ]
    },
    {
      "cell_type": "code",
      "metadata": {
        "colab": {
          "base_uri": "https://localhost:8080/",
          "height": 561
        },
        "id": "tGWuB66gkgZj",
        "outputId": "9e65f0ec-ba1a-488e-a6fd-0dead6a544d3"
      },
      "source": [
        "df2 = df.groupby('NIL')['Indirizzo'].count()\n",
        "z = df2[\"NIL\"].max()\n",
        "df2.loc[df2[\"NIL\"] == z][\"NIL\"]"
      ],
      "execution_count": null,
      "outputs": [
        {
          "output_type": "error",
          "ename": "KeyError",
          "evalue": "ignored",
          "traceback": [
            "\u001b[0;31m---------------------------------------------------------------------------\u001b[0m",
            "\u001b[0;31mKeyError\u001b[0m                                  Traceback (most recent call last)",
            "\u001b[0;32m/usr/local/lib/python3.7/dist-packages/pandas/core/indexes/base.py\u001b[0m in \u001b[0;36mget_loc\u001b[0;34m(self, key, method, tolerance)\u001b[0m\n\u001b[1;32m   2897\u001b[0m             \u001b[0;32mtry\u001b[0m\u001b[0;34m:\u001b[0m\u001b[0;34m\u001b[0m\u001b[0;34m\u001b[0m\u001b[0m\n\u001b[0;32m-> 2898\u001b[0;31m                 \u001b[0;32mreturn\u001b[0m \u001b[0mself\u001b[0m\u001b[0;34m.\u001b[0m\u001b[0m_engine\u001b[0m\u001b[0;34m.\u001b[0m\u001b[0mget_loc\u001b[0m\u001b[0;34m(\u001b[0m\u001b[0mcasted_key\u001b[0m\u001b[0;34m)\u001b[0m\u001b[0;34m\u001b[0m\u001b[0;34m\u001b[0m\u001b[0m\n\u001b[0m\u001b[1;32m   2899\u001b[0m             \u001b[0;32mexcept\u001b[0m \u001b[0mKeyError\u001b[0m \u001b[0;32mas\u001b[0m \u001b[0merr\u001b[0m\u001b[0;34m:\u001b[0m\u001b[0;34m\u001b[0m\u001b[0;34m\u001b[0m\u001b[0m\n",
            "\u001b[0;32mpandas/_libs/index.pyx\u001b[0m in \u001b[0;36mpandas._libs.index.IndexEngine.get_loc\u001b[0;34m()\u001b[0m\n",
            "\u001b[0;32mpandas/_libs/index.pyx\u001b[0m in \u001b[0;36mpandas._libs.index.IndexEngine.get_loc\u001b[0;34m()\u001b[0m\n",
            "\u001b[0;32mpandas/_libs/hashtable_class_helper.pxi\u001b[0m in \u001b[0;36mpandas._libs.hashtable.PyObjectHashTable.get_item\u001b[0;34m()\u001b[0m\n",
            "\u001b[0;32mpandas/_libs/hashtable_class_helper.pxi\u001b[0m in \u001b[0;36mpandas._libs.hashtable.PyObjectHashTable.get_item\u001b[0;34m()\u001b[0m\n",
            "\u001b[0;31mKeyError\u001b[0m: 'NIL'",
            "\nThe above exception was the direct cause of the following exception:\n",
            "\u001b[0;31mKeyError\u001b[0m                                  Traceback (most recent call last)",
            "\u001b[0;32m<ipython-input-10-0cabe4d3fe9b>\u001b[0m in \u001b[0;36m<module>\u001b[0;34m()\u001b[0m\n\u001b[1;32m      1\u001b[0m \u001b[0mdf2\u001b[0m \u001b[0;34m=\u001b[0m \u001b[0mdf\u001b[0m\u001b[0;34m.\u001b[0m\u001b[0mgroupby\u001b[0m\u001b[0;34m(\u001b[0m\u001b[0;34m'NIL'\u001b[0m\u001b[0;34m)\u001b[0m\u001b[0;34m[\u001b[0m\u001b[0;34m'Indirizzo'\u001b[0m\u001b[0;34m]\u001b[0m\u001b[0;34m.\u001b[0m\u001b[0mcount\u001b[0m\u001b[0;34m(\u001b[0m\u001b[0;34m)\u001b[0m\u001b[0;34m\u001b[0m\u001b[0;34m\u001b[0m\u001b[0m\n\u001b[0;32m----> 2\u001b[0;31m \u001b[0mz\u001b[0m \u001b[0;34m=\u001b[0m \u001b[0mdf2\u001b[0m\u001b[0;34m[\u001b[0m\u001b[0;34m\"NIL\"\u001b[0m\u001b[0;34m]\u001b[0m\u001b[0;34m.\u001b[0m\u001b[0mmax\u001b[0m\u001b[0;34m(\u001b[0m\u001b[0;34m)\u001b[0m\u001b[0;34m\u001b[0m\u001b[0;34m\u001b[0m\u001b[0m\n\u001b[0m\u001b[1;32m      3\u001b[0m \u001b[0mdf2\u001b[0m\u001b[0;34m.\u001b[0m\u001b[0mloc\u001b[0m\u001b[0;34m[\u001b[0m\u001b[0mdf2\u001b[0m\u001b[0;34m[\u001b[0m\u001b[0;34m\"NIL\"\u001b[0m\u001b[0;34m]\u001b[0m \u001b[0;34m==\u001b[0m \u001b[0mz\u001b[0m\u001b[0;34m]\u001b[0m\u001b[0;34m[\u001b[0m\u001b[0;34m\"NIL\"\u001b[0m\u001b[0;34m]\u001b[0m\u001b[0;34m\u001b[0m\u001b[0;34m\u001b[0m\u001b[0m\n",
            "\u001b[0;32m/usr/local/lib/python3.7/dist-packages/pandas/core/series.py\u001b[0m in \u001b[0;36m__getitem__\u001b[0;34m(self, key)\u001b[0m\n\u001b[1;32m    880\u001b[0m \u001b[0;34m\u001b[0m\u001b[0m\n\u001b[1;32m    881\u001b[0m         \u001b[0;32melif\u001b[0m \u001b[0mkey_is_scalar\u001b[0m\u001b[0;34m:\u001b[0m\u001b[0;34m\u001b[0m\u001b[0;34m\u001b[0m\u001b[0m\n\u001b[0;32m--> 882\u001b[0;31m             \u001b[0;32mreturn\u001b[0m \u001b[0mself\u001b[0m\u001b[0;34m.\u001b[0m\u001b[0m_get_value\u001b[0m\u001b[0;34m(\u001b[0m\u001b[0mkey\u001b[0m\u001b[0;34m)\u001b[0m\u001b[0;34m\u001b[0m\u001b[0;34m\u001b[0m\u001b[0m\n\u001b[0m\u001b[1;32m    883\u001b[0m \u001b[0;34m\u001b[0m\u001b[0m\n\u001b[1;32m    884\u001b[0m         \u001b[0;32mif\u001b[0m \u001b[0mis_hashable\u001b[0m\u001b[0;34m(\u001b[0m\u001b[0mkey\u001b[0m\u001b[0;34m)\u001b[0m\u001b[0;34m:\u001b[0m\u001b[0;34m\u001b[0m\u001b[0;34m\u001b[0m\u001b[0m\n",
            "\u001b[0;32m/usr/local/lib/python3.7/dist-packages/pandas/core/series.py\u001b[0m in \u001b[0;36m_get_value\u001b[0;34m(self, label, takeable)\u001b[0m\n\u001b[1;32m    988\u001b[0m \u001b[0;34m\u001b[0m\u001b[0m\n\u001b[1;32m    989\u001b[0m         \u001b[0;31m# Similar to Index.get_value, but we do not fall back to positional\u001b[0m\u001b[0;34m\u001b[0m\u001b[0;34m\u001b[0m\u001b[0;34m\u001b[0m\u001b[0m\n\u001b[0;32m--> 990\u001b[0;31m         \u001b[0mloc\u001b[0m \u001b[0;34m=\u001b[0m \u001b[0mself\u001b[0m\u001b[0;34m.\u001b[0m\u001b[0mindex\u001b[0m\u001b[0;34m.\u001b[0m\u001b[0mget_loc\u001b[0m\u001b[0;34m(\u001b[0m\u001b[0mlabel\u001b[0m\u001b[0;34m)\u001b[0m\u001b[0;34m\u001b[0m\u001b[0;34m\u001b[0m\u001b[0m\n\u001b[0m\u001b[1;32m    991\u001b[0m         \u001b[0;32mreturn\u001b[0m \u001b[0mself\u001b[0m\u001b[0;34m.\u001b[0m\u001b[0mindex\u001b[0m\u001b[0;34m.\u001b[0m\u001b[0m_get_values_for_loc\u001b[0m\u001b[0;34m(\u001b[0m\u001b[0mself\u001b[0m\u001b[0;34m,\u001b[0m \u001b[0mloc\u001b[0m\u001b[0;34m,\u001b[0m \u001b[0mlabel\u001b[0m\u001b[0;34m)\u001b[0m\u001b[0;34m\u001b[0m\u001b[0;34m\u001b[0m\u001b[0m\n\u001b[1;32m    992\u001b[0m \u001b[0;34m\u001b[0m\u001b[0m\n",
            "\u001b[0;32m/usr/local/lib/python3.7/dist-packages/pandas/core/indexes/base.py\u001b[0m in \u001b[0;36mget_loc\u001b[0;34m(self, key, method, tolerance)\u001b[0m\n\u001b[1;32m   2898\u001b[0m                 \u001b[0;32mreturn\u001b[0m \u001b[0mself\u001b[0m\u001b[0;34m.\u001b[0m\u001b[0m_engine\u001b[0m\u001b[0;34m.\u001b[0m\u001b[0mget_loc\u001b[0m\u001b[0;34m(\u001b[0m\u001b[0mcasted_key\u001b[0m\u001b[0;34m)\u001b[0m\u001b[0;34m\u001b[0m\u001b[0;34m\u001b[0m\u001b[0m\n\u001b[1;32m   2899\u001b[0m             \u001b[0;32mexcept\u001b[0m \u001b[0mKeyError\u001b[0m \u001b[0;32mas\u001b[0m \u001b[0merr\u001b[0m\u001b[0;34m:\u001b[0m\u001b[0;34m\u001b[0m\u001b[0;34m\u001b[0m\u001b[0m\n\u001b[0;32m-> 2900\u001b[0;31m                 \u001b[0;32mraise\u001b[0m \u001b[0mKeyError\u001b[0m\u001b[0;34m(\u001b[0m\u001b[0mkey\u001b[0m\u001b[0;34m)\u001b[0m \u001b[0;32mfrom\u001b[0m \u001b[0merr\u001b[0m\u001b[0;34m\u001b[0m\u001b[0;34m\u001b[0m\u001b[0m\n\u001b[0m\u001b[1;32m   2901\u001b[0m \u001b[0;34m\u001b[0m\u001b[0m\n\u001b[1;32m   2902\u001b[0m         \u001b[0;32mif\u001b[0m \u001b[0mtolerance\u001b[0m \u001b[0;32mis\u001b[0m \u001b[0;32mnot\u001b[0m \u001b[0;32mNone\u001b[0m\u001b[0;34m:\u001b[0m\u001b[0;34m\u001b[0m\u001b[0;34m\u001b[0m\u001b[0m\n",
            "\u001b[0;31mKeyError\u001b[0m: 'NIL'"
          ]
        }
      ]
    },
    {
      "cell_type": "markdown",
      "metadata": {
        "id": "3JcmjsCtpakK"
      },
      "source": [
        "23. visualizzare il municipio che ha meno uffici postali\n"
      ]
    },
    {
      "cell_type": "code",
      "metadata": {
        "colab": {
          "base_uri": "https://localhost:8080/",
          "height": 170
        },
        "id": "Dg2R0XbUpbNR",
        "outputId": "dfd18636-4a14-4a7b-fd18-4a520a76badb"
      },
      "source": [
        "df2[df2['Indirizzo']== df2['Indirizzo'].min()]"
      ],
      "execution_count": null,
      "outputs": [
        {
          "output_type": "execute_result",
          "data": {
            "text/html": [
              "<div>\n",
              "<style scoped>\n",
              "    .dataframe tbody tr th:only-of-type {\n",
              "        vertical-align: middle;\n",
              "    }\n",
              "\n",
              "    .dataframe tbody tr th {\n",
              "        vertical-align: top;\n",
              "    }\n",
              "\n",
              "    .dataframe thead th {\n",
              "        text-align: right;\n",
              "    }\n",
              "</style>\n",
              "<table border=\"1\" class=\"dataframe\">\n",
              "  <thead>\n",
              "    <tr style=\"text-align: right;\">\n",
              "      <th></th>\n",
              "      <th>Indirizzo</th>\n",
              "      <th>Telefono</th>\n",
              "      <th>Fax</th>\n",
              "      <th>CAP</th>\n",
              "      <th>ID_NIL</th>\n",
              "      <th>NIL</th>\n",
              "      <th>LONG_X_4326</th>\n",
              "      <th>LAT_Y_4326</th>\n",
              "      <th>Location</th>\n",
              "    </tr>\n",
              "    <tr>\n",
              "      <th>MUNICIPIO</th>\n",
              "      <th></th>\n",
              "      <th></th>\n",
              "      <th></th>\n",
              "      <th></th>\n",
              "      <th></th>\n",
              "      <th></th>\n",
              "      <th></th>\n",
              "      <th></th>\n",
              "      <th></th>\n",
              "    </tr>\n",
              "  </thead>\n",
              "  <tbody>\n",
              "    <tr>\n",
              "      <th>3</th>\n",
              "      <td>7</td>\n",
              "      <td>6</td>\n",
              "      <td>6</td>\n",
              "      <td>7</td>\n",
              "      <td>7</td>\n",
              "      <td>7</td>\n",
              "      <td>7</td>\n",
              "      <td>7</td>\n",
              "      <td>7</td>\n",
              "    </tr>\n",
              "    <tr>\n",
              "      <th>4</th>\n",
              "      <td>7</td>\n",
              "      <td>7</td>\n",
              "      <td>7</td>\n",
              "      <td>7</td>\n",
              "      <td>7</td>\n",
              "      <td>7</td>\n",
              "      <td>7</td>\n",
              "      <td>7</td>\n",
              "      <td>7</td>\n",
              "    </tr>\n",
              "    <tr>\n",
              "      <th>5</th>\n",
              "      <td>7</td>\n",
              "      <td>7</td>\n",
              "      <td>7</td>\n",
              "      <td>7</td>\n",
              "      <td>7</td>\n",
              "      <td>7</td>\n",
              "      <td>7</td>\n",
              "      <td>7</td>\n",
              "      <td>7</td>\n",
              "    </tr>\n",
              "  </tbody>\n",
              "</table>\n",
              "</div>"
            ],
            "text/plain": [
              "           Indirizzo  Telefono  Fax  ...  LONG_X_4326  LAT_Y_4326  Location\n",
              "MUNICIPIO                            ...                                   \n",
              "3                  7         6    6  ...            7           7         7\n",
              "4                  7         7    7  ...            7           7         7\n",
              "5                  7         7    7  ...            7           7         7\n",
              "\n",
              "[3 rows x 9 columns]"
            ]
          },
          "metadata": {},
          "execution_count": 92
        }
      ]
    },
    {
      "cell_type": "markdown",
      "metadata": {
        "id": "xIhwWpdYp5YK"
      },
      "source": [
        "24. visualizzare il numero medio di uffici postali in ogni municipio\n"
      ]
    },
    {
      "cell_type": "code",
      "metadata": {
        "colab": {
          "base_uri": "https://localhost:8080/"
        },
        "id": "ZMYjZNz3p7DX",
        "outputId": "c9e49487-6f3c-4edf-b16e-fccaa37bf3dc"
      },
      "source": [
        "df3 = df.groupby('MUNICIPIO')['Indirizzo'].count().mean()\n",
        "df3"
      ],
      "execution_count": null,
      "outputs": [
        {
          "output_type": "execute_result",
          "data": {
            "text/plain": [
              "9.11111111111111"
            ]
          },
          "metadata": {},
          "execution_count": 96
        }
      ]
    },
    {
      "cell_type": "markdown",
      "metadata": {
        "id": "p819WPMEqly5"
      },
      "source": [
        "25. visualizzare gli uffici postali che hanno un numero di uffici postali superiore alla media"
      ]
    },
    {
      "cell_type": "code",
      "metadata": {
        "colab": {
          "base_uri": "https://localhost:8080/",
          "height": 138
        },
        "id": "58NBlucOqo1K",
        "outputId": "1312e296-dee5-409f-ef6b-1d2c27ff9522"
      },
      "source": [
        "media = df.groupby('MUNICIPIO').count()\n",
        "media[media['Indirizzo'] > media['Indirizzo'].mean()]"
      ],
      "execution_count": null,
      "outputs": [
        {
          "output_type": "execute_result",
          "data": {
            "text/html": [
              "<div>\n",
              "<style scoped>\n",
              "    .dataframe tbody tr th:only-of-type {\n",
              "        vertical-align: middle;\n",
              "    }\n",
              "\n",
              "    .dataframe tbody tr th {\n",
              "        vertical-align: top;\n",
              "    }\n",
              "\n",
              "    .dataframe thead th {\n",
              "        text-align: right;\n",
              "    }\n",
              "</style>\n",
              "<table border=\"1\" class=\"dataframe\">\n",
              "  <thead>\n",
              "    <tr style=\"text-align: right;\">\n",
              "      <th></th>\n",
              "      <th>Indirizzo</th>\n",
              "      <th>Telefono</th>\n",
              "      <th>Fax</th>\n",
              "      <th>CAP</th>\n",
              "      <th>ID_NIL</th>\n",
              "      <th>NIL</th>\n",
              "      <th>LONG_X_4326</th>\n",
              "      <th>LAT_Y_4326</th>\n",
              "      <th>Location</th>\n",
              "    </tr>\n",
              "    <tr>\n",
              "      <th>MUNICIPIO</th>\n",
              "      <th></th>\n",
              "      <th></th>\n",
              "      <th></th>\n",
              "      <th></th>\n",
              "      <th></th>\n",
              "      <th></th>\n",
              "      <th></th>\n",
              "      <th></th>\n",
              "      <th></th>\n",
              "    </tr>\n",
              "  </thead>\n",
              "  <tbody>\n",
              "    <tr>\n",
              "      <th>1</th>\n",
              "      <td>14</td>\n",
              "      <td>13</td>\n",
              "      <td>13</td>\n",
              "      <td>14</td>\n",
              "      <td>14</td>\n",
              "      <td>14</td>\n",
              "      <td>14</td>\n",
              "      <td>14</td>\n",
              "      <td>14</td>\n",
              "    </tr>\n",
              "    <tr>\n",
              "      <th>9</th>\n",
              "      <td>13</td>\n",
              "      <td>12</td>\n",
              "      <td>12</td>\n",
              "      <td>13</td>\n",
              "      <td>13</td>\n",
              "      <td>13</td>\n",
              "      <td>13</td>\n",
              "      <td>13</td>\n",
              "      <td>13</td>\n",
              "    </tr>\n",
              "  </tbody>\n",
              "</table>\n",
              "</div>"
            ],
            "text/plain": [
              "           Indirizzo  Telefono  Fax  ...  LONG_X_4326  LAT_Y_4326  Location\n",
              "MUNICIPIO                            ...                                   \n",
              "1                 14        13   13  ...           14          14        14\n",
              "9                 13        12   12  ...           13          13        13\n",
              "\n",
              "[2 rows x 9 columns]"
            ]
          },
          "metadata": {},
          "execution_count": 107
        }
      ]
    },
    {
      "cell_type": "markdown",
      "metadata": {
        "id": "Aygg0_SIuFJ_"
      },
      "source": [
        "26. eliminare tutti i record relativi al NIL di Niguarda"
      ]
    },
    {
      "cell_type": "code",
      "metadata": {
        "colab": {
          "base_uri": "https://localhost:8080/",
          "height": 408
        },
        "id": "kdMLZWNAuFeI",
        "outputId": "3410c2f6-697b-4e14-e545-07351796c963"
      },
      "source": [
        "df = df.drop(df[df['NIL'].str.contains('NIGUARDA')].index.tolist())\n",
        "df"
      ],
      "execution_count": null,
      "outputs": [
        {
          "output_type": "execute_result",
          "data": {
            "text/html": [
              "<div>\n",
              "<style scoped>\n",
              "    .dataframe tbody tr th:only-of-type {\n",
              "        vertical-align: middle;\n",
              "    }\n",
              "\n",
              "    .dataframe tbody tr th {\n",
              "        vertical-align: top;\n",
              "    }\n",
              "\n",
              "    .dataframe thead th {\n",
              "        text-align: right;\n",
              "    }\n",
              "</style>\n",
              "<table border=\"1\" class=\"dataframe\">\n",
              "  <thead>\n",
              "    <tr style=\"text-align: right;\">\n",
              "      <th></th>\n",
              "      <th>Indirizzo</th>\n",
              "      <th>Telefono</th>\n",
              "      <th>Fax</th>\n",
              "      <th>CAP</th>\n",
              "      <th>MUNICIPIO</th>\n",
              "      <th>ID_NIL</th>\n",
              "      <th>NIL</th>\n",
              "      <th>LONG_X_4326</th>\n",
              "      <th>LAT_Y_4326</th>\n",
              "      <th>Location</th>\n",
              "    </tr>\n",
              "  </thead>\n",
              "  <tbody>\n",
              "    <tr>\n",
              "      <th>0</th>\n",
              "      <td>BASTIONI DI PORTA VOLTA 7</td>\n",
              "      <td>02-6572655</td>\n",
              "      <td>02-29002004</td>\n",
              "      <td>20121</td>\n",
              "      <td>1</td>\n",
              "      <td>2</td>\n",
              "      <td>BRERA</td>\n",
              "      <td>9.182151</td>\n",
              "      <td>45.479601</td>\n",
              "      <td>(45.47960100000006;9.182151000000033)</td>\n",
              "    </tr>\n",
              "    <tr>\n",
              "      <th>1</th>\n",
              "      <td>CORSO DI PORTA VIGENTINA 35</td>\n",
              "      <td>02-58320771</td>\n",
              "      <td>02-58319779</td>\n",
              "      <td>20122</td>\n",
              "      <td>1</td>\n",
              "      <td>5</td>\n",
              "      <td>PORTA VIGENTINA - PORTA LODOVICA</td>\n",
              "      <td>9.196520</td>\n",
              "      <td>45.452538</td>\n",
              "      <td>(45.45253800000006;9.196519500000022)</td>\n",
              "    </tr>\n",
              "    <tr>\n",
              "      <th>2</th>\n",
              "      <td>CORSO ITALI 16</td>\n",
              "      <td>02-804336</td>\n",
              "      <td>02-86454450</td>\n",
              "      <td>20122</td>\n",
              "      <td>1</td>\n",
              "      <td>1</td>\n",
              "      <td>DUOMO</td>\n",
              "      <td>9.187470</td>\n",
              "      <td>45.457893</td>\n",
              "      <td>(45.45789300000007;9.187470000000076)</td>\n",
              "    </tr>\n",
              "    <tr>\n",
              "      <th>3</th>\n",
              "      <td>CORSO SEMPIONE 94</td>\n",
              "      <td>NaN</td>\n",
              "      <td>NaN</td>\n",
              "      <td>20154</td>\n",
              "      <td>8</td>\n",
              "      <td>69</td>\n",
              "      <td>SARPI</td>\n",
              "      <td>9.158508</td>\n",
              "      <td>45.486540</td>\n",
              "      <td>(45.48654000000005;9.15850800000004)</td>\n",
              "    </tr>\n",
              "    <tr>\n",
              "      <th>4</th>\n",
              "      <td>CORSO VENEZIA 42</td>\n",
              "      <td>02-76023056</td>\n",
              "      <td>02-7837251</td>\n",
              "      <td>20121</td>\n",
              "      <td>1</td>\n",
              "      <td>4</td>\n",
              "      <td>GUASTALLA</td>\n",
              "      <td>9.202703</td>\n",
              "      <td>45.471861</td>\n",
              "      <td>(45.47186100000005;9.202702500000044)</td>\n",
              "    </tr>\n",
              "    <tr>\n",
              "      <th>...</th>\n",
              "      <td>...</td>\n",
              "      <td>...</td>\n",
              "      <td>...</td>\n",
              "      <td>...</td>\n",
              "      <td>...</td>\n",
              "      <td>...</td>\n",
              "      <td>...</td>\n",
              "      <td>...</td>\n",
              "      <td>...</td>\n",
              "      <td>...</td>\n",
              "    </tr>\n",
              "    <tr>\n",
              "      <th>77</th>\n",
              "      <td>VIALE GORIZIA 6</td>\n",
              "      <td>02-8358241</td>\n",
              "      <td>02-8373830</td>\n",
              "      <td>20144</td>\n",
              "      <td>6</td>\n",
              "      <td>44</td>\n",
              "      <td>PORTA TICINESE - CONCHETTA</td>\n",
              "      <td>9.173156</td>\n",
              "      <td>45.454518</td>\n",
              "      <td>(45.454518000000064;9.173155500000064)</td>\n",
              "    </tr>\n",
              "    <tr>\n",
              "      <th>78</th>\n",
              "      <td>VIALE MONTE CENERI SNC</td>\n",
              "      <td>02-32671911</td>\n",
              "      <td>02-32671947</td>\n",
              "      <td>20155</td>\n",
              "      <td>8</td>\n",
              "      <td>71</td>\n",
              "      <td>VILLAPIZZONE - CAGNOLA - BOLDINASCO</td>\n",
              "      <td>9.153592</td>\n",
              "      <td>45.491568</td>\n",
              "      <td>(45.49156751800007;9.153591732000052)</td>\n",
              "    </tr>\n",
              "    <tr>\n",
              "      <th>79</th>\n",
              "      <td>VIALE SABOTINO 21/A</td>\n",
              "      <td>02-58457911</td>\n",
              "      <td>02-58457947</td>\n",
              "      <td>20135</td>\n",
              "      <td>5</td>\n",
              "      <td>27</td>\n",
              "      <td>PTA ROMANA</td>\n",
              "      <td>9.200174</td>\n",
              "      <td>45.451017</td>\n",
              "      <td>(45.451017000000036;9.200173500000062)</td>\n",
              "    </tr>\n",
              "    <tr>\n",
              "      <th>80</th>\n",
              "      <td>VIALE SAN GIMIGNANO 10</td>\n",
              "      <td>02-41411311</td>\n",
              "      <td>02-41411347</td>\n",
              "      <td>20146</td>\n",
              "      <td>6</td>\n",
              "      <td>52</td>\n",
              "      <td>BANDE NERE</td>\n",
              "      <td>9.136526</td>\n",
              "      <td>45.455868</td>\n",
              "      <td>(45.455868000000066;9.136525500000062)</td>\n",
              "    </tr>\n",
              "    <tr>\n",
              "      <th>81</th>\n",
              "      <td>VIALE ZARA 131</td>\n",
              "      <td>02-69911111</td>\n",
              "      <td>02-69911147</td>\n",
              "      <td>20159</td>\n",
              "      <td>9</td>\n",
              "      <td>12</td>\n",
              "      <td>MACIACHINI - MAGGIOLINA</td>\n",
              "      <td>9.196686</td>\n",
              "      <td>45.500193</td>\n",
              "      <td>(45.50019300000008;9.196686000000057)</td>\n",
              "    </tr>\n",
              "  </tbody>\n",
              "</table>\n",
              "<p>80 rows × 10 columns</p>\n",
              "</div>"
            ],
            "text/plain": [
              "                      Indirizzo  ...                                Location\n",
              "0     BASTIONI DI PORTA VOLTA 7  ...   (45.47960100000006;9.182151000000033)\n",
              "1   CORSO DI PORTA VIGENTINA 35  ...   (45.45253800000006;9.196519500000022)\n",
              "2                CORSO ITALI 16  ...   (45.45789300000007;9.187470000000076)\n",
              "3             CORSO SEMPIONE 94  ...    (45.48654000000005;9.15850800000004)\n",
              "4              CORSO VENEZIA 42  ...   (45.47186100000005;9.202702500000044)\n",
              "..                          ...  ...                                     ...\n",
              "77              VIALE GORIZIA 6  ...  (45.454518000000064;9.173155500000064)\n",
              "78       VIALE MONTE CENERI SNC  ...   (45.49156751800007;9.153591732000052)\n",
              "79          VIALE SABOTINO 21/A  ...  (45.451017000000036;9.200173500000062)\n",
              "80       VIALE SAN GIMIGNANO 10  ...  (45.455868000000066;9.136525500000062)\n",
              "81               VIALE ZARA 131  ...   (45.50019300000008;9.196686000000057)\n",
              "\n",
              "[80 rows x 10 columns]"
            ]
          },
          "metadata": {},
          "execution_count": 109
        }
      ]
    },
    {
      "cell_type": "markdown",
      "metadata": {
        "id": "-U7IhsBbvjDA"
      },
      "source": [
        "27. eliminare le ultime tre colonne\n"
      ]
    },
    {
      "cell_type": "code",
      "metadata": {
        "colab": {
          "base_uri": "https://localhost:8080/",
          "height": 419
        },
        "id": "g0ZegVlCvkjX",
        "outputId": "eea4d687-76bb-47dd-ddd1-a365d8e3259e"
      },
      "source": [
        "df = df.drop(columns='Indirizzo')\n",
        "df"
      ],
      "execution_count": null,
      "outputs": [
        {
          "output_type": "execute_result",
          "data": {
            "text/html": [
              "<div>\n",
              "<style scoped>\n",
              "    .dataframe tbody tr th:only-of-type {\n",
              "        vertical-align: middle;\n",
              "    }\n",
              "\n",
              "    .dataframe tbody tr th {\n",
              "        vertical-align: top;\n",
              "    }\n",
              "\n",
              "    .dataframe thead th {\n",
              "        text-align: right;\n",
              "    }\n",
              "</style>\n",
              "<table border=\"1\" class=\"dataframe\">\n",
              "  <thead>\n",
              "    <tr style=\"text-align: right;\">\n",
              "      <th></th>\n",
              "      <th>Telefono</th>\n",
              "      <th>Fax</th>\n",
              "      <th>CAP</th>\n",
              "      <th>MUNICIPIO</th>\n",
              "      <th>ID_NIL</th>\n",
              "      <th>NIL</th>\n",
              "      <th>LONG_X_4326</th>\n",
              "      <th>LAT_Y_4326</th>\n",
              "    </tr>\n",
              "  </thead>\n",
              "  <tbody>\n",
              "    <tr>\n",
              "      <th>0</th>\n",
              "      <td>02-6572655</td>\n",
              "      <td>02-29002004</td>\n",
              "      <td>20121</td>\n",
              "      <td>1</td>\n",
              "      <td>2</td>\n",
              "      <td>BRERA</td>\n",
              "      <td>9.182151</td>\n",
              "      <td>45.479601</td>\n",
              "    </tr>\n",
              "    <tr>\n",
              "      <th>1</th>\n",
              "      <td>02-58320771</td>\n",
              "      <td>02-58319779</td>\n",
              "      <td>20122</td>\n",
              "      <td>1</td>\n",
              "      <td>5</td>\n",
              "      <td>PORTA VIGENTINA - PORTA LODOVICA</td>\n",
              "      <td>9.196520</td>\n",
              "      <td>45.452538</td>\n",
              "    </tr>\n",
              "    <tr>\n",
              "      <th>2</th>\n",
              "      <td>02-804336</td>\n",
              "      <td>02-86454450</td>\n",
              "      <td>20122</td>\n",
              "      <td>1</td>\n",
              "      <td>1</td>\n",
              "      <td>DUOMO</td>\n",
              "      <td>9.187470</td>\n",
              "      <td>45.457893</td>\n",
              "    </tr>\n",
              "    <tr>\n",
              "      <th>3</th>\n",
              "      <td>NaN</td>\n",
              "      <td>NaN</td>\n",
              "      <td>20154</td>\n",
              "      <td>8</td>\n",
              "      <td>69</td>\n",
              "      <td>SARPI</td>\n",
              "      <td>9.158508</td>\n",
              "      <td>45.486540</td>\n",
              "    </tr>\n",
              "    <tr>\n",
              "      <th>4</th>\n",
              "      <td>02-76023056</td>\n",
              "      <td>02-7837251</td>\n",
              "      <td>20121</td>\n",
              "      <td>1</td>\n",
              "      <td>4</td>\n",
              "      <td>GUASTALLA</td>\n",
              "      <td>9.202703</td>\n",
              "      <td>45.471861</td>\n",
              "    </tr>\n",
              "    <tr>\n",
              "      <th>...</th>\n",
              "      <td>...</td>\n",
              "      <td>...</td>\n",
              "      <td>...</td>\n",
              "      <td>...</td>\n",
              "      <td>...</td>\n",
              "      <td>...</td>\n",
              "      <td>...</td>\n",
              "      <td>...</td>\n",
              "    </tr>\n",
              "    <tr>\n",
              "      <th>77</th>\n",
              "      <td>02-8358241</td>\n",
              "      <td>02-8373830</td>\n",
              "      <td>20144</td>\n",
              "      <td>6</td>\n",
              "      <td>44</td>\n",
              "      <td>PORTA TICINESE - CONCHETTA</td>\n",
              "      <td>9.173156</td>\n",
              "      <td>45.454518</td>\n",
              "    </tr>\n",
              "    <tr>\n",
              "      <th>78</th>\n",
              "      <td>02-32671911</td>\n",
              "      <td>02-32671947</td>\n",
              "      <td>20155</td>\n",
              "      <td>8</td>\n",
              "      <td>71</td>\n",
              "      <td>VILLAPIZZONE - CAGNOLA - BOLDINASCO</td>\n",
              "      <td>9.153592</td>\n",
              "      <td>45.491568</td>\n",
              "    </tr>\n",
              "    <tr>\n",
              "      <th>79</th>\n",
              "      <td>02-58457911</td>\n",
              "      <td>02-58457947</td>\n",
              "      <td>20135</td>\n",
              "      <td>5</td>\n",
              "      <td>27</td>\n",
              "      <td>PTA ROMANA</td>\n",
              "      <td>9.200174</td>\n",
              "      <td>45.451017</td>\n",
              "    </tr>\n",
              "    <tr>\n",
              "      <th>80</th>\n",
              "      <td>02-41411311</td>\n",
              "      <td>02-41411347</td>\n",
              "      <td>20146</td>\n",
              "      <td>6</td>\n",
              "      <td>52</td>\n",
              "      <td>BANDE NERE</td>\n",
              "      <td>9.136526</td>\n",
              "      <td>45.455868</td>\n",
              "    </tr>\n",
              "    <tr>\n",
              "      <th>81</th>\n",
              "      <td>02-69911111</td>\n",
              "      <td>02-69911147</td>\n",
              "      <td>20159</td>\n",
              "      <td>9</td>\n",
              "      <td>12</td>\n",
              "      <td>MACIACHINI - MAGGIOLINA</td>\n",
              "      <td>9.196686</td>\n",
              "      <td>45.500193</td>\n",
              "    </tr>\n",
              "  </tbody>\n",
              "</table>\n",
              "<p>82 rows × 8 columns</p>\n",
              "</div>"
            ],
            "text/plain": [
              "       Telefono          Fax  ...  LONG_X_4326  LAT_Y_4326\n",
              "0    02-6572655  02-29002004  ...     9.182151   45.479601\n",
              "1   02-58320771  02-58319779  ...     9.196520   45.452538\n",
              "2     02-804336  02-86454450  ...     9.187470   45.457893\n",
              "3           NaN          NaN  ...     9.158508   45.486540\n",
              "4   02-76023056   02-7837251  ...     9.202703   45.471861\n",
              "..          ...          ...  ...          ...         ...\n",
              "77   02-8358241   02-8373830  ...     9.173156   45.454518\n",
              "78  02-32671911  02-32671947  ...     9.153592   45.491568\n",
              "79  02-58457911  02-58457947  ...     9.200174   45.451017\n",
              "80  02-41411311  02-41411347  ...     9.136526   45.455868\n",
              "81  02-69911111  02-69911147  ...     9.196686   45.500193\n",
              "\n",
              "[82 rows x 8 columns]"
            ]
          },
          "metadata": {},
          "execution_count": 14
        }
      ]
    },
    {
      "cell_type": "markdown",
      "metadata": {
        "id": "GPaovAkgw2e_"
      },
      "source": [
        "28. eliminare i record di cui non si conosce il numero di telefono o il fax\n"
      ]
    },
    {
      "cell_type": "code",
      "metadata": {
        "colab": {
          "base_uri": "https://localhost:8080/",
          "height": 48
        },
        "id": "dJ-14aVcw4Fv",
        "outputId": "13ec8090-f7ee-4907-b401-72ae7c2cd5b9"
      },
      "source": [
        "df= df.drop(df.index[df['Telefono'].isnull() | df['Fax'].isnull()])\n",
        "df[df['Telefono'].isnull() | df['Fax'].isnull()]"
      ],
      "execution_count": null,
      "outputs": [
        {
          "output_type": "execute_result",
          "data": {
            "text/html": [
              "<div>\n",
              "<style scoped>\n",
              "    .dataframe tbody tr th:only-of-type {\n",
              "        vertical-align: middle;\n",
              "    }\n",
              "\n",
              "    .dataframe tbody tr th {\n",
              "        vertical-align: top;\n",
              "    }\n",
              "\n",
              "    .dataframe thead th {\n",
              "        text-align: right;\n",
              "    }\n",
              "</style>\n",
              "<table border=\"1\" class=\"dataframe\">\n",
              "  <thead>\n",
              "    <tr style=\"text-align: right;\">\n",
              "      <th></th>\n",
              "      <th>Indirizzo</th>\n",
              "      <th>Telefono</th>\n",
              "      <th>Fax</th>\n",
              "      <th>CAP</th>\n",
              "      <th>MUNICIPIO</th>\n",
              "      <th>ID_NIL</th>\n",
              "      <th>NIL</th>\n",
              "    </tr>\n",
              "  </thead>\n",
              "  <tbody>\n",
              "  </tbody>\n",
              "</table>\n",
              "</div>"
            ],
            "text/plain": [
              "Empty DataFrame\n",
              "Columns: [Indirizzo, Telefono, Fax, CAP, MUNICIPIO, ID_NIL, NIL]\n",
              "Index: []"
            ]
          },
          "metadata": {},
          "execution_count": 120
        }
      ]
    }
  ]
}
