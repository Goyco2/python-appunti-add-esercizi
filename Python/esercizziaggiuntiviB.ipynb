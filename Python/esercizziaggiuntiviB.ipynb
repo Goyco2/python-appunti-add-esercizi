{
  "nbformat": 4,
  "nbformat_minor": 0,
  "metadata": {
    "colab": {
      "name": "esercizziaggiuntiviB.ipynb",
      "provenance": []
    },
    "kernelspec": {
      "name": "python3",
      "display_name": "Python 3"
    },
    "language_info": {
      "name": "python"
    }
  },
  "cells": [
    {
      "cell_type": "markdown",
      "metadata": {
        "id": "z7VJQNPGeRbC"
      },
      "source": [
        "1. scrivere un programma che dato un indirizzo email nella forma nome.cognome@dominio visualizzi separatamente il nome, il cognome e il dominio"
      ]
    },
    {
      "cell_type": "code",
      "metadata": {
        "id": "hdERa02FeAv4"
      },
      "source": [
        "indirizzo = \"nome.cognome@dominio\"\n",
        "\n",
        "indirizzo2 = str(indirizzo.split(\".\"))\n",
        "print(indirizzo2.split(\"@\"))"
      ],
      "execution_count": null,
      "outputs": []
    },
    {
      "cell_type": "markdown",
      "metadata": {
        "id": "nUtoZCKCeZ0I"
      },
      "source": [
        "2. scrivere un programma che permetta di stabilire se un numero pari è divisibile per 6. L’utente inserisce il numero e il programma, una volta controllato che sia pari, controlla anche se è divisibile per 6."
      ]
    },
    {
      "cell_type": "code",
      "metadata": {
        "id": "iOPkLPBdecrC"
      },
      "source": [
        "num = int(input(\"inserire un numero: \"))\n",
        "\n",
        "if num % 2 == 0:\n",
        "  if num %6 == 0:\n",
        "    print(\"il numero è pari ed e divisibile per 6\")\n",
        "  else:\n",
        "    print(\"il numero e pari ma non e divisibile per 6\")\n",
        "else:\n",
        "  print(\"il numero non e pari\")"
      ],
      "execution_count": null,
      "outputs": []
    },
    {
      "cell_type": "markdown",
      "metadata": {
        "id": "brnlFgj3efdI"
      },
      "source": [
        "3. scrivere un programma per verificare se una parola contiene solo vocali."
      ]
    },
    {
      "cell_type": "code",
      "metadata": {
        "id": "Lq5olKH1eick"
      },
      "source": [
        "parola = input(\"inserire una parola: \")\n",
        "vocali = set(\"aeiou\")\n",
        "contatore = 0\n",
        "for i in parola:\n",
        "  if i in vocali:\n",
        "    contatore +=1\n",
        "\n",
        "if contatore == len(parola):\n",
        "  print(\"solo vocali\")\n",
        "else:\n",
        "  print(\"anche consonanti\")"
      ],
      "execution_count": null,
      "outputs": []
    },
    {
      "cell_type": "markdown",
      "metadata": {
        "id": "M8XJIIYpeljZ"
      },
      "source": [
        "4. scrivere un programma che permetta di caricare una lista di parole e che elimini dalla lista tutte le parole più lunghe di un valore inserito dall’utente"
      ]
    },
    {
      "cell_type": "code",
      "metadata": {
        "id": "jqGftFSfer71"
      },
      "source": [
        "parole = [ele for ele in input(\"inserire parole: \").split()]\n",
        "val = int(input(\"inserire un numero: \"))\n",
        "\n",
        "for i in parole:\n",
        "  if len(i) > val:\n",
        "    parole.remove(i)\n",
        "\n",
        "print(parole)"
      ],
      "execution_count": null,
      "outputs": []
    },
    {
      "cell_type": "markdown",
      "metadata": {
        "id": "dkG4S-h4euK-"
      },
      "source": [
        "5. scrivere una funzione che data una parola restituisca la stessa parola con i caratteri separati da uno spazio"
      ]
    },
    {
      "cell_type": "code",
      "metadata": {
        "id": "LdB-ppEMex4k"
      },
      "source": [
        "def sep(parola):\n",
        "  for i in range(0, len(parola)):\n",
        "    splitted = parola.replace(\"\", \" \")\n",
        "  return splitted\n",
        "\n",
        "parola = input(\"inserire parola: \")\n",
        "print(sep(parola))"
      ],
      "execution_count": null,
      "outputs": []
    },
    {
      "cell_type": "markdown",
      "metadata": {
        "id": "J6p8217Wez3s"
      },
      "source": [
        "6. scrivere un programma che utilizzando la funzione precedente inserisca uno spazio tra i caratteri di tutte le parole presenti in una stringa"
      ]
    },
    {
      "cell_type": "code",
      "metadata": {
        "id": "RDzSG9-Be3mA"
      },
      "source": [
        "frase = input(\"scrivere una frase: \")\n",
        "\n",
        "print(sep(frase))"
      ],
      "execution_count": null,
      "outputs": []
    },
    {
      "cell_type": "markdown",
      "metadata": {
        "id": "so8ugwD9e5mX"
      },
      "source": [
        "7. scrivere un programma che utilizzando una lambda function sostituisca ad ogni elemento di una lista di parole la lunghezza delle parole stesse. Ad esempio se la lista fosse [‘mamma’, ‘stella’, ‘casa’] la lista finale dovrebbe essere [5, 5, 4]"
      ]
    },
    {
      "cell_type": "code",
      "metadata": {
        "id": "Qy-OgnaYfCgK"
      },
      "source": [
        "lista = [ele for ele in input(\"inserire parole: \").split()]\n",
        "\n",
        "conto = list(map(lambda x: len(x), lista))\n",
        "\n",
        "print(conto)"
      ],
      "execution_count": null,
      "outputs": []
    },
    {
      "cell_type": "markdown",
      "metadata": {
        "id": "YEstVb7ZfCyC"
      },
      "source": [
        "8. scrivere un programma che utilizzando una lambda function elimini da una lista di parole tutte quelle più corte di un valore inserito dall’utente. Ad esempio se la lista fosse [‘tre’, ‘stella’, ‘casa’] e l’utente inserisse il valore 5, la lista finale dovrebbe essere [‘stella’]"
      ]
    },
    {
      "cell_type": "code",
      "metadata": {
        "id": "t_e4sRDWfHT3"
      },
      "source": [
        "lista2 = [ele for ele in input(\"inserire parole: \").split()]\n",
        "valore = int(input(\"inserire un valore: \"))\n",
        "filtered = list(filter(lambda x: len(x) > valore, lista2))\n",
        "\n",
        "print(filtered)"
      ],
      "execution_count": null,
      "outputs": []
    },
    {
      "cell_type": "markdown",
      "metadata": {
        "id": "P7azQ4nMfJb5"
      },
      "source": [
        "9. Il centro vaccinale Covid di Milano vuole memorizzare le informazioni dei cittadini che si sono vaccinati. Le informazioni da inserire sono il codice fiscale del cittadino, le date in cui ha fatto la vaccinazione e il vaccino utilizzato. Caricare in una struttura dati apposita i codici fiscali dei cittadini (solo due codici) e le vaccinazioni effettuate (solo due vaccinazioni) e permettere di avere le informazioni relative ad un cittadino di cui si inserisce il codice fiscle. Inventare ovviamente tutte le informazioni."
      ]
    },
    {
      "cell_type": "code",
      "metadata": {
        "colab": {
          "base_uri": "https://localhost:8080/"
        },
        "id": "JMpfWYINfMZz",
        "outputId": "4b9b85ac-b17b-4516-a1e3-e8a76b70c33a"
      },
      "source": [
        "listadidizionari = {'ASDFGH12345' : 'Codice fiscale: ASDFGH12345 ; Data di vaccinazione: 12/07/2021 ; Tipo di vaccino: pfizer .', \n",
        "                    'LOUJBH98762' : 'Codice fiscale: LOUJBH98762 ; Data di vaccinazione: 36/006/2021 ; Tipo di vaccino: jhonson and jhonson .'}\n",
        "\n",
        "codfiscale = input(\"inserire codice fiscale: \")\n",
        "\n",
        "print(listadidizionari[codfiscale])"
      ],
      "execution_count": 1,
      "outputs": [
        {
          "output_type": "stream",
          "name": "stdout",
          "text": [
            "inserire codice fiscale: ASDFGH12345\n",
            "Codice fiscale: ASDFGH12345 ; Data di vaccinazione: 12/07/2021 ; Tipo di vaccino: pfizer .\n"
          ]
        }
      ]
    }
  ]
}
