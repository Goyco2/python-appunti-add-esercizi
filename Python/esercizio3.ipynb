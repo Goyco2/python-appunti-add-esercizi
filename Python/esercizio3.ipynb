{
  "nbformat": 4,
  "nbformat_minor": 0,
  "metadata": {
    "colab": {
      "name": "esercizio3.ipynb",
      "provenance": []
    },
    "kernelspec": {
      "name": "python3",
      "display_name": "Python 3"
    },
    "language_info": {
      "name": "python"
    }
  },
  "cells": [
    {
      "cell_type": "code",
      "metadata": {
        "colab": {
          "base_uri": "https://localhost:8080/"
        },
        "id": "jAQ69ltOviR6",
        "outputId": "f84bb22e-c1ed-4912-f2e8-ece200bdabd6"
      },
      "source": [
        "telefoni = {'Mario': '026476436'  , 'Ugo' : '0263478432', 'Paolo':['02676254', '656859876']}\n",
        "telefoni ['Paolo']"
      ],
      "execution_count": null,
      "outputs": [
        {
          "output_type": "execute_result",
          "data": {
            "text/plain": [
              "['02676254', '656859876']"
            ]
          },
          "metadata": {},
          "execution_count": 3
        }
      ]
    },
    {
      "cell_type": "markdown",
      "metadata": {
        "id": "Rkx0Wie1xJFn"
      },
      "source": [
        "1. Scrivere un programma che crei un dizionario contenente i nomi delle regioni e i nomi dei loro\n",
        "capoluoghi. Il nome della regione deve essere il campo chiave. Chiamare il dizionario\n",
        "capoluoghiRegione"
      ]
    },
    {
      "cell_type": "code",
      "metadata": {
        "colab": {
          "base_uri": "https://localhost:8080/",
          "height": 35
        },
        "id": "zDeB5p8cxJOX",
        "outputId": "afc4956e-6f62-4bb3-f455-b4c3a06fcf00"
      },
      "source": [
        "CapolughiRegione = {'Valle Aosta' : \"Aosta\", \"Piemonte\" : \"Torino\", \"Liguria\" : \"Genova\", \"Lombardia\" : \"Milano\", \"Trentino-Alto Adige\" : \"Trento\", \"Veneto\" : \"Venezia\", \"Friuli-Venezia Giulia\" : \"Trieste\", \"Emilia-Romagna\" : \"Bologna\",\"Toscana\" : \"Firenze\",\"Marche\" : \"Ancona\",\"Lazio\" : \"Roma\",\"Umbria\" : \"Perugia\",\"Abruzzo\" : \"L'Aquila\",\"Molise\" : \"Campobasso\",\"Campania\" : \"Napoli\",\"Puglia\" : \"Bari\",\"Basilicata\" : \"Potenza\",\"Calabria\" : \"Catanzaro\",\"Sicilia\" :\"Palermo\",\"Sardegna\" : \"Cagliari\"}\n",
        "CapolughiRegione [\"Lombardia\"]"
      ],
      "execution_count": 4,
      "outputs": [
        {
          "output_type": "execute_result",
          "data": {
            "application/vnd.google.colaboratory.intrinsic+json": {
              "type": "string"
            },
            "text/plain": [
              "'Milano'"
            ]
          },
          "metadata": {},
          "execution_count": 4
        }
      ]
    },
    {
      "cell_type": "markdown",
      "metadata": {
        "id": "ipYYJHJ82Vkk"
      },
      "source": [
        "2. Scrivere un programma che visualizzi tutti i nomi delle regioni presenti in capoluoghiRegione"
      ]
    },
    {
      "cell_type": "code",
      "metadata": {
        "colab": {
          "base_uri": "https://localhost:8080/"
        },
        "id": "Z7A-tk922V0j",
        "outputId": "2a310d0d-bcd9-4a3d-95b6-2c09106461a4"
      },
      "source": [
        "CapolughiRegione.keys()"
      ],
      "execution_count": 5,
      "outputs": [
        {
          "output_type": "execute_result",
          "data": {
            "text/plain": [
              "dict_keys(['Valle Aosta', 'Piemonte', 'Liguria', 'Lombardia', 'Trentino-Alto Adige', 'Veneto', 'Friuli-Venezia Giulia', 'Emilia-Romagna', 'Toscana', 'Marche', 'Lazio', 'Umbria', 'Abruzzo', 'Molise', 'Campania', 'Puglia', 'Basilicata', 'Calabria', 'Sicilia', 'Sardegna'])"
            ]
          },
          "metadata": {},
          "execution_count": 5
        }
      ]
    },
    {
      "cell_type": "markdown",
      "metadata": {
        "id": "_MAAhHIY30P0"
      },
      "source": [
        "3. Scrivere un programma che visualizzi tutti i nomi dei capoluoghi di regione presenti in\n",
        "capoluoghiRegione"
      ]
    },
    {
      "cell_type": "code",
      "metadata": {
        "colab": {
          "base_uri": "https://localhost:8080/"
        },
        "id": "XVj1tCNB3175",
        "outputId": "2d02e4c6-df63-4355-c634-978df820ce89"
      },
      "source": [
        "CapolughiRegione.values()"
      ],
      "execution_count": 6,
      "outputs": [
        {
          "output_type": "execute_result",
          "data": {
            "text/plain": [
              "dict_values(['Aosta', 'Torino', 'Genova', 'Milano', 'Trento', 'Venezia', 'Trieste', 'Bologna', 'Firenze', 'Ancona', 'Roma', 'Perugia', \"L'Aquila\", 'Campobasso', 'Napoli', 'Bari', 'Potenza', 'Catanzaro', 'Palermo', 'Cagliari'])"
            ]
          },
          "metadata": {},
          "execution_count": 6
        }
      ]
    },
    {
      "cell_type": "markdown",
      "metadata": {
        "id": "2TtNwMc2352Z"
      },
      "source": [
        "4. Scrivere un programma che acquisisca dall’utente il nome di una regione e fornisca il nome del suo\n",
        "capoluogo."
      ]
    },
    {
      "cell_type": "code",
      "metadata": {
        "colab": {
          "base_uri": "https://localhost:8080/"
        },
        "id": "cNg05cIL32Fi",
        "outputId": "f08668e7-71ac-4c11-912c-e890eb8334bf"
      },
      "source": [
        "a = input(\" \")\n",
        "print(CapolughiRegione[a])\n"
      ],
      "execution_count": 7,
      "outputs": [
        {
          "output_type": "stream",
          "name": "stdout",
          "text": [
            " Piemonte\n",
            "Torino\n"
          ]
        }
      ]
    },
    {
      "cell_type": "markdown",
      "metadata": {
        "id": "yavF5XS-6f-p"
      },
      "source": [
        "5. Scrivere un programma che acquisisca dall’utente il nome di un capoluogo e fornisca il nome della\n",
        "regione a cui appartiene."
      ]
    },
    {
      "cell_type": "code",
      "metadata": {
        "colab": {
          "base_uri": "https://localhost:8080/",
          "height": 197
        },
        "id": "ypiRLqJJ6iYA",
        "outputId": "ff3d45e1-a752-4aec-b97a-03c0c72112e0"
      },
      "source": [
        "b = input(\"\")\n",
        "print(CapoluoghiRegione[b])"
      ],
      "execution_count": 17,
      "outputs": [
        {
          "name": "stdout",
          "output_type": "stream",
          "text": [
            "Milano\n"
          ]
        },
        {
          "output_type": "error",
          "ename": "NameError",
          "evalue": "ignored",
          "traceback": [
            "\u001b[0;31m---------------------------------------------------------------------------\u001b[0m",
            "\u001b[0;31mNameError\u001b[0m                                 Traceback (most recent call last)",
            "\u001b[0;32m<ipython-input-17-a8ca65882024>\u001b[0m in \u001b[0;36m<module>\u001b[0;34m()\u001b[0m\n\u001b[1;32m      1\u001b[0m \u001b[0mb\u001b[0m \u001b[0;34m=\u001b[0m \u001b[0minput\u001b[0m\u001b[0;34m(\u001b[0m\u001b[0;34m\"\"\u001b[0m\u001b[0;34m)\u001b[0m\u001b[0;34m\u001b[0m\u001b[0;34m\u001b[0m\u001b[0m\n\u001b[0;32m----> 2\u001b[0;31m \u001b[0mprint\u001b[0m\u001b[0;34m(\u001b[0m\u001b[0mCapoluoghiRegione\u001b[0m\u001b[0;34m[\u001b[0m\u001b[0mb\u001b[0m\u001b[0;34m]\u001b[0m\u001b[0;34m)\u001b[0m\u001b[0;34m\u001b[0m\u001b[0;34m\u001b[0m\u001b[0m\n\u001b[0m",
            "\u001b[0;31mNameError\u001b[0m: name 'CapoluoghiRegione' is not defined"
          ]
        }
      ]
    },
    {
      "cell_type": "markdown",
      "metadata": {
        "id": "JogBDGdI64mz"
      },
      "source": [
        "6. Scrivere un programma che visualizzi tutte le regioni con i rispettivi capoluoghi"
      ]
    },
    {
      "cell_type": "code",
      "metadata": {
        "colab": {
          "base_uri": "https://localhost:8080/"
        },
        "id": "_udH3lUI65Ek",
        "outputId": "1c4aafbf-1a11-4af5-ba28-9ce628b9e593"
      },
      "source": [
        "CapolughiRegione.items()"
      ],
      "execution_count": 9,
      "outputs": [
        {
          "output_type": "execute_result",
          "data": {
            "text/plain": [
              "dict_items([('Valle Aosta', 'Aosta'), ('Piemonte', 'Torino'), ('Liguria', 'Genova'), ('Lombardia', 'Milano'), ('Trentino-Alto Adige', 'Trento'), ('Veneto', 'Venezia'), ('Friuli-Venezia Giulia', 'Trieste'), ('Emilia-Romagna', 'Bologna'), ('Toscana', 'Firenze'), ('Marche', 'Ancona'), ('Lazio', 'Roma'), ('Umbria', 'Perugia'), ('Abruzzo', \"L'Aquila\"), ('Molise', 'Campobasso'), ('Campania', 'Napoli'), ('Puglia', 'Bari'), ('Basilicata', 'Potenza'), ('Calabria', 'Catanzaro'), ('Sicilia', 'Palermo'), ('Sardegna', 'Cagliari')])"
            ]
          },
          "metadata": {},
          "execution_count": 9
        }
      ]
    },
    {
      "cell_type": "markdown",
      "metadata": {
        "id": "2YinTeDXqiOY"
      },
      "source": [
        "7. Scrivere un programma che visualizzi tutte le regioni con i rispettivi capoluoghi. Ordinare le regioni\n",
        "in ordine alfabetico"
      ]
    },
    {
      "cell_type": "code",
      "metadata": {
        "colab": {
          "base_uri": "https://localhost:8080/"
        },
        "id": "xPwxS8UvqioP",
        "outputId": "bcaf5115-21de-4f7d-ec8d-ecc2cf073f48"
      },
      "source": [
        "capo = CapolughiRegione.items()\n",
        "print(sorted(capo))"
      ],
      "execution_count": 20,
      "outputs": [
        {
          "output_type": "stream",
          "name": "stdout",
          "text": [
            "[('Abruzzo', \"L'Aquila\"), ('Basilicata', 'Potenza'), ('Calabria', 'Catanzaro'), ('Campania', 'Napoli'), ('Emilia-Romagna', 'Bologna'), ('Friuli-Venezia Giulia', 'Trieste'), ('Lazio', 'Roma'), ('Liguria', 'Genova'), ('Lombardia', 'Milano'), ('Marche', 'Ancona'), ('Molise', 'Campobasso'), ('Piemonte', 'Torino'), ('Puglia', 'Bari'), ('Sardegna', 'Cagliari'), ('Sicilia', 'Palermo'), ('Toscana', 'Firenze'), ('Trentino-Alto Adige', 'Trento'), ('Umbria', 'Perugia'), ('Valle Aosta', 'Aosta'), ('Veneto', 'Venezia')]\n"
          ]
        }
      ]
    },
    {
      "cell_type": "markdown",
      "metadata": {
        "id": "dIZGjEjzqi2E"
      },
      "source": [
        "8. Scrivere un programma che visualizzi tutte le regioni con i rispettivi capoluoghi. Ordinare i\n",
        "capoluoghi in ordine alfabetico"
      ]
    },
    {
      "cell_type": "code",
      "metadata": {
        "id": "L99bqZm_qjEs"
      },
      "source": [
        ""
      ],
      "execution_count": 19,
      "outputs": []
    },
    {
      "cell_type": "markdown",
      "metadata": {
        "id": "1lTMU_W9uioY"
      },
      "source": [
        "9. Scrivere un programma che carichi in una lista i nomi delle regioni e in un’altra lista i nomi dei\n",
        "rispettivi capoluoghi. Scrivere poi l’istruzione che permette di costruire il dizionario a partire dalle\n",
        "due liste."
      ]
    },
    {
      "cell_type": "code",
      "metadata": {
        "colab": {
          "base_uri": "https://localhost:8080/"
        },
        "id": "tKYh3RVTujcO",
        "outputId": "4e9d5ce2-9375-4be7-a6a9-a098f6510484"
      },
      "source": [
        "listaCapoluoghi = {\"Aosta, \", \"Torino\", \"Genova\", \"Milano\",\"Trento\", \"Venezia\", \"Trieste\", \"Bologna\", \"Firenze\",\"Ancona\", \"Roma\", \"Perugia\", \"L'Aquila\", \"Campobasso\", \"Napoli\", \"Bari\", \"Potenza\", \"Catanzaro\", \"Palermo\", \"Cagliari\"}\n",
        "listaRegioni = {'Valle Aosta', \"Piemonte\", \"Liguria\", \"Lombardia\", \"Trentino-Alto Adige\", \"Veneto\", \"Friuli-Venezia Giulia\", \"Emilia-Romagna\",\"Toscana\",\"Marche\" ,\"Lazio\",\"Umbria\",\"Abruzzo\",\"Molise\",\"Campania\",\"Puglia\",\"Basilicata\",\"Calabria\",\"Sicilia\",\"Sardegna\"}\n",
        "dizionario = dict((listaRegioni,listaCapoluoghi) for listaRegioni,listaCapoluoghi in zip(listaRegioni,listaCapoluoghi))\n",
        "print(dizionario)"
      ],
      "execution_count": 22,
      "outputs": [
        {
          "output_type": "stream",
          "name": "stdout",
          "text": [
            "{'Basilicata': 'Palermo', 'Sicilia': 'Bologna', 'Molise': 'Campobasso', 'Marche': 'Catanzaro', 'Abruzzo': 'Roma', 'Liguria': 'Trento', 'Toscana': 'Perugia', 'Lombardia': 'Potenza', 'Valle Aosta': 'Trieste', 'Puglia': 'Torino', 'Calabria': 'Venezia', 'Veneto': \"L'Aquila\", 'Sardegna': 'Milano', 'Emilia-Romagna': 'Ancona', 'Friuli-Venezia Giulia': 'Bari', 'Campania': 'Napoli', 'Umbria': 'Firenze', 'Lazio': 'Cagliari', 'Piemonte': 'Genova', 'Trentino-Alto Adige': 'Aosta, '}\n"
          ]
        }
      ]
    }
  ]
}
