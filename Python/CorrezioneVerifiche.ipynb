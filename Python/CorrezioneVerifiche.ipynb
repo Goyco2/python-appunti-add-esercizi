{
  "nbformat": 4,
  "nbformat_minor": 0,
  "metadata": {
    "colab": {
      "name": "CorrezioneVerifiche.ipynb",
      "provenance": []
    },
    "kernelspec": {
      "name": "python3",
      "display_name": "Python 3"
    },
    "language_info": {
      "name": "python"
    }
  },
  "cells": [
    {
      "cell_type": "markdown",
      "metadata": {
        "id": "V5xs-G18LQUf"
      },
      "source": [
        "1. Srivere un programma che calcoli il volume di un parallelepipedo data la base, l’altezza e la profondità. I valori inseriti possono essere decimali e il risultato deve essere fornito con due cifre decimali. I valori della base, dell’altezza e della profondità devono essere inseriti dall’utente"
      ]
    },
    {
      "cell_type": "code",
      "metadata": {
        "colab": {
          "base_uri": "https://localhost:8080/"
        },
        "id": "VFGkc4bXLOBH",
        "outputId": "45483261-6d64-438b-c094-c67ce76e4643"
      },
      "source": [
        "base = float(input(\"Inserisci base: \"))\n",
        "altezza = float(input(\"Inserisci altezza: \"))\n",
        "profondita = float(input(\"Inserisci profondità: \"))\n",
        "\n",
        "volume = base * altezza * profondita\n",
        "print(volume)"
      ],
      "execution_count": 1,
      "outputs": [
        {
          "output_type": "stream",
          "name": "stdout",
          "text": [
            "Inserisci base: 8.98\n",
            "Inserisci altezza: 1.87\n",
            "Inserisci profondità: 9\n",
            "151.1334\n"
          ]
        }
      ]
    },
    {
      "cell_type": "markdown",
      "metadata": {
        "id": "jMUYP_rMLfEP"
      },
      "source": [
        "2. Modificare il programma precedente in modo che prima di effettuare il calcolo controlli che i valori inseriti dall’utente siano positivi. Visualizzare gli opportuni messaggi di errore a seconda del verificarsi delle diverse condizioni"
      ]
    },
    {
      "cell_type": "code",
      "metadata": {
        "colab": {
          "base_uri": "https://localhost:8080/"
        },
        "id": "IZcemxC6Lil2",
        "outputId": "dcd89a17-8c48-45f9-898d-401fb93ab98f"
      },
      "source": [
        "base = float(input(\"Inserisci base: \"))\n",
        "if base < 0:\n",
        "  print(\"dati non corretti\")\n",
        "else:\n",
        "  altezza = float(input(\"Inserisci altezza: \"))\n",
        "  if altezza < 0:\n",
        "    print(\"dati non corretti\")\n",
        "  else: \n",
        "    profondita = float(input(\"Inserisci profondità: \"))\n",
        "    if profondita < 0:\n",
        "      print(\"dati non corretti\")\n",
        "    else:\n",
        "      volume = base * altezza * profondita\n",
        "      print(round(volume,2))"
      ],
      "execution_count": 3,
      "outputs": [
        {
          "output_type": "stream",
          "name": "stdout",
          "text": [
            "Inserisci base: 8.70\n",
            "Inserisci altezza: 5\n",
            "Inserisci profondità: 1\n",
            "43.5\n"
          ]
        }
      ]
    },
    {
      "cell_type": "markdown",
      "metadata": {
        "id": "9zuigbwXLlCA"
      },
      "source": [
        "3. \n",
        "Scrivere un programma che permetta di visualizzare tutti i quadrati perfetti minori di un numero intero inserito dall’utente. I quadrati perfetti sono numeri interi che possono essere espressi come il quadrato di un numero intero. Ad esempio 9 è un quadrato perfetto perché è il quadrato del numero intero 3 mentre 8 non è un quadrato perfetto perché non è il quadrato di nessun numero intero)"
      ]
    },
    {
      "cell_type": "code",
      "metadata": {
        "colab": {
          "base_uri": "https://localhost:8080/"
        },
        "id": "UV3RkwKiLn10",
        "outputId": "c3c06dfc-c4c5-4d38-f597-86c082928edc"
      },
      "source": [
        "numero = int(input(\"numero: \"))\n",
        "quadratiPerfetti = []\n",
        "i = 1\n",
        "\n",
        "while i*i < numero:\n",
        "  print(i*i)\n",
        "  i +=1"
      ],
      "execution_count": 2,
      "outputs": [
        {
          "output_type": "stream",
          "name": "stdout",
          "text": [
            "numero: 20\n",
            "1\n",
            "4\n",
            "9\n",
            "16\n"
          ]
        }
      ]
    },
    {
      "cell_type": "markdown",
      "metadata": {
        "id": "FZaH3k5KLv1-"
      },
      "source": [
        "4. Scrivere un programma che inserisca in una lista tutti i numeri interi compresi tra due estremi forniti dall’utente. Al termine, visualizzare la lista dei numeri e la lista al contrario"
      ]
    },
    {
      "cell_type": "code",
      "metadata": {
        "colab": {
          "base_uri": "https://localhost:8080/"
        },
        "id": "NzF0pAQKLyl8",
        "outputId": "082769eb-83e7-4096-e24c-96c32dfe3376"
      },
      "source": [
        "estremo1 = int(input(\"Inserire primo estremo: \"))\n",
        "estremo2 = int(input(\"Inserire secondo estremo: \"))\n",
        "listaNumeri = [i for i in range(estremo1+1,estremo2)]\n",
        "\n",
        "print(listaNumeri)\n",
        "print(sorted(listaNumeri, reverse = True))"
      ],
      "execution_count": 6,
      "outputs": [
        {
          "output_type": "stream",
          "name": "stdout",
          "text": [
            "Inserire primo estremo: 12\n",
            "Inserire secondo estremo: 222\n",
            "[13, 14, 15, 16, 17, 18, 19, 20, 21, 22, 23, 24, 25, 26, 27, 28, 29, 30, 31, 32, 33, 34, 35, 36, 37, 38, 39, 40, 41, 42, 43, 44, 45, 46, 47, 48, 49, 50, 51, 52, 53, 54, 55, 56, 57, 58, 59, 60, 61, 62, 63, 64, 65, 66, 67, 68, 69, 70, 71, 72, 73, 74, 75, 76, 77, 78, 79, 80, 81, 82, 83, 84, 85, 86, 87, 88, 89, 90, 91, 92, 93, 94, 95, 96, 97, 98, 99, 100, 101, 102, 103, 104, 105, 106, 107, 108, 109, 110, 111, 112, 113, 114, 115, 116, 117, 118, 119, 120, 121, 122, 123, 124, 125, 126, 127, 128, 129, 130, 131, 132, 133, 134, 135, 136, 137, 138, 139, 140, 141, 142, 143, 144, 145, 146, 147, 148, 149, 150, 151, 152, 153, 154, 155, 156, 157, 158, 159, 160, 161, 162, 163, 164, 165, 166, 167, 168, 169, 170, 171, 172, 173, 174, 175, 176, 177, 178, 179, 180, 181, 182, 183, 184, 185, 186, 187, 188, 189, 190, 191, 192, 193, 194, 195, 196, 197, 198, 199, 200, 201, 202, 203, 204, 205, 206, 207, 208, 209, 210, 211, 212, 213, 214, 215, 216, 217, 218, 219, 220, 221]\n",
            "[221, 220, 219, 218, 217, 216, 215, 214, 213, 212, 211, 210, 209, 208, 207, 206, 205, 204, 203, 202, 201, 200, 199, 198, 197, 196, 195, 194, 193, 192, 191, 190, 189, 188, 187, 186, 185, 184, 183, 182, 181, 180, 179, 178, 177, 176, 175, 174, 173, 172, 171, 170, 169, 168, 167, 166, 165, 164, 163, 162, 161, 160, 159, 158, 157, 156, 155, 154, 153, 152, 151, 150, 149, 148, 147, 146, 145, 144, 143, 142, 141, 140, 139, 138, 137, 136, 135, 134, 133, 132, 131, 130, 129, 128, 127, 126, 125, 124, 123, 122, 121, 120, 119, 118, 117, 116, 115, 114, 113, 112, 111, 110, 109, 108, 107, 106, 105, 104, 103, 102, 101, 100, 99, 98, 97, 96, 95, 94, 93, 92, 91, 90, 89, 88, 87, 86, 85, 84, 83, 82, 81, 80, 79, 78, 77, 76, 75, 74, 73, 72, 71, 70, 69, 68, 67, 66, 65, 64, 63, 62, 61, 60, 59, 58, 57, 56, 55, 54, 53, 52, 51, 50, 49, 48, 47, 46, 45, 44, 43, 42, 41, 40, 39, 38, 37, 36, 35, 34, 33, 32, 31, 30, 29, 28, 27, 26, 25, 24, 23, 22, 21, 20, 19, 18, 17, 16, 15, 14, 13]\n"
          ]
        }
      ]
    },
    {
      "cell_type": "markdown",
      "metadata": {
        "id": "QejZCPWnL4WQ"
      },
      "source": [
        "5. Scrivere un programma che carichi in una lista chiamata “tutti” i numeri pari compresi tra -30 e +30. Usando poi lo slicing, caricare in una lista chiamata “negativi” gli elementi della lista “tutti” minori di 0 e in una chiamata “positivi” gli elementi della lista “tutti” maggiori di zero. Al termine visualizzare le tre liste"
      ]
    },
    {
      "cell_type": "code",
      "metadata": {
        "colab": {
          "base_uri": "https://localhost:8080/"
        },
        "id": "NEyis_YQL6Ng",
        "outputId": "d4ab15ab-1c05-4775-bced-950badb61f45"
      },
      "source": [
        "tutti = [i for i in range(-30,30, 2)]\n",
        "negativi = tutti[:15]\n",
        "positivi = tutti[15:]\n",
        "\n",
        "print(tutti)\n",
        "print(negativi)\n",
        "print(positivi)"
      ],
      "execution_count": 7,
      "outputs": [
        {
          "output_type": "stream",
          "name": "stdout",
          "text": [
            "[-30, -28, -26, -24, -22, -20, -18, -16, -14, -12, -10, -8, -6, -4, -2, 0, 2, 4, 6, 8, 10, 12, 14, 16, 18, 20, 22, 24, 26, 28]\n",
            "[-30, -28, -26, -24, -22, -20, -18, -16, -14, -12, -10, -8, -6, -4, -2]\n",
            "[0, 2, 4, 6, 8, 10, 12, 14, 16, 18, 20, 22, 24, 26, 28]\n"
          ]
        }
      ]
    },
    {
      "cell_type": "markdown",
      "metadata": {
        "id": "Gkp8WNl-MAaf"
      },
      "source": [
        "6. Scrivere una funzione chiamata volumeSfera che dato il raggio in metri di una sfera calcoli il suo volume. Utilizzare poi quella funzione per scrivere un’altra funzione chiamata pesoSfera che permetta di calcolare il peso di una sfera dato il suo raggio in metri e la sua densità, espressa in grammi al centimetro cubo. Infine, scrivere un programma che calcoli il peso di una sfera di piombo del raggio di un metro (la densità del piombo è di 11.34 g/cm3)"
      ]
    },
    {
      "cell_type": "code",
      "metadata": {
        "colab": {
          "base_uri": "https://localhost:8080/"
        },
        "id": "2kIXuK_mMD0d",
        "outputId": "a0321984-c816-4fa6-beee-57fef7726ade"
      },
      "source": [
        "import math\n",
        "def volumeSfera(x):\n",
        "  return 4/3 * math.pi * (x**3)\n",
        "def pesoSfera(r,d):\n",
        "  return volumeSfera(r)*d\n",
        "print(pesoSfera(1,11.34*1000), 'kg')"
      ],
      "execution_count": 8,
      "outputs": [
        {
          "output_type": "stream",
          "name": "stdout",
          "text": [
            "47500.88092227767 kg\n"
          ]
        }
      ]
    },
    {
      "cell_type": "markdown",
      "metadata": {
        "id": "GdacvckYMT_S"
      },
      "source": [
        "7. data una lista di 100 numeri pari casuali caricata tramite una list comprehension, sostituire ogni elemento con il suo quadrato"
      ]
    },
    {
      "cell_type": "code",
      "metadata": {
        "colab": {
          "base_uri": "https://localhost:8080/",
          "height": 217
        },
        "id": "hcP0bi9NMW6W",
        "outputId": "15c4f290-7398-4a05-a1c4-a213e0f3973c"
      },
      "source": [
        "\n",
        "import random\n",
        "listaNumCas1 = [numero for numero in random if numero%2 == 0]\n",
        "print(listaNumCas1)"
      ],
      "execution_count": 9,
      "outputs": [
        {
          "output_type": "error",
          "ename": "TypeError",
          "evalue": "ignored",
          "traceback": [
            "\u001b[0;31m---------------------------------------------------------------------------\u001b[0m",
            "\u001b[0;31mTypeError\u001b[0m                                 Traceback (most recent call last)",
            "\u001b[0;32m<ipython-input-9-1928f7117100>\u001b[0m in \u001b[0;36m<module>\u001b[0;34m()\u001b[0m\n\u001b[1;32m      1\u001b[0m \u001b[0;34m\u001b[0m\u001b[0m\n\u001b[1;32m      2\u001b[0m \u001b[0;32mimport\u001b[0m \u001b[0mrandom\u001b[0m\u001b[0;34m\u001b[0m\u001b[0;34m\u001b[0m\u001b[0m\n\u001b[0;32m----> 3\u001b[0;31m \u001b[0mlistaNumCas1\u001b[0m \u001b[0;34m=\u001b[0m \u001b[0;34m[\u001b[0m\u001b[0mnumero\u001b[0m \u001b[0;32mfor\u001b[0m \u001b[0mnumero\u001b[0m \u001b[0;32min\u001b[0m \u001b[0mrandom\u001b[0m \u001b[0;32mif\u001b[0m \u001b[0mnumero\u001b[0m\u001b[0;34m%\u001b[0m\u001b[0;36m2\u001b[0m \u001b[0;34m==\u001b[0m \u001b[0;36m0\u001b[0m\u001b[0;34m]\u001b[0m\u001b[0;34m\u001b[0m\u001b[0;34m\u001b[0m\u001b[0m\n\u001b[0m\u001b[1;32m      4\u001b[0m \u001b[0mprint\u001b[0m\u001b[0;34m(\u001b[0m\u001b[0mlistaNumCas1\u001b[0m\u001b[0;34m)\u001b[0m\u001b[0;34m\u001b[0m\u001b[0;34m\u001b[0m\u001b[0m\n",
            "\u001b[0;31mTypeError\u001b[0m: 'module' object is not iterable"
          ]
        }
      ]
    },
    {
      "cell_type": "markdown",
      "metadata": {
        "id": "zPPo7US8Mbbx"
      },
      "source": [
        "8. data una lista di 100 numeri pari casuali caricata tramite una list comprehension, eliminare tutti gli elementi della lista che sono multipli di 6"
      ]
    },
    {
      "cell_type": "code",
      "metadata": {
        "id": "5cwLD3--Mf4f"
      },
      "source": [
        "listaNumCas2 = [numero for numero in range(0,201) if numero%2 == 0]\n",
        "print(listaNumCas)"
      ],
      "execution_count": null,
      "outputs": []
    },
    {
      "cell_type": "markdown",
      "metadata": {
        "id": "Umg-GnViM1Yb"
      },
      "source": [
        "9. progettare una struttura dati che permetta di memorizzare l’orario di partenza e di arrivo dei treni della tratta Milano Roma dell’alta velocità. Ad esempio il treno 9645 parte alle 16.00 e arriva alle 19.10, il treno 9647 parte alle 16.30 e arriva alle 19.40 a Roma. Memorizzare nella struttura dati progettata queste informazioni e scrivere il codice necessario per cercare un treno ed avere l’ora di partenza e l’ora di arrivo. Se non c’è il treno che l’utente inserisce, dare un opportuno messaggio di errore."
      ]
    },
    {
      "cell_type": "code",
      "metadata": {
        "colab": {
          "base_uri": "https://localhost:8080/"
        },
        "id": "wPl1t7dcM1oU",
        "outputId": "983507e3-83b0-48c2-88dc-0d4e185b8fa3"
      },
      "source": [
        "trattaMilanoRoma = [{'Nome':'9645', 'partenza': '16:00', 'arrivo': '19:10'},\n",
        "                    {'Nome':'9647', 'partenza': '16:30', 'arrivo': '19:40'}]\n",
        "\n",
        "NomeTreno = input('inserisci il nome del treno: ')\n",
        "\n",
        "for treno in trattaMilanoRoma:\n",
        "  if treno['Nome'] == NomeTreno:\n",
        "    print(treno['partenza'], treno['arrivo'])\n",
        "    break\n",
        "  else:\n",
        "    print('il treno è inesistente')\n",
        "    break"
      ],
      "execution_count": 11,
      "outputs": [
        {
          "output_type": "stream",
          "name": "stdout",
          "text": [
            "inserisci il nome del treno: 6216\n",
            "il treno è inesistente\n"
          ]
        }
      ]
    },
    {
      "cell_type": "markdown",
      "metadata": {
        "id": "T5pLms-0NTJu"
      },
      "source": [
        "10. scrivere un programma che calcoli le radici (dette anche zeri) di una equazione di secondo grado. L’utente inserisce i valori dei coefficienti a. b e c e il programma calcola gli zeri."
      ]
    },
    {
      "cell_type": "code",
      "metadata": {
        "colab": {
          "base_uri": "https://localhost:8080/"
        },
        "id": "mE0_MfD_NWdo",
        "outputId": "78a5233b-3233-4b45-d317-8058fdce5848"
      },
      "source": [
        "\n",
        "a = float(input(\"Inserisci il coefficiente a: \"))\n",
        "b = float(input(\"Inserisci il coefficiente b: \"))\n",
        "c = float(input(\"Inserisci il coefficiente c: \"))\n",
        "\n",
        "\n",
        "delta = b**2 - 4 * a * c\n",
        "\n",
        "if a < 0 and c > 0:\n",
        "   print(\"impossibile\")\n",
        "if a > 0 and c<0:\n",
        "  print(\"impossibile\")\n",
        "else:\n",
        "  print(\"accettabile\")  \n",
        "if delta > 0:\n",
        " print(delta)"
      ],
      "execution_count": 12,
      "outputs": [
        {
          "output_type": "stream",
          "name": "stdout",
          "text": [
            "Inserisci il coefficiente a: 53.2\n",
            "Inserisci il coefficiente b: 22.2\n",
            "Inserisci il coefficiente c: 22\n",
            "accettabile\n"
          ]
        }
      ]
    },
    {
      "cell_type": "markdown",
      "metadata": {
        "id": "NlOUMCuxNdUH"
      },
      "source": [
        "11. modificare il programma precedente in modo che prima di effettuare il calcolo controlli che i valori inseriti dall’utente siano accettabili. Visualizzare gli opportuni messaggi di errore a seconda del verificarsi delle diverse condizioni"
      ]
    },
    {
      "cell_type": "code",
      "metadata": {
        "colab": {
          "base_uri": "https://localhost:8080/"
        },
        "id": "plBQZawENm6L",
        "outputId": "64e8688c-a082-4bb2-fe54-adf40052387f"
      },
      "source": [
        "from math import sqrt\n",
        "\n",
        "\n",
        "a = 0\n",
        "while a == 0:\n",
        " a = float(input(\"Inserisci il coefficiente a: \"))\n",
        "b = float(input(\"Inserisci il coefficiente b: \"))\n",
        "c = float(input(\"Inserisci il coefficiente c: \"))\n",
        "\n",
        "\n",
        "delta = b**2 - 4 * a * c\n",
        "\n",
        "\n",
        "if delta < 0:\n",
        "    print(\"Delta negativo. Nessuna soluzione reale (impossibile).\")\n",
        "elif delta == 0:\n",
        "    x = (-b) / (2 * a)\n",
        "    print(\"Delta nullo. Unica soluzione x=\", x)\n",
        "else:\n",
        "    x1 = (-b - sqrt(delta)) / (2 * a)\n",
        "    x2 = (-b + sqrt(delta)) / (2 * a)\n",
        "    print(\"Delta positivo. Due soluzioni reali x1=\", x1, \" x2=\", x2)"
      ],
      "execution_count": 32,
      "outputs": [
        {
          "output_type": "stream",
          "name": "stdout",
          "text": [
            "Inserisci il coefficiente a: 4\n",
            "Inserisci il coefficiente b: 2\n",
            "Inserisci il coefficiente c: 8\n",
            "Delta negativo. Nessuna soluzione reale (impossibile).\n"
          ]
        }
      ]
    },
    {
      "cell_type": "markdown",
      "metadata": {
        "id": "9JkRRVCHNqE9"
      },
      "source": [
        "12. \n",
        "scrivere un programma che permetta di visualizzare tutti i multipli di 10 minori di un numero inserito dall’utente."
      ]
    },
    {
      "cell_type": "code",
      "metadata": {
        "colab": {
          "base_uri": "https://localhost:8080/"
        },
        "id": "Q5p-_v48Nukl",
        "outputId": "18670e0c-9817-4317-eb85-6ec22a143a43"
      },
      "source": [
        "numero = int(input('inserisci un numero'))\n",
        "multipli = [numero for numero in range(1,numero) if numero%10 == 0]\n",
        "print(multipli)"
      ],
      "execution_count": 14,
      "outputs": [
        {
          "output_type": "stream",
          "name": "stdout",
          "text": [
            "inserisci un numero24\n",
            "[10, 20]\n"
          ]
        }
      ]
    },
    {
      "cell_type": "markdown",
      "metadata": {
        "id": "via5zzpRN6bW"
      },
      "source": [
        "13. \n",
        "scrivere un programma che inserisca in una lista tutti i numeri interi pari minori di un numero inserito dall’utente. Al termine, visualizzare la lista dei numeri e la lista al contrario"
      ]
    },
    {
      "cell_type": "code",
      "metadata": {
        "colab": {
          "base_uri": "https://localhost:8080/"
        },
        "id": "cb5LlJl-N1Ni",
        "outputId": "ddd15fa8-9111-4369-8678-b1dac8754dfc"
      },
      "source": [
        "\n",
        "numero = int(input(\"inserire numero\"))\n",
        "numeriInteri = []\n",
        "for i in range(0,100):\n",
        "  if i%2==0:\n",
        "    if i < numero: \n",
        "     numeriInteri.append(i)\n",
        "print(numeriInteri)"
      ],
      "execution_count": 17,
      "outputs": [
        {
          "output_type": "stream",
          "name": "stdout",
          "text": [
            "inserire numero40\n",
            "[0, 2, 4, 6, 8, 10, 12, 14, 16, 18, 20, 22, 24, 26, 28, 30, 32, 34, 36, 38]\n"
          ]
        }
      ]
    },
    {
      "cell_type": "markdown",
      "metadata": {
        "id": "lQlrukp2OCCb"
      },
      "source": [
        "14. scrivere un programma che carichi in una lista chiamata “tutti” i numeri dispari compresi tra 0 e 90. Usando poi lo slicing, caricare in una lista chiamata “bassi” gli elementi della prima metà della lista “tutti” e in una lista chiamata “alti” gli elementi della seconda metà della lista. Al termine visualizzare le tre liste"
      ]
    },
    {
      "cell_type": "code",
      "metadata": {
        "colab": {
          "base_uri": "https://localhost:8080/"
        },
        "id": "n6v-xsCIOJL-",
        "outputId": "04f81f7f-549f-4fec-a772-2911f6687da2"
      },
      "source": [
        "tutti = [numero for numero in range(0,91) if numero%2 == 1]\n",
        "print(tutti)\n",
        "bassi = tutti[:23]\n",
        "print(bassi)\n",
        "alti = tutti[23:]\n",
        "print(alti)"
      ],
      "execution_count": 20,
      "outputs": [
        {
          "output_type": "stream",
          "name": "stdout",
          "text": [
            "[1, 3, 5, 7, 9, 11, 13, 15, 17, 19, 21, 23, 25, 27, 29, 31, 33, 35, 37, 39, 41, 43, 45, 47, 49, 51, 53, 55, 57, 59, 61, 63, 65, 67, 69, 71, 73, 75, 77, 79, 81, 83, 85, 87, 89]\n",
            "[1, 3, 5, 7, 9, 11, 13, 15, 17, 19, 21, 23, 25, 27, 29, 31, 33, 35, 37, 39, 41, 43, 45]\n",
            "[47, 49, 51, 53, 55, 57, 59, 61, 63, 65, 67, 69, 71, 73, 75, 77, 79, 81, 83, 85, 87, 89]\n"
          ]
        }
      ]
    },
    {
      "cell_type": "markdown",
      "metadata": {
        "id": "W1K5U2nJONC-"
      },
      "source": [
        "15. \n",
        "scrivere una funzione chiamata volumeCubo che dato il lato in metri di un cubo calcoli il suo volume. Utilizzare poi quella funzione per scrivere un’altra funzione chiamata pesoCubo che permetta di calcolare il peso in kg di un cubo dato il suo lato in metri e la sua densità, espressa in grammi al centimetro cubo. Infine, scrivere un programma che calcoli il peso di un cubo di alluminio avente il lato di un metro (la densità dell’alluminio è di 2.7 g/cm3)"
      ]
    },
    {
      "cell_type": "code",
      "metadata": {
        "colab": {
          "base_uri": "https://localhost:8080/"
        },
        "id": "OnIvlpP8OSp7",
        "outputId": "b44bc779-db82-412b-dd79-86957ff92979"
      },
      "source": [
        "def volumeCubo(l):\n",
        "  return l*3\n",
        "def pesoCubo(l,d):\n",
        "  return volumeCubo(l)*d\n",
        "print(pesoCubo(1,2.7*1000), 'kg')"
      ],
      "execution_count": 21,
      "outputs": [
        {
          "output_type": "stream",
          "name": "stdout",
          "text": [
            "8100.0 kg\n"
          ]
        }
      ]
    },
    {
      "cell_type": "markdown",
      "metadata": {
        "id": "Jor1JHWoOZQc"
      },
      "source": [
        "16. data una lista di 100 numeri pari casuali caricata tramite una list comprehension, sostituire con uno zero tutti gli elementi della lista che sono multipli di 6"
      ]
    },
    {
      "cell_type": "code",
      "metadata": {
        "colab": {
          "base_uri": "https://localhost:8080/"
        },
        "id": "vgoegbbGOd1O",
        "outputId": "e609e08f-5c3d-47f6-d26e-8dccb46bb5bd"
      },
      "source": [
        "listaNum1 = [numero for numero in range(0,200) if numero%2 == 0]\n",
        "\n",
        "for i in listaNum1:\n",
        "  if i%6 == 0:\n",
        "    i = 0\n",
        "print(listaNum1)"
      ],
      "execution_count": 23,
      "outputs": [
        {
          "output_type": "stream",
          "name": "stdout",
          "text": [
            "[0, 2, 4, 6, 8, 10, 12, 14, 16, 18, 20, 22, 24, 26, 28, 30, 32, 34, 36, 38, 40, 42, 44, 46, 48, 50, 52, 54, 56, 58, 60, 62, 64, 66, 68, 70, 72, 74, 76, 78, 80, 82, 84, 86, 88, 90, 92, 94, 96, 98, 100, 102, 104, 106, 108, 110, 112, 114, 116, 118, 120, 122, 124, 126, 128, 130, 132, 134, 136, 138, 140, 142, 144, 146, 148, 150, 152, 154, 156, 158, 160, 162, 164, 166, 168, 170, 172, 174, 176, 178, 180, 182, 184, 186, 188, 190, 192, 194, 196, 198]\n"
          ]
        }
      ]
    },
    {
      "cell_type": "markdown",
      "metadata": {
        "id": "DvtOEAGxOvAH"
      },
      "source": [
        "17. data una lista di 100 numeri pari casuali caricata tramite una list comprehension, eliminare tutti gli elementi della lista minori di un valore intero inserito dall’utente"
      ]
    },
    {
      "cell_type": "code",
      "metadata": {
        "colab": {
          "base_uri": "https://localhost:8080/"
        },
        "id": "RWJj9kjnOv_J",
        "outputId": "5a6c98a7-925a-4c5f-fdbe-42eddd7f3624"
      },
      "source": [
        "\n",
        "listaNum2 = [numero for numero in range(0,200) if numero%2 == 0]\n",
        "numero = int(input('inserisci numero: '))\n",
        "for i in listaNum2:\n",
        "  if i < numero:\n",
        "    listaNum2.remove(i)\n",
        "print(listaNum2)"
      ],
      "execution_count": 24,
      "outputs": [
        {
          "output_type": "stream",
          "name": "stdout",
          "text": [
            "inserisci numero: 5\n",
            "[2, 6, 8, 10, 12, 14, 16, 18, 20, 22, 24, 26, 28, 30, 32, 34, 36, 38, 40, 42, 44, 46, 48, 50, 52, 54, 56, 58, 60, 62, 64, 66, 68, 70, 72, 74, 76, 78, 80, 82, 84, 86, 88, 90, 92, 94, 96, 98, 100, 102, 104, 106, 108, 110, 112, 114, 116, 118, 120, 122, 124, 126, 128, 130, 132, 134, 136, 138, 140, 142, 144, 146, 148, 150, 152, 154, 156, 158, 160, 162, 164, 166, 168, 170, 172, 174, 176, 178, 180, 182, 184, 186, 188, 190, 192, 194, 196, 198]\n"
          ]
        }
      ]
    },
    {
      "cell_type": "markdown",
      "metadata": {
        "id": "21mvvrWoO6z5"
      },
      "source": [
        "18. \n",
        "progettare una struttura dati che permetta di memorizzare l’orario di partenza e di arrivo dei treni della tratta Milano Roma dell’alta velocità. Ad esempio il treno 9645 parte alle 16.00 e arriva alle 19.10, il treno 9647 parte alle 16.30 e arriva alle 19.40 a Roma. Memorizzare nella struttura dati progettata queste informazioni e scrivere il codice necessario per cercare un treno ed avere l’ora di partenza e l’ora di arrivo. Se non c’è il treno che l’utente inserisce, dare un opportuno messaggio di errore."
      ]
    },
    {
      "cell_type": "code",
      "metadata": {
        "colab": {
          "base_uri": "https://localhost:8080/"
        },
        "id": "fRRPl3guO-58",
        "outputId": "1c46719b-a5a4-4d64-c3e1-869eb56180ca"
      },
      "source": [
        "trattaMilanoRoma = [\n",
        "                    {'Nome':'9645', 'partenza': '16:00', 'arrivo': '19:10'},\n",
        "                    {'Nome':'9647', 'partenza': '16:30', 'arrivo': '19:40'}]\n",
        "\n",
        "NomeTreno = input('inserisci il nome del treno: ')\n",
        "\n",
        "for treno in trattaMilanoRoma:\n",
        "  if treno['Nome'] == NomeTreno:\n",
        "    print(treno['partenza'], treno['arrivo'])\n",
        "    break\n",
        "  else:\n",
        "    print('il treno è inesistente')\n",
        "    break"
      ],
      "execution_count": 30,
      "outputs": [
        {
          "output_type": "stream",
          "name": "stdout",
          "text": [
            "inserisci il nome del treno: 9645\n",
            "16:00 19:10\n"
          ]
        }
      ]
    }
  ]
}
