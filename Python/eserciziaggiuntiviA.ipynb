{
  "nbformat": 4,
  "nbformat_minor": 0,
  "metadata": {
    "colab": {
      "name": "eserciziaggiuntiviA.ipynb",/
      "provenance": [],
      "collapsed_sections": []
    },
    "kernelspec": {
      "name": "python3",
      "display_name": "Python 3"
    },
    "language_info": {
      "name": "python"
    }
  },
  "cells": [
    {
      "cell_type": "markdown",
      "metadata": {
        "id": "16shxjQquXO0"
      },
      "source": [
        "1. scrivere un programma cge datat una data nella forma gg/mm/aaaa visualizzi separatamente il giorno , il mese e l'anno"
      ]
    },
    {
      "cell_type": "code",
      "metadata": {
        "colab": {
          "base_uri": "https://localhost:8080/"
        },
        "id": "zN2oR45RrH2T",
        "outputId": "60d9838a-d526-4609-bfb6-71cf4ec23d1d"
      },
      "source": [
        "data = input('inserire data: ' )\n",
        "print(data.split('/')"
      ],
      "execution_count": null,
      "outputs": [
        {
          "output_type": "stream",
          "name": "stdout",
          "text": [
            "inserire data: 15/10/22\n",
            "['15', '10', '22']\n"
          ]
        }
      ]
    },
    {
      "cell_type": "markdown",
      "metadata": {
        "id": "tWc1eyACvPsr"
      },
      "source": [
        "2. scrivere un programma che permetta di stabilire se un numero dispari è divisibile per 5. L’utente inserisce il numero e il programma, una volta controllato che sia dispari, controlla anche se è divisibile per 5.\n"
      ]
    },
    {
      "cell_type": "code",
      "metadata": {
        "colab": {
          "base_uri": "https://localhost:8080/"
        },
        "id": "qsAoMSStvT4l",
        "outputId": "2cee689f-657f-4c47-c91b-e46911e59b25"
      },
      "source": [
        "numero = int(input('inserire numero: '))\n",
        "if numero%2==1:\n",
        "  if numero%5==0:\n",
        "    print('numero valido')\n",
        "  else:\n",
        "    print(\"numero non valido\")\n",
        "else:\n",
        "  print(\"numero non valido\")"
      ],
      "execution_count": null,
      "outputs": [
        {
          "output_type": "stream",
          "name": "stdout",
          "text": [
            "inserire numero: 15\n",
            "numero valido\n"
          ]
        }
      ]
    },
    {
      "cell_type": "markdown",
      "metadata": {
        "id": "2921VBKiw5hd"
      },
      "source": [
        "3. scrivere un programma per verificare se una parola comincia e finisce con la stessa lettera.\n",
        "\n"
      ]
    },
    {
      "cell_type": "code",
      "metadata": {
        "colab": {
          "base_uri": "https://localhost:8080/"
        },
        "id": "-P2j1TGsw6o0",
        "outputId": "49865f74-8629-4b8c-b753-b0e3426f41a4"
      },
      "source": [
        "parola = input()\n",
        "if parola[0] == parola[-1]:\n",
        "  print(\"parola valida\")\n",
        "else:\n",
        "  print(\"parola non valida\")\n"
      ],
      "execution_count": null,
      "outputs": [
        {
          "output_type": "stream",
          "name": "stdout",
          "text": [
            "arancia\n",
            "parola valida\n"
          ]
        }
      ]
    },
    {
      "cell_type": "markdown",
      "metadata": {
        "id": "XzlJreMrxdS7"
      },
      "source": [
        "4. scrivere un programma che permetta di caricare una lista di parole e che elimini dalla lista tutte le parole che iniziano con una lettera inserita dall’utente"
      ]
    },
    {
      "cell_type": "code",
      "metadata": {
        "id": "AfBM-K-uxfyU",
        "colab": {
          "base_uri": "https://localhost:8080/"
        },
        "outputId": "231999b4-521e-4c74-ea30-759f1f16d184"
      },
      "source": [
        "\n",
        "parole = [\"ano\", \"mucca\", \"lampo\", \"tastiera\", \"anatra\"]\n",
        "lettera = str(input(\"inserire lettera: \"))\n",
        "lista = list(filter(lambda x: x[0] != lettera, parole))\n",
        "print(lista)"
      ],
      "execution_count": null,
      "outputs": [
        {
          "output_type": "stream",
          "name": "stdout",
          "text": [
            "inserire lettera: m\n",
            "['ano', 'lampo', 'tastiera', 'anatra']\n"
          ]
        }
      ]
    },
    {
      "cell_type": "markdown",
      "metadata": {
        "id": "2LSqKHNmH2ys"
      },
      "source": [
        "5. scrivere una funzione che data una parola restituisca la stessa parola senza le vocali\n",
        "\n"
      ]
    },
    {
      "cell_type": "code",
      "metadata": {
        "colab": {
          "base_uri": "https://localhost:8080/",
          "height": 35
        },
        "id": "YXN1cAVCH6rV",
        "outputId": "c87e7013-38f6-420a-fb59-426474e89eb9"
      },
      "source": [
        "def novocali(parola):\n",
        "  vocali = set(\"aeiou\")\n",
        "  for x in vocali:\n",
        "    if x in vocali:\n",
        "      parola = parola.replace(x,\"\")\n",
        "  return parola\n",
        "\n",
        "parola = \"anatra\"\n",
        "novocali(parola)"
      ],
      "execution_count": null,
      "outputs": [
        {
          "output_type": "execute_result",
          "data": {
            "application/vnd.google.colaboratory.intrinsic+json": {
              "type": "string"
            },
            "text/plain": [
              "'ntr'"
            ]
          },
          "metadata": {},
          "execution_count": 15
        }
      ]
    },
    {
      "cell_type": "markdown",
      "metadata": {
        "id": "5G9a19pXMGKl"
      },
      "source": [
        "6. scrivere un programma che utilizzando la funzione precedente elimini da una frase composta da più parole tutte le vocali\n",
        "\n"
      ]
    },
    {
      "cell_type": "code",
      "metadata": {
        "colab": {
          "base_uri": "https://localhost:8080/",
          "height": 52
        },
        "id": "27JiCkQmMIHm",
        "outputId": "705143b4-f348-497e-b645-edb1d977b97a"
      },
      "source": [
        "\n",
        "frase = input(\"inserire frase: \")\n",
        "novocali(frase)"
      ],
      "execution_count": null,
      "outputs": [
        {
          "name": "stdout",
          "output_type": "stream",
          "text": [
            "inserire frase: ciao bro \n"
          ]
        },
        {
          "output_type": "execute_result",
          "data": {
            "application/vnd.google.colaboratory.intrinsic+json": {
              "type": "string"
            },
            "text/plain": [
              "'c br '"
            ]
          },
          "metadata": {},
          "execution_count": 17
        }
      ]
    },
    {
      "cell_type": "markdown",
      "metadata": {
        "id": "T-HgSvPfMu5T"
      },
      "source": [
        "7. scrivere un programma che utilizzando una lambda function  sostituisca ad ogni elemento di una lista di parole la lunghezza delle parole stesse. Ad esempio se la lista fosse [‘mamma’, ‘stella’, ‘casa’] la lista finale dovrebbe essere [5, 5, 4]\n"
      ]
    },
    {
      "cell_type": "code",
      "metadata": {
        "colab": {
          "base_uri": "https://localhost:8080/"
        },
        "id": "7Pq4pdgxMwiT",
        "outputId": "de427da6-6781-4c8d-f4ab-beeb4b7b3eed"
      },
      "source": [
        "listaparole = input(\"inserire parole: \").split()\n",
        "contaparole = list(map(lambda x: len(x),listaparole))\n",
        "print(contaparole)"
      ],
      "execution_count": null,
      "outputs": [
        {
          "output_type": "stream",
          "name": "stdout",
          "text": [
            "inserire parole: mammaù\n",
            "[6]\n"
          ]
        }
      ]
    },
    {
      "cell_type": "markdown",
      "metadata": {
        "id": "rLkEziw4Ot2L"
      },
      "source": [
        "8. scrivere un programma che utilizzando una lambda function elimini da una lista di parole tutte quelle più corte di un valore inserito dall’utente.  Ad esempio se la lista fosse [‘tre’, ‘stella’, ‘casa’] e l’utente inserisse il valore 5, la lista finale dovrebbe essere [‘stella’]\n"
      ]
    },
    {
      "cell_type": "code",
      "metadata": {
        "colab": {
          "base_uri": "https://localhost:8080/"
        },
        "id": "RVcB4gN5OxOi",
        "outputId": "111f6174-6289-4d76-ddf0-23b80052f027"
      },
      "source": [
        "valore = int(input(\"inserire valore: \"))\n",
        "parola = [\"dio \",\"cane\",\"bo<\"]\n",
        "piucorte = list(filter(lambda x: len(x)>= valore, parola))\n",
        "print(piucorte)"
      ],
      "execution_count": null,
      "outputs": [
        {
          "output_type": "stream",
          "name": "stdout",
          "text": [
            "inserire valore: 3\n",
            "['dio ', 'cane']\n"
          ]
        }
      ]
    }
  ]
}
