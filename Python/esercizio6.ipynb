{
  "nbformat": 4,
  "nbformat_minor": 0,
  "metadata": {
    "colab": {
      "name": "esercizio6.ipynb",
      "provenance": []
    },
    "kernelspec": {
      "name": "python3",
      "display_name": "Python 3"
    },
    "language_info": {
      "name": "python"
    }
  },
  "cells": [
    {
      "cell_type": "markdown",
      "metadata": {
        "id": "QK83VI7B-Uno"
      },
      "source": [
        "1. scrivere una funzione chiamata sommaTutti che permetta di sommare un numero arbitrario di valori interi passati come parametri. Scrivere poi un programma che permetta all'utente di inserire un numero variabile di interi e visualizzi la somma."
      ]
    },
    {
      "cell_type": "code",
      "metadata": {
        "colab": {
          "base_uri": "https://localhost:8080/"
        },
        "id": "GGJI2heM-SuR",
        "outputId": "23486bf7-c522-4877-8d90-871935423b05"
      },
      "source": [
        "def sommaTutti(x):\n",
        "   return sum(x)\n",
        "\n",
        "numeri = [int(s) for s in input(\"inserisci valori: \").split()]\n",
        "sommaTutti(numeri)"
      ],
      "execution_count": null,
      "outputs": [
        {
          "name": "stdout",
          "output_type": "stream",
          "text": [
            "inserisci valori: 10 55 35 22\n"
          ]
        },
        {
          "output_type": "execute_result",
          "data": {
            "text/plain": [
              "122"
            ]
          },
          "metadata": {},
          "execution_count": 4
        }
      ]
    },
    {
      "cell_type": "markdown",
      "metadata": {
        "id": "LzcXrp7w_1Cx"
      },
      "source": [
        "2. scrivere una lambda function che calcoli la lunghezza della circonferenza di un cerchio dato il raggio. Utilizzarla poi in un programma che chieda all'utente il valore del raggio e visualizzi la lunghezza della circonferenza\n"
      ]
    },
    {
      "cell_type": "code",
      "metadata": {
        "colab": {
          "base_uri": "https://localhost:8080/"
        },
        "id": "1aMzo08LAA5t",
        "outputId": "19007e38-f4eb-4c44-9b21-685842bf6eec"
      },
      "source": [
        "circonferenza = lambda x: x * (2*3.1415926535)\n",
        "circonferenza(int(input(\"inserire valore raggio: \")))"
      ],
      "execution_count": null,
      "outputs": [
        {
          "name": "stdout",
          "output_type": "stream",
          "text": [
            "inserire valore raggio: 10\n"
          ]
        },
        {
          "output_type": "execute_result",
          "data": {
            "text/plain": [
              "62.83185307"
            ]
          },
          "metadata": {},
          "execution_count": 2
        }
      ]
    },
    {
      "cell_type": "markdown",
      "metadata": {
        "id": "Z3iTAs-IABUV"
      },
      "source": [
        "3. scrivere una funzione che calcoli il quadrato di un numero. Scrivere poi una funzione che calcoli la radice quadrata della somma di due numeri. Scrivere poi una lambda function che date le lunghezze di due cateti di un triangolo calcoli l'ipotenusa utilizzando le funzioni definite precedentemente. Utilizzare quest'ultima funzione in un programma che permetta all'utente di inserire le lunghezze dei cateti e di avere in risposta la lunghezza dell'ipotenusa di un triangolo rettangolo"
      ]
    },
    {
      "cell_type": "code",
      "metadata": {
        "id": "uig_jFn_ADkb",
        "colab": {
          "base_uri": "https://localhost:8080/"
        },
        "outputId": "62010106-5317-458e-c48e-fb37449643d9"
      },
      "source": [
        "def quadrato(x):\n",
        "  return x**2\n",
        "\n",
        "def radice(y,z):\n",
        "  j = y + z \n",
        "  return pow(j,0.5)\n",
        "\n",
        "cateto1 =int(input(\"Inserire una lunghezza: \"))\n",
        "cateto2 =int(input(\"Inserire una lunghezza: \"))\n",
        "\n",
        "ipotenusa = lambda x,y: radice(quadrato(x),quadrato(y))\n",
        "print(ipotenusa(cateto1,cateto2))"
      ],
      "execution_count": 11,
      "outputs": [
        {
          "output_type": "stream",
          "name": "stdout",
          "text": [
            "Inserire una lunghezza: 10\n",
            "Inserire una lunghezza: 55\n",
            "55.90169943749474\n"
          ]
        }
      ]
    },
    {
      "cell_type": "markdown",
      "metadata": {
        "id": "U0JHe6hqztjh"
      },
      "source": [
        "4. Scrivere le funzioni quadrato, cubo e radiceQuadrata che calcolano il quadrato, il cubo e la radice quadrata di un numero intero. Scrivere poi un programma che, utilizzando un ciclo for, richiami le tre funzioni su un valore intero inserito dall'utente e visualizzi i tre risultati."
      ]
    },
    {
      "cell_type": "code",
      "metadata": {
        "colab": {
          "base_uri": "https://localhost:8080/"
        },
        "id": "oLdQVy_BzwVx",
        "outputId": "4ad180e3-3e18-40dc-9e99-aa0b9ecd7dbd"
      },
      "source": [
        "def quadrato(num):\n",
        "  return pow(num,2)\n",
        "\n",
        "def cubo(num):\n",
        "  return pow(num,3)\n",
        "\n",
        "def radiceQuadrata(num):\n",
        "  return pow(num,0.5)\n",
        "\n",
        "numero = int(input('Inserire valore: '))\n",
        "\n",
        "print(quadrato(numero))\n",
        "print(cubo(numero))\n",
        "print(radiceQuadrata(numero))"
      ],
      "execution_count": 2,
      "outputs": [
        {
          "output_type": "stream",
          "name": "stdout",
          "text": [
            "Inserire valore: 8\n",
            "64\n",
            "512\n",
            "2.8284271247461903\n"
          ]
        }
      ]
    },
    {
      "cell_type": "markdown",
      "metadata": {
        "id": "J7sFBmm4z06I"
      },
      "source": [
        "5. Utilizzando una lambda function, scrivere un programma che data una lista di numeri interi inserita dall'utente carichi in altre due liste i quadrati e i cubi dei numeri presenti nella lista inserita. Al termine, visualizzare le due liste."
      ]
    },
    {
      "cell_type": "code",
      "metadata": {
        "colab": {
          "base_uri": "https://localhost:8080/"
        },
        "id": "4mH8DVN-z37g",
        "outputId": "73db96b0-d7b5-4909-8504-6b6d3017ce63"
      },
      "source": [
        "lista1 = list(input(\"Inserire la lista1: \").split()) \n",
        "lista1 = list([int(n) for n in lista1])\n",
        "\n",
        "NewList1 = list(map(lambda x: quadrato(x),lista1)) \n",
        "NewList2 = list(map(lambda y: cubo(y),lista1))  \n",
        "\n",
        "print(NewList1,NewList2)"
      ],
      "execution_count": 3,
      "outputs": [
        {
          "output_type": "stream",
          "name": "stdout",
          "text": [
            "Inserire la lista1: 10 5 2\n",
            "[100, 25, 4] [1000, 125, 8]\n"
          ]
        }
      ]
    },
    {
      "cell_type": "markdown",
      "metadata": {
        "id": "0YVwHENm0CW6"
      },
      "source": [
        "6. Utilizzando una lambda function, scrivere un programma che data una lista di numeri interi inserita dall'utente carichi in altre due liste i numeri pari e i numeri dispari presenti nella lista inserita. Al termine, visualizzare le due liste."
      ]
    },
    {
      "cell_type": "code",
      "metadata": {
        "id": "g7YQE8Gz0GOI"
      },
      "source": [
        "lista1 = list(input(\"Inserire la lista1: \").split()) \n",
        "lista1 = list([int(n) for n in lista1])\n",
        "\n",
        "listapari = list(filter(lambda x: x%2 == 0,lista1)) \n",
        "listadispari = list(filter(lambda y: y%2 != 0,lista1))\n",
        "\n",
        "print(listapari,listadispari)"
      ],
      "execution_count": null,
      "outputs": []
    },
    {
      "cell_type": "markdown",
      "metadata": {
        "id": "p3oiaWBH0QdX"
      },
      "source": [
        "7. Cercare su internet che cosa si intende per fattoriale di un numero. Scrivere poi una funzione ricorsiva che calcoli il fattoriale di un numero. Utilizzare poi la funzione creata per scrivere un programma che permetta all'utente di inserire un numero intero e che visualizzi il fattoriale di quel numero."
      ]
    },
    {
      "cell_type": "code",
      "metadata": {
        "colab": {
          "base_uri": "https://localhost:8080/"
        },
        "id": "oHnWBsAt0UaU",
        "outputId": "f4b6c14f-cf65-4087-d91e-3bb6b6b93918"
      },
      "source": [
        "print(\"Il fattoriale è la moltiplicazione di un numero per i suoi antecedenti\")\n",
        "\n",
        "def fattoriale(n):\n",
        "  if n==0:\n",
        "    return 1\n",
        "  else:\n",
        "    return n*fattoriale(n-1)\n",
        "\n",
        "n = int(input('Inserire il numero: ')) \n",
        "\n",
        "print('Il fattoriale è', fattoriale(n))"
      ],
      "execution_count": 5,
      "outputs": [
        {
          "output_type": "stream",
          "name": "stdout",
          "text": [
            "Il fattoriale è la moltiplicazione di un numero per i suoi antecedenti\n",
            "Inserire il numero: 96\n",
            "Il fattoriale è 991677934870949689209571401541893801158183648651267795444376054838492222809091499987689476037000748982075094738965754305639874560000000000000000000000\n"
          ]
        }
      ]
    },
    {
      "cell_type": "markdown",
      "metadata": {
        "id": "B1Sl74P40W0U"
      },
      "source": [
        "8. Svolgere l'esercizio 7, senza ricorsione"
      ]
    },
    {
      "cell_type": "code",
      "metadata": {
        "colab": {
          "base_uri": "https://localhost:8080/"
        },
        "id": "HB8w0g_L0lCO",
        "outputId": "2581fae2-e3ed-49b6-ad2e-f1de4487e60c"
      },
      "source": [
        "n = int(input('Inserire il numero: '))\n",
        "f = 1\n",
        "\n",
        "for i in range(1,n+1):\n",
        "  f*=i\n",
        "\n",
        "print(f)\n"
      ],
      "execution_count": 7,
      "outputs": [
        {
          "output_type": "stream",
          "name": "stdout",
          "text": [
            "Inserire il numero: 96\n",
            "991677934870949689209571401541893801158183648651267795444376054838492222809091499987689476037000748982075094738965754305639874560000000000000000000000\n"
          ]
        }
      ]
    },
    {
      "cell_type": "markdown",
      "metadata": {
        "id": "Xd-lUSsN0pC3"
      },
      "source": [
        "9. Cercare su internet che cosa sono i numeri di Fibonacci. Scrivere poi una funzione ricorsiva che calcoli l'n-esimo numero della sequenza di Fibonacci. Utilizzare poi la funzione creata per scrivere un programma che permetta all'utente di inserire un numero intero e che visualizzi il numero della sequenza di Fibonacci corrispondente."
      ]
    },
    {
      "cell_type": "code",
      "metadata": {
        "colab": {
          "base_uri": "https://localhost:8080/"
        },
        "id": "iM44QMHC0sWv",
        "outputId": "a3023f8e-c8e4-4575-9dd4-054967939cfe"
      },
      "source": [
        "def fib(n):\n",
        "    if n == 0:\n",
        "        return 0;\n",
        "    if n == 1:\n",
        "        return 1;\n",
        "    else:\n",
        "        return fib(n-1) + fib(n-2)\n",
        "\n",
        "num = int(input(\"Inserisci un numero: \"))\n",
        "\n",
        "print(fib(num))\n"
      ],
      "execution_count": 10,
      "outputs": [
        {
          "output_type": "stream",
          "name": "stdout",
          "text": [
            "Inserisci un numero: 15\n",
            "610\n"
          ]
        }
      ]
    }
  ]
}
