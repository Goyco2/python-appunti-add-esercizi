{
  "nbformat": 4,
  "nbformat_minor": 0,
  "metadata": {
    "colab": {
      "name": "esercizio1.ipynb",
      "provenance": []
    },
    "kernelspec": {
      "name": "python3",
      "display_name": "Python 3"
    },
    "language_info": {
      "name": "python"
    }
  },
  "cells": [
    {
      "cell_type": "markdown",
      "metadata": {
        "id": "Zjc4b72Ev7Hu"
      },
      "source": [
        "a. far inserie all'utente due valori interi\n"
      ]
    },
    {
      "cell_type": "code",
      "metadata": {
        "colab": {
          "base_uri": "https://localhost:8080/"
        },
        "id": "84YvOl_dvzO6",
        "outputId": "81b43978-7118-48ad-b434-f778e7a98878"
      },
      "source": [
        "x = int(input(\"inserire il primo numero :\"))\n",
        "y = int(input(\"inserire il secondo numero:\"))"
      ],
      "execution_count": 3,
      "outputs": [
        {
          "name": "stdout",
          "output_type": "stream",
          "text": [
            "inserire il primo numero :10\n",
            "inserire il secondo numero:2\n"
          ]
        }
      ]
    },
    {
      "cell_type": "markdown",
      "metadata": {
        "id": "bKTqzNwqv5K2"
      },
      "source": [
        "\n",
        "b. effettuare le 4 operazioni aritmetiche tra i due numeri"
      ]
    },
    {
      "cell_type": "code",
      "metadata": {
        "colab": {
          "base_uri": "https://localhost:8080/"
        },
        "id": "4CAGcHeNwDuz",
        "outputId": "bf632752-2fce-427a-8434-46082ed7d02d"
      },
      "source": [
        "print(x, \"+\", y, \"-\", x + y)\n",
        "print(x, \"-\", y, \"-\", x - y)\n",
        "print(x, \"*\", y, \"- \", x*y)\n",
        "print(x, \"/\", y, \"- \", x/y)"
      ],
      "execution_count": 4,
      "outputs": [
        {
          "output_type": "stream",
          "name": "stdout",
          "text": [
            "10 + 2 - 12\n",
            "10 - 2 - 8\n",
            "10 * 2 -  20\n",
            "10 / 2 -  5.0\n"
          ]
        }
      ]
    },
    {
      "cell_type": "markdown",
      "metadata": {
        "id": "3vZnf7LHwEHE"
      },
      "source": [
        "c. effettuare l'elevamento a potenza del primo numero per il secondo"
      ]
    },
    {
      "cell_type": "code",
      "metadata": {
        "colab": {
          "base_uri": "https://localhost:8080/"
        },
        "id": "_19yTZ2MwEm0",
        "outputId": "4648bddb-75e7-41e3-a9bb-381ef1dc55c2"
      },
      "source": [
        " print(x**y)"
      ],
      "execution_count": 5,
      "outputs": [
        {
          "output_type": "stream",
          "name": "stdout",
          "text": [
            "100\n"
          ]
        }
      ]
    },
    {
      "cell_type": "markdown",
      "metadata": {
        "id": "8b6W52BiwFCm"
      },
      "source": [
        "d. effettuare il calcolo del resto della divisione tra il primo e il secondo numero"
      ]
    },
    {
      "cell_type": "code",
      "metadata": {
        "colab": {
          "base_uri": "https://localhost:8080/"
        },
        "id": "xGUP1mwFwFj-",
        "outputId": "d917a5d0-ca5c-445f-df51-19c1d0ec20c9"
      },
      "source": [
        "print(x,\"%\", y,\"-\", x%y)"
      ],
      "execution_count": 6,
      "outputs": [
        {
          "output_type": "stream",
          "name": "stdout",
          "text": [
            "10 % 2 - 0\n"
          ]
        }
      ]
    },
    {
      "cell_type": "markdown",
      "metadata": {
        "id": "MWjtDqvOw6Ln"
      },
      "source": [
        "\n",
        "f. effettuare la divisione intera tra il primo e il secondo numero"
      ]
    },
    {
      "cell_type": "code",
      "metadata": {
        "id": "vFK0kOYRw6-b"
      },
      "source": [
        "print(x, \"/\", y, \"-\", x//y)"
      ],
      "execution_count": null,
      "outputs": []
    },
    {
      "cell_type": "markdown",
      "metadata": {
        "id": "f5aAMCxIxFAV"
      },
      "source": [
        "g. incrementare di una unità entrambi i numeri"
      ]
    },
    {
      "cell_type": "code",
      "metadata": {
        "colab": {
          "base_uri": "https://localhost:8080/"
        },
        "id": "WXpgNnhFxFcg",
        "outputId": "67473c30-a74d-4987-fcda-38664619ee6d"
      },
      "source": [
        "x = x +1\n",
        "y = y +1\n",
        "print(x, y)"
      ],
      "execution_count": 7,
      "outputs": [
        {
          "output_type": "stream",
          "name": "stdout",
          "text": [
            "11 3\n"
          ]
        }
      ]
    },
    {
      "cell_type": "markdown",
      "metadata": {
        "id": "lgYK3dsvxF7z"
      },
      "source": [
        "\n",
        "h. far inserie all'utente due valori: il primo rappresenta la sua altezza (in metri) e il secondo rappresenta il suo peso (in kg). Visualizzare poi l'IMC (google it...)"
      ]
    },
    {
      "cell_type": "code",
      "metadata": {
        "colab": {
          "base_uri": "https://localhost:8080/"
        },
        "id": "7vAPh0eDxGmr",
        "outputId": "5450602a-5330-4fc4-a5f9-8a9c6f216d55"
      },
      "source": [
        "alt = int(input(\"inserire la tua altezza :\"))\n",
        "pes = int(input(\"inserire il tuo peso:\"))\n",
        "imc = pes/pow(alt/100, 2)\n",
        "print(imc)"
      ],
      "execution_count": 8,
      "outputs": [
        {
          "output_type": "stream",
          "name": "stdout",
          "text": [
            "inserire la tua altezza :180\n",
            "inserire il tuo peso:60\n",
            "18.51851851851852\n"
          ]
        }
      ]
    },
    {
      "cell_type": "markdown",
      "metadata": {
        "id": "oQ9FFYnZxHKY"
      },
      "source": [
        "i. arrotondare l'IMC precedente"
      ]
    },
    {
      "cell_type": "code",
      "metadata": {
        "colab": {
          "base_uri": "https://localhost:8080/"
        },
        "id": "g29F3mhOxIHW",
        "outputId": "765e08a5-561a-4b75-db35-028a21205fc7"
      },
      "source": [
        "print(round(imc))"
      ],
      "execution_count": 9,
      "outputs": [
        {
          "output_type": "stream",
          "name": "stdout",
          "text": [
            "19\n"
          ]
        }
      ]
    },
    {
      "cell_type": "markdown",
      "metadata": {
        "id": "3gaOvT6kxItB"
      },
      "source": [
        "k. visualizzare il proprio nome, cognome, data di nascita e città di nascita separando le informazioni con un trattino.\n",
        "\n",
        "[ ]\n"
      ]
    },
    {
      "cell_type": "code",
      "metadata": {
        "id": "J6JltlbbxJND"
      },
      "source": [
        "\n",
        "dati =  \" Gabriel - Goycochea - 02/09/2005 - Milano \"\n",
        "print(dati)"
      ],
      "execution_count": null,
      "outputs": []
    },
    {
      "cell_type": "markdown",
      "metadata": {
        "id": "8wRWu0szxrDm"
      },
      "source": [
        "\n",
        "k. visualizzare le stesse informazioni per 10 volte di seguito"
      ]
    },
    {
      "cell_type": "code",
      "metadata": {
        "id": "eBYXGfrAxrdr"
      },
      "source": [
        "print(dati*10)"
      ],
      "execution_count": null,
      "outputs": []
    },
    {
      "cell_type": "markdown",
      "metadata": {
        "id": "IZlX6Or1xr01"
      },
      "source": [
        "l. assegnare il proprio nome e cognome ad una stringa e visualizzarla con tutte le lettere maiuscole"
      ]
    },
    {
      "cell_type": "code",
      "metadata": {
        "colab": {
          "base_uri": "https://localhost:8080/"
        },
        "id": "eyQ7_AsZxsRd",
        "outputId": "8825cc14-381c-4d05-aa4b-c02a7fb1ba26"
      },
      "source": [
        "nom = \"gabriel \"\n",
        "cog = \"goycochea\"\n",
        "print(nom.upper())\n",
        "print(cog.upper())"
      ],
      "execution_count": 11,
      "outputs": [
        {
          "output_type": "stream",
          "name": "stdout",
          "text": [
            "GABRIEL \n",
            "GOYCOCHEA\n"
          ]
        }
      ]
    },
    {
      "cell_type": "markdown",
      "metadata": {
        "id": "ATpdn9aExs5L"
      },
      "source": [
        "m. assegnare il proprio nome e cognome ad una stringa e visualizzarla con le prime lettere maiuscole"
      ]
    },
    {
      "cell_type": "code",
      "metadata": {
        "colab": {
          "base_uri": "https://localhost:8080/"
        },
        "id": "bupqq8OhxtZ4",
        "outputId": "640c1380-f39e-4424-b203-eb8581abf029"
      },
      "source": [
        "print(nom.title())\n",
        "print(cog.title())"
      ],
      "execution_count": 12,
      "outputs": [
        {
          "output_type": "stream",
          "name": "stdout",
          "text": [
            "Gabriel \n",
            "Goycochea\n"
          ]
        }
      ]
    },
    {
      "cell_type": "markdown",
      "metadata": {
        "id": "Oj8Sp0ilxt7-"
      },
      "source": [
        "n. assegnare il proprio nome e cognome ad una stringa e visualizzarne la lunghezza"
      ]
    },
    {
      "cell_type": "code",
      "metadata": {
        "colab": {
          "base_uri": "https://localhost:8080/"
        },
        "id": "WCf1LEOCxuaG",
        "outputId": "09ce4382-4641-4d0a-aaf5-c91c782bb191"
      },
      "source": [
        "print( \"la lugezza di '%s' è\"%nom, str(len(nom)),\"lettere\")\n",
        "print( \"la lugezza di '%s' è\"%cog, str(len(cog)),\"lettere\")"
      ],
      "execution_count": 13,
      "outputs": [
        {
          "output_type": "stream",
          "name": "stdout",
          "text": [
            "la lugezza di 'gabriel ' è 8 lettere\n",
            "la lugezza di 'goycochea' è 9 lettere\n"
          ]
        }
      ]
    },
    {
      "cell_type": "markdown",
      "metadata": {
        "id": "mzUvC3xYyHj-"
      },
      "source": [
        "o. assegnare il proprio nome e cognome ad una stringa e contate quante vocali contiene"
      ]
    },
    {
      "cell_type": "code",
      "metadata": {
        "colab": {
          "base_uri": "https://localhost:8080/"
        },
        "id": "27AbEFC2yH_b",
        "outputId": "78b70bb4-2c0b-426a-96fd-12c6fecc7881"
      },
      "source": [
        "print(\"le vocali all'interno di\", nom, \"sono:\" , nom.count(\"a,))"
      ],
      "execution_count": 18,
      "outputs": [
        {
          "output_type": "stream",
          "name": "stdout",
          "text": [
            "le vocali all'interno di gabriel  sono: 0\n"
          ]
        }
      ]
    },
    {
      "cell_type": "markdown",
      "metadata": {
        "id": "9uw6lj4KyIkU"
      },
      "source": [
        "p. assegnare il proprio nome e cognome ad una stringa e visualizzare i primi 5 caratteri"
      ]
    },
    {
      "cell_type": "code",
      "metadata": {
        "colab": {
          "base_uri": "https://localhost:8080/"
        },
        "id": "8y_yD5-eyI_H",
        "outputId": "25129992-0d9a-40cb-fa77-e25cce91818f"
      },
      "source": [
        "print(\"ultimencinque letter del nome: \" , nom[ 2 : ])\n",
        "print(\"ultimencinque letter del cognome: \" , cog[ 4 : ])"
      ],
      "execution_count": 21,
      "outputs": [
        {
          "output_type": "stream",
          "name": "stdout",
          "text": [
            "ultimencinque letter del nome:  briel \n",
            "ultimencinque letter del cognome:  ochea\n"
          ]
        }
      ]
    },
    {
      "cell_type": "markdown",
      "metadata": {
        "id": "Q7p4UsTGyVL5"
      },
      "source": [
        "q. assegnare il proprio nome e cognome ad una stringa e visualizzare gli ultimi 5 caratteri"
      ]
    },
    {
      "cell_type": "code",
      "metadata": {
        "colab": {
          "base_uri": "https://localhost:8080/"
        },
        "id": "f083uwQyyV7F",
        "outputId": "418ad6c6-dd82-4ac2-d1ae-960037b1ce3c"
      },
      "source": [
        "print(\"ultimencinque letter del nome: \" , nom[ - 6 : ])\n",
        "print(\"ultimencinque letter del cognome: \" , cog[-  5 : ])"
      ],
      "execution_count": 24,
      "outputs": [
        {
          "output_type": "stream",
          "name": "stdout",
          "text": [
            "ultimencinque letter del nome:  briel \n",
            "ultimencinque letter del cognome:  ochea\n"
          ]
        }
      ]
    },
    {
      "cell_type": "markdown",
      "metadata": {
        "id": "lTJ4Qoc0yWoh"
      },
      "source": [
        "r.. assegnare il proprio nome e cognome ad una stringa e visualizzare i 5 caratteri centrali\n",
        "\n"
      ]
    },
    {
      "cell_type": "code",
      "metadata": {
        "colab": {
          "base_uri": "https://localhost:8080/"
        },
        "id": "o5xRFkxnyXQr",
        "outputId": "5040882d-9e42-4561-b6b2-121bce1e3532"
      },
      "source": [
        "print(\"le 5 lettere centrali del nome: \", nom [1:6])\n",
        "print(\"le 5 lettere centrali del nome: \", nom [2:7])"
      ],
      "execution_count": 25,
      "outputs": [
        {
          "output_type": "stream",
          "name": "stdout",
          "text": [
            "le 5 lettere centrali del nome:  abrie\n",
            "le 5 lettere centrali del nome:  briel\n"
          ]
        }
      ]
    },
    {
      "cell_type": "markdown",
      "metadata": {
        "id": "74g3kGuVyYSn"
      },
      "source": [
        ""
      ]
    },
    {
      "cell_type": "code",
      "metadata": {
        "id": "0lPiLOCjyY0n"
      },
      "source": [
        ""
      ],
      "execution_count": null,
      "outputs": []
    }
  ]
}
