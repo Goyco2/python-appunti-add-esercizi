{
  "nbformat": 4,
  "nbformat_minor": 0,
  "metadata": {
    "colab": {
      "name": "correzone-verificaB.ipynb",
      "provenance": [],
      "collapsed_sections": []
    },
    "kernelspec": {
      "name": "python3",
      "display_name": "Python 3"
    },
    "language_info": {
      "name": "python"
    }
  },
  "cells": [
    {
      "cell_type": "markdown",
      "metadata": {
        "id": "9U-ffhCRPmEE"
      },
      "source": [
        "1. Srivere un programma che permetta di convertire un peso da kg in libbre. L’utente inserisce il peso in kg e il programma calcola il peso corrispondente nell’altra unità di misura.\n"
      ]
    },
    {
      "cell_type": "code",
      "metadata": {
        "colab": {
          "base_uri": "https://localhost:8080/"
        },
        "id": "AGm9KA0sPXtG",
        "outputId": "6daa59a5-d2bd-4c99-f162-a487d9110fd3"
      },
      "source": [
        "kg = int(input(\"inserire kg: \"))\n",
        "libre = kg*2.2046\n",
        "print(libre)"
      ],
      "execution_count": null,
      "outputs": [
        {
          "output_type": "stream",
          "name": "stdout",
          "text": [
            "inserire kg: 3\n",
            "6.6138\n"
          ]
        }
      ]
    },
    {
      "cell_type": "markdown",
      "metadata": {
        "id": "H-QzHRaCQ0t_"
      },
      "source": [
        "2. Scrivere un programma che permetta di verificare se un indirizzo mail contiene il carattere @. L’utente inserisce l’indirizzo e il programma restituisce il messaggio “indirizzo corretto” se il carattere è presente” o “indirizzo errato” se il carattere non è presente. Il carattere @ non può essere presente in prima o ultima posizione.\n"
      ]
    },
    {
      "cell_type": "code",
      "metadata": {
        "colab": {
          "base_uri": "https://localhost:8080/"
        },
        "id": "7BeEs_V8Q5n3",
        "outputId": "e0a0c761-53a4-4523-f688-dcf0d1c8ea26"
      },
      "source": [
        "email = str(input(\"inserire email: \"))\n",
        "if \"@\" in email:\n",
        "  if email[0] ==\"@\":\n",
        "    print(\"email sbagliata\")\n",
        "  elif email[-1] ==\"@\":\n",
        "    print(\"email sbagliata\")\n",
        "  else:\n",
        "    print(\"email coretta\")\n",
        "else:\n",
        "  print(\"email coretta\")\n",
        " "
      ],
      "execution_count": null,
      "outputs": [
        {
          "output_type": "stream",
          "name": "stdout",
          "text": [
            "inserire email: gg@\n",
            "email sbagliata\n"
          ]
        }
      ]
    },
    {
      "cell_type": "markdown",
      "metadata": {
        "id": "E_rGBBD8UVO5"
      },
      "source": [
        "3. Scrivere un programma che visualizzi l’inverso dei primi n numeri interi con n inserito dall’utente. Per esempio, se l’utente inserisse il valore 4 il programma dovrebbe visualizzare i valori 1 (1:1), 0,5 (1:2), 0,33333 (1:3) e 0.25 (1:4). Separare i valori visualizzati con una virgola."
      ]
    },
    {
      "cell_type": "code",
      "metadata": {
        "colab": {
          "base_uri": "https://localhost:8080/"
        },
        "id": "l2xSzj7bUY9g",
        "outputId": "6749e109-e68f-49c0-d62b-be3c004db99f"
      },
      "source": [
        "n = int(input())\n",
        "lista = [1/i for i in range(1,n+1)]\n",
        "print(lista)"
      ],
      "execution_count": null,
      "outputs": [
        {
          "output_type": "stream",
          "name": "stdout",
          "text": [
            "4\n",
            "[1.0, 0.5, 0.3333333333333333, 0.25]\n"
          ]
        }
      ]
    },
    {
      "cell_type": "markdown",
      "metadata": {
        "id": "U7Wv96dpW3Zy"
      },
      "source": [
        "4. scrivere un programma che carichi in una lista i primi 100 numeri interi dispari. Al termine visualizzare gli ultimi 10 numeri della lista."
      ]
    },
    {
      "cell_type": "code",
      "metadata": {
        "colab": {
          "base_uri": "https://localhost:8080/"
        },
        "id": "igwkQjq2W6e5",
        "outputId": "99f3f6e8-bcb7-4dfc-f7bb-0a5464549dc3"
      },
      "source": [
        "lista2 = [ i for i in range(100)if i%2==1]\n",
        "print(lista2[-10:])"
      ],
      "execution_count": null,
      "outputs": [
        {
          "output_type": "stream",
          "name": "stdout",
          "text": [
            "[81, 83, 85, 87, 89, 91, 93, 95, 97, 99]\n"
          ]
        }
      ]
    },
    {
      "cell_type": "markdown",
      "metadata": {
        "id": "aSDQ9dJiYQVw"
      },
      "source": [
        "5. scrivere un programma che elimini dalla lista precedente gli ultimi 10 elementi. Visualizzare al termine la lista modificata"
      ]
    },
    {
      "cell_type": "code",
      "metadata": {
        "colab": {
          "base_uri": "https://localhost:8080/"
        },
        "id": "HSLM04AcYSfX",
        "outputId": "4dad0e68-613f-4e9d-f7bb-df92638d24fe"
      },
      "source": [
        "del lista2[-10:]\n",
        "print(lista2)"
      ],
      "execution_count": null,
      "outputs": [
        {
          "output_type": "stream",
          "name": "stdout",
          "text": [
            "[1, 3, 5, 7, 9, 11, 13, 15, 17, 19, 21, 23, 25, 27, 29, 31, 33, 35, 37, 39, 41, 43, 45, 47, 49, 51, 53, 55, 57, 59, 61, 63, 65, 67, 69, 71, 73, 75, 77, 79]\n"
          ]
        }
      ]
    },
    {
      "cell_type": "markdown",
      "metadata": {
        "id": "wwNsXfnfYs5Q"
      },
      "source": [
        "6. scrivere una funzione che data una lista formata da un numero pari di elementi restituisca la lista con gli elementi scambiati a due a due. Ad esempio se la lista di partenza fosse [1, 2, 3, 4, 5, 6] la lista da restituire sarebbe [2, 1, 4, 3, 6, 5]\n"
      ]
    },
    {
      "cell_type": "code",
      "metadata": {
        "id": "U3_TgaT7Y6Vf",
        "colab": {
          "base_uri": "https://localhost:8080/"
        },
        "outputId": "60089473-0e0e-48ec-abd6-f739c1ab9f78"
      },
      "source": [
        "lista = [ 1,2,3,4,5,6]\n",
        "def scambio(x):\n",
        "\n",
        "  a = x[:]\n",
        "  for i in range(0,len(x),2):\n",
        "    a[i] = x[i+1]\n",
        "    a[i+1] = x[i]\n",
        "  return a \n",
        "print(scambio(lista))"
      ],
      "execution_count": null,
      "outputs": [
        {
          "output_type": "stream",
          "name": "stdout",
          "text": [
            "[2, 1, 4, 3, 6, 5]\n"
          ]
        }
      ]
    },
    {
      "cell_type": "markdown",
      "metadata": {
        "id": "gULkMn5PZZho"
      },
      "source": [
        "7. scrivere un programma che permetta di caricare in una struttura dati opportuna i nomi delle regioni italiane, i loro capoluoghi e la popolazione (inserire solo tre regioni). Visualizzare poi i dati di una regione inserita dall’utente"
      ]
    },
    {
      "cell_type": "code",
      "metadata": {
        "colab": {
          "base_uri": "https://localhost:8080/"
        },
        "id": "mdOblcLndECO",
        "outputId": "9e69de72-5420-46ff-baf6-de2bb89f5db9"
      },
      "source": [
        "Italia = [{\"nome\": \"Lombardia\", \"capoluogo\" : \"Milanao\", \"popolazione\" : 10000000},\n",
        "                 {\"nome\": \"Lazio\", \"capoluogo\" : \"Roma\", \"popolazione\" : 5701000},\n",
        "                 {\"nome\": \"Sicilia\", \"capoluogo\" : \"Palermo\", \"popolazione\" : 5000000}]\n",
        "Nome = input(\"inserisci nazione \")\n",
        "for regione in Italia:\n",
        "  if regione['nome'] == Nome:\n",
        "    print(regione['capoluogo'],regione['popolazione'])"
      ],
      "execution_count": null,
      "outputs": [
        {
          "output_type": "stream",
          "name": "stdout",
          "text": [
            "inserisci nazione Lazio\n",
            "Roma 5701000\n"
          ]
        }
      ]
    },
    {
      "cell_type": "markdown",
      "metadata": {
        "id": "m7lJeStNZAxP"
      },
      "source": [
        "8. scrivere un programma che, utilizzando una lambda function e la funzione filter, elimini da una lista inserita dall’utente tutti gli elementi dispari. Al termine, visualizzare la lista modificata"
      ]
    },
    {
      "cell_type": "code",
      "metadata": {
        "colab": {
          "base_uri": "https://localhost:8080/"
        },
        "id": "hobnifc7a0Ho",
        "outputId": "d55aae80-6861-48c8-b9da-a749f89174de"
      },
      "source": [
        "numeri = [int(s) for s in input('inserire numeri: ').split()]\n",
        "dispari = list(filter(lambda x: x%2==0, numeri))\n",
        "print(dispari)"
      ],
      "execution_count": null,
      "outputs": [
        {
          "output_type": "stream",
          "name": "stdout",
          "text": [
            "inserire numeri: 1 23 45 6 78 9\n",
            "[6, 78]\n"
          ]
        }
      ]
    },
    {
      "cell_type": "markdown",
      "metadata": {
        "id": "Ad2phuIVnjf7"
      },
      "source": [
        "9. scrivere una funzione che, in modo ricorsivo, calcoli la somma dei primi n numeri interi, con n inserito dall’utente. Ad esempio se l’utente inserisse 5 il programma dovrebbe restituire il valore 15 (5+4+3+2+1=15)\n"
      ]
    },
    {
      "cell_type": "code",
      "metadata": {
        "colab": {
          "base_uri": "https://localhost:8080/"
        },
        "id": "DtNNrj9tnkb7",
        "outputId": "483456dd-0072-411e-b2e9-d1e5570985a5"
      },
      "source": [
        "def somma(num):\n",
        " if num == 0:\n",
        "   return 0\n",
        " else:\n",
        "   totale = num + somma(num-1)\n",
        "   return totale\n",
        "somma(int(input('inserisci numero: ')))"
      ],
      "execution_count": null,
      "outputs": [
        {
          "name": "stdout",
          "output_type": "stream",
          "text": [
            "inserisci numero: 5\n"
          ]
        },
        {
          "output_type": "execute_result",
          "data": {
            "text/plain": [
              "15"
            ]
          },
          "metadata": {},
          "execution_count": 34
        }
      ]
    }
  ]
}