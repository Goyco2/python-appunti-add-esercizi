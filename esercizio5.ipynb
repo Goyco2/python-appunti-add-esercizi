{
  "nbformat": 4,
  "nbformat_minor": 0,
  "metadata": {
    "colab": {
      "name": "esercizio5.ipynb",
      "provenance": []
    },
    "kernelspec": {
      "name": "python3",
      "display_name": "Python 3"
    },
    "language_info": {
      "name": "python"
    }
  },
  "cells": [
    {
      "cell_type": "markdown",
      "metadata": {
        "id": "otoOM5uWo_5m"
      },
      "source": [
        "1. scrivere una funzione chiamata max che dati due numeri restituisca il più grande. Scrivere poi un programma che, utilizzando la funzione creata, trovi il massimo tra tre numeri inseriti dall'utente. \n"
      ]
    },
    {
      "cell_type": "code",
      "metadata": {
        "colab": {
          "base_uri": "https://localhost:8080/"
        },
        "id": "LdlhNEiVpLuH",
        "outputId": "66c3bec8-d8ad-4b58-fed8-4c2bb6fe6979"
      },
      "source": [
        "def max(x,y):\n",
        "  if x > y:\n",
        "    return x\n",
        "  else:\n",
        "    return y\n",
        "num1= int(input())\n",
        "num2= int(input())\n",
        "num3= int(input())\n",
        "temp = max(num1,num2)\n",
        "print(\"Il numero più grande è\", max(temp,num3))"
      ],
      "execution_count": 1,
      "outputs": [
        {
          "output_type": "stream",
          "name": "stdout",
          "text": [
            "10\n",
            "25\n",
            "35\n",
            "Il numero più grande è 35\n"
          ]
        }
      ]
    },
    {
      "cell_type": "markdown",
      "metadata": {
        "id": "trE0z7j2fw3J"
      },
      "source": [
        "2. scrivere una funzione chiamata sommaLista che data una lista di interi restituisca la somma di tutti gli elementi della lista. Scrivere poi un programma che, utilizzando la funzione create, trovi la somma degli elementi di una lista inserita dall'utente. "
      ]
    },
    {
      "cell_type": "code",
      "metadata": {
        "id": "j2-oclkApKkC"
      },
      "source": [
        "def sommaLista(lista2):\n",
        "  somma = 0\n",
        "  for i in range(len(lista2)):\n",
        "    somma = somma + lista2[i] \n",
        "  return somma\n",
        "\n",
        "lista = list()\n",
        "dimLista = int(input(\"Inserisci la dimensione: \"))\n",
        "j = 0\n",
        "while j < dimLista:\n",
        "  lista.append(int(input(\"Inserisci un elemento: \")))\n",
        "  j += 1\n",
        "print(\"La somma degli elementi della lista è:\", sommaLista(lista))"
      ],
      "execution_count": null,
      "outputs": []
    },
    {
      "cell_type": "markdown",
      "metadata": {
        "id": "Wy43s6ZJfzZL"
      },
      "source": [
        "3. utilizzando le funzioni create precedentemente, scrivere un programma che permetta all'utente di inserire tre liste e di avere il valore massimo della somma degli elementi delle tre liste."
      ]
    },
    {
      "cell_type": "code",
      "metadata": {
        "colab": {
          "base_uri": "https://localhost:8080/",
          "height": 235
        },
        "id": "W5GRTFHNpaNC",
        "outputId": "b0bb577d-52ff-425c-9f81-80864f3cec86"
      },
      "source": [
        ""
      ],
      "execution_count": 8,
      "outputs": [
        {
          "name": "stdout",
          "output_type": "stream",
          "text": [
            "Iserisci valori: 37 13\n"
          ]
        },
        {
          "output_type": "error",
          "ename": "TypeError",
          "evalue": "ignored",
          "traceback": [
            "\u001b[0;31m---------------------------------------------------------------------------\u001b[0m",
            "\u001b[0;31mTypeError\u001b[0m                                 Traceback (most recent call last)",
            "\u001b[0;32m<ipython-input-8-f48096635a86>\u001b[0m in \u001b[0;36m<module>\u001b[0;34m()\u001b[0m\n\u001b[0;32m----> 1\u001b[0;31m \u001b[0mnumeri1\u001b[0m \u001b[0;34m=\u001b[0m \u001b[0;34m[\u001b[0m\u001b[0mint\u001b[0m\u001b[0;34m(\u001b[0m\u001b[0ms\u001b[0m\u001b[0;34m)\u001b[0m\u001b[0;32mfor\u001b[0m \u001b[0ms\u001b[0m \u001b[0;32min\u001b[0m \u001b[0minput\u001b[0m\u001b[0;34m(\u001b[0m\u001b[0;34m\"Iserisci valori: \"\u001b[0m\u001b[0;34m)\u001b[0m\u001b[0;34m.\u001b[0m\u001b[0msplit\u001b[0m\u001b[0;34m]\u001b[0m\u001b[0;34m\u001b[0m\u001b[0;34m\u001b[0m\u001b[0m\n\u001b[0m\u001b[1;32m      2\u001b[0m \u001b[0mnumeri2\u001b[0m \u001b[0;34m=\u001b[0m \u001b[0;34m[\u001b[0m\u001b[0mint\u001b[0m\u001b[0;34m(\u001b[0m\u001b[0ms\u001b[0m\u001b[0;34m)\u001b[0m\u001b[0;32mfor\u001b[0m \u001b[0ms\u001b[0m \u001b[0;32min\u001b[0m \u001b[0minput\u001b[0m\u001b[0;34m(\u001b[0m\u001b[0;34m\"Iserisci valori: \"\u001b[0m\u001b[0;34m)\u001b[0m\u001b[0;34m.\u001b[0m\u001b[0msplit\u001b[0m\u001b[0;34m]\u001b[0m\u001b[0;34m\u001b[0m\u001b[0;34m\u001b[0m\u001b[0m\n\u001b[1;32m      3\u001b[0m \u001b[0mnumeri3\u001b[0m \u001b[0;34m=\u001b[0m \u001b[0;34m[\u001b[0m\u001b[0mint\u001b[0m\u001b[0;34m(\u001b[0m\u001b[0ms\u001b[0m\u001b[0;34m)\u001b[0m\u001b[0;32mfor\u001b[0m \u001b[0ms\u001b[0m \u001b[0;32min\u001b[0m \u001b[0minput\u001b[0m\u001b[0;34m(\u001b[0m\u001b[0;34m\"Iserisci valori: \"\u001b[0m\u001b[0;34m)\u001b[0m\u001b[0;34m.\u001b[0m\u001b[0msplit\u001b[0m\u001b[0;34m]\u001b[0m\u001b[0;34m\u001b[0m\u001b[0;34m\u001b[0m\u001b[0m\n\u001b[1;32m      4\u001b[0m \u001b[0mprint\u001b[0m\u001b[0;34m(\u001b[0m\u001b[0;34m\"il valore più grande e: \"\u001b[0m\u001b[0;34m,\u001b[0m \u001b[0mmax\u001b[0m\u001b[0;34m(\u001b[0m\u001b[0mmax\u001b[0m\u001b[0;34m(\u001b[0m\u001b[0msommaLista\u001b[0m\u001b[0;34m(\u001b[0m\u001b[0mnumeri1\u001b[0m\u001b[0;34m)\u001b[0m\u001b[0;34m,\u001b[0m\u001b[0msommaLista\u001b[0m\u001b[0;34m(\u001b[0m\u001b[0mnumeri2\u001b[0m\u001b[0;34m)\u001b[0m\u001b[0;34m)\u001b[0m\u001b[0;34m,\u001b[0m\u001b[0msommaLista\u001b[0m\u001b[0;34m(\u001b[0m\u001b[0mnumeri3\u001b[0m\u001b[0;34m)\u001b[0m\u001b[0;34m)\u001b[0m\u001b[0;34m)\u001b[0m\u001b[0;34m\u001b[0m\u001b[0;34m\u001b[0m\u001b[0m\n",
            "\u001b[0;31mTypeError\u001b[0m: 'builtin_function_or_method' object is not iterable"
          ]
        }
      ]
    },
    {
      "cell_type": "markdown",
      "metadata": {
        "id": "CHEBxQ35f3yG"
      },
      "source": [
        "4. scrivere una funzione chiamata controlla che dato un numero e due estremi restituisca True se il numero è compreso tra i due estremi, false altrimenti. Utilizzare poi la funzione per trovare il numero di elementi di una lista di numeri interi (inserita dall'utente) compresi tra due estremi (inseriti anch'essi dall'utente)\n"
      ]
    },
    {
      "cell_type": "code",
      "metadata": {
        "id": "VKc07xXTpa5x"
      },
      "source": [
        "def controlla(x,y,z):\n",
        "  c = True\n",
        "  e = False\n",
        "  if x in range(y,z):\n",
        "    return c\n",
        "  else:\n",
        "    return e"
      ],
      "execution_count": null,
      "outputs": []
    },
    {
      "cell_type": "markdown",
      "metadata": {
        "id": "q3uPouSPf6TC"
      },
      "source": [
        "5. utilizzare la funzione controlla creata precedentemente per scrivere un programma che, data una lista di numeri interi inserita  dall'utente, carichi in un'altra lista i numeri compresi tra due estremi inseriti anch'essi dall'utente."
      ]
    },
    {
      "cell_type": "code",
      "metadata": {
        "id": "uRIKr5gPpb6b"
      },
      "source": [
        ""
      ],
      "execution_count": null,
      "outputs": []
    },
    {
      "cell_type": "markdown",
      "metadata": {
        "id": "E6v43Vpgf9uD"
      },
      "source": [
        "6. scrivere una funzione chiamata confrontaListe che date due liste restituisca True se le due liste sono uguali, False altrimenti. Utilizzare poi la funzione in un programma che dica se una lista di interi è palindroma, cioè se può essere letta indifferentemente da sinistra a destra e da destra a sinistra. Ad esempio la lista [1, 2, 3, 4, 3, 2, 1] è palindroma, la lista [1, 2, 3, 4, 3,1, 2] non lo è."
      ]
    },
    {
      "cell_type": "code",
      "metadata": {
        "colab": {
          "base_uri": "https://localhost:8080/"
        },
        "id": "NULCuDPIpcyU",
        "outputId": "259f09eb-1aeb-4a7a-83fe-60f97e8e093b"
      },
      "source": [
        "def confrontalista(lista1, lista2):\n",
        "  if lista1 == lista2:\n",
        "    return True\n",
        "  else:\n",
        "    return False\n",
        "numeri1 =[int(s)for s in input(\"inserisci lista di numeri: \").split()]\n",
        "numeri2 = numeri1 [:]\n",
        "numeri2.reverse()\n",
        "print(\"la lista dell'utente è palindroma: \", confrontalista(numeri1, numeri2))"
      ],
      "execution_count": 7,
      "outputs": [
        {
          "output_type": "stream",
          "name": "stdout",
          "text": [
            "inserisci lista di numeri: 1 2 3 4 3 2 1 \n",
            "la lista dell'utente è palindroma:  True\n"
          ]
        }
      ]
    },
    {
      "cell_type": "markdown",
      "metadata": {
        "id": "KBaJTZlpgA_-"
      },
      "source": [
        "7. scrivere una funzione chiamata celsiusToFahrenheit che data una temperatura in gradi Celsius restituisca il valore convertito in gradi Fahrenheit (per ulteriori info, google it). Scrivere poi un programma che data una lista di temperature in gradi Celsius,inserita dall'utente, converta tutte le temperature in gradi Fahrenheit."
      ]
    },
    {
      "cell_type": "code",
      "metadata": {
        "id": "6ofKksuLpdd6"
      },
      "source": [
        "lista = input(\"Inserire un valore in Celsius: \").split(' ')\n",
        "\n",
        "def celsiusToFahrenheit(x):\n",
        "  return round(x * (1.8) + 32)\n",
        "\n",
        "print([celsiusToFahrenheit(int(x)) for x in lista])"
      ],
      "execution_count": null,
      "outputs": []
    },
    {
      "cell_type": "markdown",
      "metadata": {
        "id": "wWhwqrTmgDmx"
      },
      "source": [
        "8. scrivere una funzione chiamata IMC che calcoli l'Indice di Massa Corporea a partire dal peso (in kg) e dall'altezza (in m). Utilizzare poi la funzione per scrivere un programma che date tre liste, contenente la prima una serie di nomi, la seconda una serie di pesi e la terza una serie di altezze, produca una quarta lista contenente i valori di IMC corrispondenti. Visualizzare poi i risultati nel seguente modo: \"<nome> pesa <peso kg, misura <altezza> m ed ha un IMC di <IMC>\" ( i valori nelle parentesi angolari vanno presi ovviamente dalle liste)\n"
      ]
    },
    {
      "cell_type": "code",
      "metadata": {
        "id": "Fe3wYZZCpeDw"
      },
      "source": [
        ""
      ],
      "execution_count": null,
      "outputs": []
    },
    {
      "cell_type": "markdown",
      "metadata": {
        "id": "TK70W5JpgGo9"
      },
      "source": [
        "9: scrivere una lambda function per estrarre da una lista di numeri interi tutti i valori pari."
      ]
    },
    {
      "cell_type": "code",
      "metadata": {
        "id": "a4JgFHPPgHNj"
      },
      "source": [
        "l1 = [0,1,2,3,4,5,6,7,8,9]\n",
        "risultato = lambda l1: [n for n in l1 if n%2 == 0]\n",
        "print(risultato(l1))"
      ],
      "execution_count": null,
      "outputs": []
    }
  ]
}