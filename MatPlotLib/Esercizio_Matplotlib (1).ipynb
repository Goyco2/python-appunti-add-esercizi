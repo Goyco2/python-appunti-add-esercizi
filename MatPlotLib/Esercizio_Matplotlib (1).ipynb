{
  "nbformat": 4,
  "nbformat_minor": 0,
  "metadata": {
    "colab": {
      "name": "Esercizio-Matplotlib.ipynb",
      "provenance": [],
      "collapsed_sections": []
    },
    "kernelspec": {
      "name": "python3",
      "display_name": "Python 3"
    },
    "language_info": {
      "name": "python"
    }
  },
  "cells": [
    {
      "cell_type": "code",
      "metadata": {
        "id": "esppe-oz1ThY"
      },
      "source": [
        "import pandas as pd\n",
        "import matplotlib.pyplot  as plt\n",
        "import numpy as np"
      ],
      "execution_count": null,
      "outputs": []
    },
    {
      "cell_type": "markdown",
      "metadata": {
        "id": "Nk9EXOYvHhau"
      },
      "source": [
        "1. caricare i dati in un dataframe\n"
      ]
    },
    {
      "cell_type": "code",
      "metadata": {
        "id": "c_HCYcf31cXc"
      },
      "source": [
        "df = pd.read_csv('https://raw.githubusercontent.com/wtitze/4E/main/prime_titles.csv')"
      ],
      "execution_count": null,
      "outputs": []
    },
    {
      "cell_type": "markdown",
      "metadata": {
        "id": "7RkljJjLHlW_"
      },
      "source": [
        "2. visualizzare i dati"
      ]
    },
    {
      "cell_type": "code",
      "metadata": {
        "colab": {
          "base_uri": "https://localhost:8080/",
          "height": 545
        },
        "id": "rZ2T6FuGHdWo",
        "outputId": "07be2887-5b5e-4047-dbec-846415f14abf"
      },
      "source": [
        "df"
      ],
      "execution_count": null,
      "outputs": [
        {
          "output_type": "execute_result",
          "data": {
            "text/html": [
              "<div>\n",
              "<style scoped>\n",
              "    .dataframe tbody tr th:only-of-type {\n",
              "        vertical-align: middle;\n",
              "    }\n",
              "\n",
              "    .dataframe tbody tr th {\n",
              "        vertical-align: top;\n",
              "    }\n",
              "\n",
              "    .dataframe thead th {\n",
              "        text-align: right;\n",
              "    }\n",
              "</style>\n",
              "<table border=\"1\" class=\"dataframe\">\n",
              "  <thead>\n",
              "    <tr style=\"text-align: right;\">\n",
              "      <th></th>\n",
              "      <th>S.no.</th>\n",
              "      <th>Name of the show</th>\n",
              "      <th>Year of release</th>\n",
              "      <th>No of seasons available</th>\n",
              "      <th>Language</th>\n",
              "      <th>Genre</th>\n",
              "      <th>IMDb rating</th>\n",
              "      <th>Age of viewers</th>\n",
              "    </tr>\n",
              "  </thead>\n",
              "  <tbody>\n",
              "    <tr>\n",
              "      <th>0</th>\n",
              "      <td>1</td>\n",
              "      <td>Pataal Lok</td>\n",
              "      <td>2020.0</td>\n",
              "      <td>1.0</td>\n",
              "      <td>Hindi</td>\n",
              "      <td>Drama</td>\n",
              "      <td>7.5</td>\n",
              "      <td>18+</td>\n",
              "    </tr>\n",
              "    <tr>\n",
              "      <th>1</th>\n",
              "      <td>2</td>\n",
              "      <td>Upload</td>\n",
              "      <td>2020.0</td>\n",
              "      <td>1.0</td>\n",
              "      <td>English</td>\n",
              "      <td>Sci-fi comedy</td>\n",
              "      <td>8.1</td>\n",
              "      <td>16+</td>\n",
              "    </tr>\n",
              "    <tr>\n",
              "      <th>2</th>\n",
              "      <td>3</td>\n",
              "      <td>The Marvelous Mrs. Maisel</td>\n",
              "      <td>2017.0</td>\n",
              "      <td>3.0</td>\n",
              "      <td>English</td>\n",
              "      <td>Drama, Comedy</td>\n",
              "      <td>8.7</td>\n",
              "      <td>16+</td>\n",
              "    </tr>\n",
              "    <tr>\n",
              "      <th>3</th>\n",
              "      <td>4</td>\n",
              "      <td>Four More Shots Please</td>\n",
              "      <td>2019.0</td>\n",
              "      <td>2.0</td>\n",
              "      <td>Hindi</td>\n",
              "      <td>Drama, Comedy</td>\n",
              "      <td>5.3</td>\n",
              "      <td>18+</td>\n",
              "    </tr>\n",
              "    <tr>\n",
              "      <th>4</th>\n",
              "      <td>5</td>\n",
              "      <td>Fleabag</td>\n",
              "      <td>2016.0</td>\n",
              "      <td>2.0</td>\n",
              "      <td>English</td>\n",
              "      <td>Comedy</td>\n",
              "      <td>8.7</td>\n",
              "      <td>18+</td>\n",
              "    </tr>\n",
              "    <tr>\n",
              "      <th>...</th>\n",
              "      <td>...</td>\n",
              "      <td>...</td>\n",
              "      <td>...</td>\n",
              "      <td>...</td>\n",
              "      <td>...</td>\n",
              "      <td>...</td>\n",
              "      <td>...</td>\n",
              "      <td>...</td>\n",
              "    </tr>\n",
              "    <tr>\n",
              "      <th>399</th>\n",
              "      <td>400</td>\n",
              "      <td>NaN</td>\n",
              "      <td>NaN</td>\n",
              "      <td>NaN</td>\n",
              "      <td>NaN</td>\n",
              "      <td>NaN</td>\n",
              "      <td>NaN</td>\n",
              "      <td>NaN</td>\n",
              "    </tr>\n",
              "    <tr>\n",
              "      <th>400</th>\n",
              "      <td>401</td>\n",
              "      <td>NaN</td>\n",
              "      <td>NaN</td>\n",
              "      <td>NaN</td>\n",
              "      <td>NaN</td>\n",
              "      <td>NaN</td>\n",
              "      <td>NaN</td>\n",
              "      <td>NaN</td>\n",
              "    </tr>\n",
              "    <tr>\n",
              "      <th>401</th>\n",
              "      <td>402</td>\n",
              "      <td>NaN</td>\n",
              "      <td>NaN</td>\n",
              "      <td>NaN</td>\n",
              "      <td>NaN</td>\n",
              "      <td>NaN</td>\n",
              "      <td>NaN</td>\n",
              "      <td>NaN</td>\n",
              "    </tr>\n",
              "    <tr>\n",
              "      <th>402</th>\n",
              "      <td>403</td>\n",
              "      <td>NaN</td>\n",
              "      <td>NaN</td>\n",
              "      <td>NaN</td>\n",
              "      <td>NaN</td>\n",
              "      <td>NaN</td>\n",
              "      <td>NaN</td>\n",
              "      <td>NaN</td>\n",
              "    </tr>\n",
              "    <tr>\n",
              "      <th>403</th>\n",
              "      <td>404</td>\n",
              "      <td>NaN</td>\n",
              "      <td>NaN</td>\n",
              "      <td>NaN</td>\n",
              "      <td>NaN</td>\n",
              "      <td>NaN</td>\n",
              "      <td>NaN</td>\n",
              "      <td>NaN</td>\n",
              "    </tr>\n",
              "  </tbody>\n",
              "</table>\n",
              "<p>404 rows × 8 columns</p>\n",
              "</div>"
            ],
            "text/plain": [
              "     S.no.           Name of the show  ...  IMDb rating  Age of viewers\n",
              "0        1                 Pataal Lok  ...          7.5             18+\n",
              "1        2                     Upload  ...          8.1             16+\n",
              "2        3  The Marvelous Mrs. Maisel  ...          8.7             16+\n",
              "3        4     Four More Shots Please  ...          5.3             18+\n",
              "4        5                    Fleabag  ...          8.7             18+\n",
              "..     ...                        ...  ...          ...             ...\n",
              "399    400                        NaN  ...          NaN             NaN\n",
              "400    401                        NaN  ...          NaN             NaN\n",
              "401    402                        NaN  ...          NaN             NaN\n",
              "402    403                        NaN  ...          NaN             NaN\n",
              "403    404                        NaN  ...          NaN             NaN\n",
              "\n",
              "[404 rows x 8 columns]"
            ]
          },
          "metadata": {},
          "execution_count": 5
        }
      ]
    },
    {
      "cell_type": "markdown",
      "metadata": {
        "id": "UUApI2M9H2zQ"
      },
      "source": [
        "3. eliminare dal dataframe tutti i record con valori NaN\n"
      ]
    },
    {
      "cell_type": "code",
      "metadata": {
        "id": "-BQNhnSIH3T4"
      },
      "source": [
        "df.dropna(inplace= True)"
      ],
      "execution_count": null,
      "outputs": []
    },
    {
      "cell_type": "markdown",
      "metadata": {
        "id": "Y0Qn2aBeIX4I"
      },
      "source": [
        "4. calcolare il numero di show per ogni lingua. Ordinare in ordine decrescente sul numero\n"
      ]
    },
    {
      "cell_type": "code",
      "metadata": {
        "colab": {
          "base_uri": "https://localhost:8080/",
          "height": 286
        },
        "id": "qxaSKSj1IZQg",
        "outputId": "39e22daa-5f64-406c-a425-1b36132cb19f"
      },
      "source": [
        "df2 = df.groupby('Language').count().sort_values(by = 'Name of the show', ascending=False)\n",
        "df2"
      ],
      "execution_count": null,
      "outputs": [
        {
          "output_type": "execute_result",
          "data": {
            "text/html": [
              "<div>\n",
              "<style scoped>\n",
              "    .dataframe tbody tr th:only-of-type {\n",
              "        vertical-align: middle;\n",
              "    }\n",
              "\n",
              "    .dataframe tbody tr th {\n",
              "        vertical-align: top;\n",
              "    }\n",
              "\n",
              "    .dataframe thead th {\n",
              "        text-align: right;\n",
              "    }\n",
              "</style>\n",
              "<table border=\"1\" class=\"dataframe\">\n",
              "  <thead>\n",
              "    <tr style=\"text-align: right;\">\n",
              "      <th></th>\n",
              "      <th>S.no.</th>\n",
              "      <th>Name of the show</th>\n",
              "      <th>Year of release</th>\n",
              "      <th>No of seasons available</th>\n",
              "      <th>Genre</th>\n",
              "      <th>IMDb rating</th>\n",
              "      <th>Age of viewers</th>\n",
              "    </tr>\n",
              "    <tr>\n",
              "      <th>Language</th>\n",
              "      <th></th>\n",
              "      <th></th>\n",
              "      <th></th>\n",
              "      <th></th>\n",
              "      <th></th>\n",
              "      <th></th>\n",
              "      <th></th>\n",
              "    </tr>\n",
              "  </thead>\n",
              "  <tbody>\n",
              "    <tr>\n",
              "      <th>English</th>\n",
              "      <td>155</td>\n",
              "      <td>155</td>\n",
              "      <td>155</td>\n",
              "      <td>155</td>\n",
              "      <td>155</td>\n",
              "      <td>155</td>\n",
              "      <td>155</td>\n",
              "    </tr>\n",
              "    <tr>\n",
              "      <th>Hindi</th>\n",
              "      <td>17</td>\n",
              "      <td>17</td>\n",
              "      <td>17</td>\n",
              "      <td>17</td>\n",
              "      <td>17</td>\n",
              "      <td>17</td>\n",
              "      <td>17</td>\n",
              "    </tr>\n",
              "    <tr>\n",
              "      <th>Japanese</th>\n",
              "      <td>7</td>\n",
              "      <td>7</td>\n",
              "      <td>7</td>\n",
              "      <td>7</td>\n",
              "      <td>7</td>\n",
              "      <td>7</td>\n",
              "      <td>7</td>\n",
              "    </tr>\n",
              "    <tr>\n",
              "      <th>Deutsch</th>\n",
              "      <td>1</td>\n",
              "      <td>1</td>\n",
              "      <td>1</td>\n",
              "      <td>1</td>\n",
              "      <td>1</td>\n",
              "      <td>1</td>\n",
              "      <td>1</td>\n",
              "    </tr>\n",
              "    <tr>\n",
              "      <th>Spanish</th>\n",
              "      <td>1</td>\n",
              "      <td>1</td>\n",
              "      <td>1</td>\n",
              "      <td>1</td>\n",
              "      <td>1</td>\n",
              "      <td>1</td>\n",
              "      <td>1</td>\n",
              "    </tr>\n",
              "    <tr>\n",
              "      <th>Suomi</th>\n",
              "      <td>1</td>\n",
              "      <td>1</td>\n",
              "      <td>1</td>\n",
              "      <td>1</td>\n",
              "      <td>1</td>\n",
              "      <td>1</td>\n",
              "      <td>1</td>\n",
              "    </tr>\n",
              "  </tbody>\n",
              "</table>\n",
              "</div>"
            ],
            "text/plain": [
              "          S.no.  Name of the show  ...  IMDb rating  Age of viewers\n",
              "Language                           ...                             \n",
              "English     155               155  ...          155             155\n",
              "Hindi        17                17  ...           17              17\n",
              "Japanese      7                 7  ...            7               7\n",
              "Deutsch       1                 1  ...            1               1\n",
              "Spanish       1                 1  ...            1               1\n",
              "Suomi         1                 1  ...            1               1\n",
              "\n",
              "[6 rows x 7 columns]"
            ]
          },
          "metadata": {},
          "execution_count": 7
        }
      ]
    },
    {
      "cell_type": "markdown",
      "metadata": {
        "id": "XubIGIE0I21A"
      },
      "source": [
        "5. visualizzare il grafico a barre verticali dei dati precedenti\n"
      ]
    },
    {
      "cell_type": "code",
      "metadata": {
        "colab": {
          "base_uri": "https://localhost:8080/",
          "height": 273
        },
        "id": "HkPuDWgxI3HA",
        "outputId": "d59102dc-12a9-44bb-f3f5-df0553cdec79"
      },
      "source": [
        "\n",
        "fig = plt.figure()\n",
        "ax = plt.axes()\n",
        "\n",
        "ax.bar(df2.index,df2['Name of the show'].values,color='blue')\n",
        "fig.autofmt_xdate(rotation=45)\n"
      ],
      "execution_count": null,
      "outputs": [
        {
          "output_type": "display_data",
          "data": {
            "image/png": "[encoded data removed]",
            "text/plain": [
              "<Figure size 432x288 with 1 Axes>"
            ]
          },
          "metadata": {
            "needs_background": "light"
          }
        }
      ]
    },
    {
      "cell_type": "markdown",
      "metadata": {
        "id": "HRXqf53qLCVf"
      },
      "source": [
        "6. visualizzare le stesse informazioni dell'esercizio precedente utilizzando un grafico a torta\n"
      ]
    },
    {
      "cell_type": "code",
      "metadata": {
        "colab": {
          "base_uri": "https://localhost:8080/",
          "height": 266
        },
        "id": "zW_daoFuLCoX",
        "outputId": "1b6fffed-7fb7-45c3-aa84-f421f15304fa"
      },
      "source": [
        "fig = plt.figure()\n",
        "ax = plt.axes()\n",
        "ax.pie(df2['Name of the show'].values,labels= df2.index)\n",
        "plt.show"
      ],
      "execution_count": null,
      "outputs": [
        {
          "output_type": "execute_result",
          "data": {
            "text/plain": [
              "<function matplotlib.pyplot.show>"
            ]
          },
          "metadata": {},
          "execution_count": 11
        },
        {
          "output_type": "display_data",
          "data": {
            "image/png": "[encoded data removed]",
            "text/plain": [
              "<Figure size 432x288 with 1 Axes>"
            ]
          },
          "metadata": {}
        }
      ]
    },
    {
      "cell_type": "markdown",
      "metadata": {
        "id": "u6o5--efLj6x"
      },
      "source": [
        "7. creare un nuovo dataframe che nella colonna 'Language' contenga solo 'English' o 'non English'\n"
      ]
    },
    {
      "cell_type": "code",
      "metadata": {
        "colab": {
          "base_uri": "https://localhost:8080/",
          "height": 649
        },
        "id": "TowMX50ZLlIo",
        "outputId": "d291aea6-152c-4e3f-9664-03dc02e96701"
      },
      "source": [
        "df3 = df.replace(df[df['Language']!='English']['Language'].tolist(),'non English')\n",
        "df3\n"
      ],
      "execution_count": null,
      "outputs": [
        {
          "output_type": "execute_result",
          "data": {
            "text/html": [
              "<div>\n",
              "<style scoped>\n",
              "    .dataframe tbody tr th:only-of-type {\n",
              "        vertical-align: middle;\n",
              "    }\n",
              "\n",
              "    .dataframe tbody tr th {\n",
              "        vertical-align: top;\n",
              "    }\n",
              "\n",
              "    .dataframe thead th {\n",
              "        text-align: right;\n",
              "    }\n",
              "</style>\n",
              "<table border=\"1\" class=\"dataframe\">\n",
              "  <thead>\n",
              "    <tr style=\"text-align: right;\">\n",
              "      <th></th>\n",
              "      <th>S.no.</th>\n",
              "      <th>Name of the show</th>\n",
              "      <th>Year of release</th>\n",
              "      <th>No of seasons available</th>\n",
              "      <th>Language</th>\n",
              "      <th>Genre</th>\n",
              "      <th>IMDb rating</th>\n",
              "      <th>Age of viewers</th>\n",
              "    </tr>\n",
              "  </thead>\n",
              "  <tbody>\n",
              "    <tr>\n",
              "      <th>0</th>\n",
              "      <td>1</td>\n",
              "      <td>Pataal Lok</td>\n",
              "      <td>2020.0</td>\n",
              "      <td>1.0</td>\n",
              "      <td>non English</td>\n",
              "      <td>Drama</td>\n",
              "      <td>7.5</td>\n",
              "      <td>18+</td>\n",
              "    </tr>\n",
              "    <tr>\n",
              "      <th>1</th>\n",
              "      <td>2</td>\n",
              "      <td>Upload</td>\n",
              "      <td>2020.0</td>\n",
              "      <td>1.0</td>\n",
              "      <td>English</td>\n",
              "      <td>Sci-fi comedy</td>\n",
              "      <td>8.1</td>\n",
              "      <td>16+</td>\n",
              "    </tr>\n",
              "    <tr>\n",
              "      <th>2</th>\n",
              "      <td>3</td>\n",
              "      <td>The Marvelous Mrs. Maisel</td>\n",
              "      <td>2017.0</td>\n",
              "      <td>3.0</td>\n",
              "      <td>English</td>\n",
              "      <td>Drama, Comedy</td>\n",
              "      <td>8.7</td>\n",
              "      <td>16+</td>\n",
              "    </tr>\n",
              "    <tr>\n",
              "      <th>3</th>\n",
              "      <td>4</td>\n",
              "      <td>Four More Shots Please</td>\n",
              "      <td>2019.0</td>\n",
              "      <td>2.0</td>\n",
              "      <td>non English</td>\n",
              "      <td>Drama, Comedy</td>\n",
              "      <td>5.3</td>\n",
              "      <td>18+</td>\n",
              "    </tr>\n",
              "    <tr>\n",
              "      <th>4</th>\n",
              "      <td>5</td>\n",
              "      <td>Fleabag</td>\n",
              "      <td>2016.0</td>\n",
              "      <td>2.0</td>\n",
              "      <td>English</td>\n",
              "      <td>Comedy</td>\n",
              "      <td>8.7</td>\n",
              "      <td>18+</td>\n",
              "    </tr>\n",
              "    <tr>\n",
              "      <th>...</th>\n",
              "      <td>...</td>\n",
              "      <td>...</td>\n",
              "      <td>...</td>\n",
              "      <td>...</td>\n",
              "      <td>...</td>\n",
              "      <td>...</td>\n",
              "      <td>...</td>\n",
              "      <td>...</td>\n",
              "    </tr>\n",
              "    <tr>\n",
              "      <th>373</th>\n",
              "      <td>374</td>\n",
              "      <td>The Danny Thomas Show</td>\n",
              "      <td>1958.0</td>\n",
              "      <td>3.0</td>\n",
              "      <td>English</td>\n",
              "      <td>Comedy</td>\n",
              "      <td>7.2</td>\n",
              "      <td>All</td>\n",
              "    </tr>\n",
              "    <tr>\n",
              "      <th>374</th>\n",
              "      <td>375</td>\n",
              "      <td>Hitoshi Matsumoto Presents Documental</td>\n",
              "      <td>2018.0</td>\n",
              "      <td>3.0</td>\n",
              "      <td>non English</td>\n",
              "      <td>Comedy</td>\n",
              "      <td>8.0</td>\n",
              "      <td>18+</td>\n",
              "    </tr>\n",
              "    <tr>\n",
              "      <th>375</th>\n",
              "      <td>376</td>\n",
              "      <td>Businessmen VS Aliens</td>\n",
              "      <td>2018.0</td>\n",
              "      <td>1.0</td>\n",
              "      <td>non English</td>\n",
              "      <td>Comedy</td>\n",
              "      <td>4.5</td>\n",
              "      <td>13+</td>\n",
              "    </tr>\n",
              "    <tr>\n",
              "      <th>379</th>\n",
              "      <td>380</td>\n",
              "      <td>Scooter: Secret Agent</td>\n",
              "      <td>2003.0</td>\n",
              "      <td>1.0</td>\n",
              "      <td>English</td>\n",
              "      <td>Comedy</td>\n",
              "      <td>6.8</td>\n",
              "      <td>All</td>\n",
              "    </tr>\n",
              "    <tr>\n",
              "      <th>383</th>\n",
              "      <td>384</td>\n",
              "      <td>The Real McCoys</td>\n",
              "      <td>1958.0</td>\n",
              "      <td>6.0</td>\n",
              "      <td>English</td>\n",
              "      <td>Comedy</td>\n",
              "      <td>7.5</td>\n",
              "      <td>All</td>\n",
              "    </tr>\n",
              "  </tbody>\n",
              "</table>\n",
              "<p>182 rows × 8 columns</p>\n",
              "</div>"
            ],
            "text/plain": [
              "     S.no.                       Name of the show  ...  IMDb rating  Age of viewers\n",
              "0        1                             Pataal Lok  ...          7.5             18+\n",
              "1        2                                 Upload  ...          8.1             16+\n",
              "2        3              The Marvelous Mrs. Maisel  ...          8.7             16+\n",
              "3        4                 Four More Shots Please  ...          5.3             18+\n",
              "4        5                                Fleabag  ...          8.7             18+\n",
              "..     ...                                    ...  ...          ...             ...\n",
              "373    374                  The Danny Thomas Show  ...          7.2             All\n",
              "374    375  Hitoshi Matsumoto Presents Documental  ...          8.0             18+\n",
              "375    376                  Businessmen VS Aliens  ...          4.5             13+\n",
              "379    380                  Scooter: Secret Agent  ...          6.8             All\n",
              "383    384                        The Real McCoys  ...          7.5             All\n",
              "\n",
              "[182 rows x 8 columns]"
            ]
          },
          "metadata": {},
          "execution_count": 17
        }
      ]
    },
    {
      "cell_type": "markdown",
      "metadata": {
        "id": "jUa4k9lwMZAR"
      },
      "source": [
        "8. visualizzare un grafico a barre con gli anni sulle ascisse e il numero di show in inglese e non in inglese sulle ordinate. Considerare solo gli ultimi 10 anni (vedi grafico allegato come esempio)\n"
      ]
    },
    {
      "cell_type": "code",
      "metadata": {
        "id": "YAl3V24jMZTg"
      },
      "source": [
        "import datetime"
      ],
      "execution_count": null,
      "outputs": []
    },
    {
      "cell_type": "code",
      "metadata": {
        "id": "LSUZNxgzs1T7",
        "colab": {
          "base_uri": "https://localhost:8080/"
        },
        "outputId": "0b30c4d8-d322-4288-c7a5-3b345132a735"
      },
      "source": [
        ""
      ],
      "execution_count": null,
      "outputs": [
        {
          "output_type": "execute_result",
          "data": {
            "text/plain": [
              "<pandas.core.groupby.generic.DataFrameGroupBy object at 0x7fcd16c805d0>"
            ]
          },
          "metadata": {},
          "execution_count": 66
        }
      ]
    },
    {
      "cell_type": "code",
      "metadata": {
        "id": "K-kIWgTGphPG",
        "colab": {
          "base_uri": "https://localhost:8080/",
          "height": 333
        },
        "outputId": "3aad055f-3bd1-43cb-bb74-d7cd38425849"
      },
      "source": [
        "year = datetime.datetime.now().year - 10\n",
        "df[df['Year of release']>= year].groupby(['Language'])['Year of release'].value_counts().unstack(0).plot.bar()\n",
        "plt.suptitle('Show')\n",
        "plt.show()"
      ],
      "execution_count": null,
      "outputs": [
        {
          "output_type": "display_data",
          "data": {
            "image/png": "[encoded data removed]",
            "text/plain": [
              "<Figure size 432x288 with 1 Axes>"
            ]
          },
          "metadata": {
            "needs_background": "light"
          }
        }
      ]
    }
  ]
}