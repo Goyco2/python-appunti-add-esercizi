{
  "nbformat": 4,
  "nbformat_minor": 0,
  "metadata": {
    "colab": {
      "name": "tuttoMatPlotLib",
      "provenance": []
    },
    "kernelspec": {
      "name": "python3",
      "display_name": "Python 3"
    },
    "language_info": {
      "name": "python"
    }
  },
  "cells": [
    {
      "cell_type": "code",
      "metadata": {
        "colab": {
          "base_uri": "https://localhost:8080/"
        },
        "id": "wSIGKRhZrQCR",
        "outputId": "83fe0cd9-1779-4ef4-9331-c524876fda20"
      },
      "source": [
        "!pip install squarify   # installo il pachetto squarify"
      ],
      "execution_count": null,
      "outputs": [
        {
          "output_type": "stream",
          "name": "stdout",
          "text": [
            "Collecting squarify\n",
            "  Downloading squarify-0.4.3-py3-none-any.whl (4.3 kB)\n",
            "Installing collected packages: squarify\n",
            "Successfully installed squarify-0.4.3\n"
          ]
        }
      ]
    },
    {
      "cell_type": "code",
      "metadata": {
        "id": "a-U6CdQwp6Ye"
      },
      "source": [
        "import pandas as pd\n",
        "import matplotlib.pyplot as pl\n",
        "import squarify"
      ],
      "execution_count": null,
      "outputs": []
    },
    {
      "cell_type": "markdown",
      "metadata": {
        "id": "uzPyaFaWyRDB"
      },
      "source": [
        "# grafico a barre"
      ]
    },
    {
      "cell_type": "code",
      "metadata": {
        "colab": {
          "base_uri": "https://localhost:8080/",
          "height": 238
        },
        "id": "Whpm4OOJrbjd",
        "outputId": "8c89f8fd-da92-4e55-8aa8-22efd0a46536"
      },
      "source": [
        "d = {'last_name': ['Boyer', 'Copeland', 'Daniel','Serrano', 'Terrell', 'Vargas'],\n",
        "      'quantity' : [766, 213, 812, 269, 100, 114],\n",
        "     'total_amount' : [643049.37, 203549.39, 744259.20, 253183.68, 93851.95, 123156.90]\n",
        "     }\n",
        "df = pd.DataFrame(d)\n",
        "df     #creo un dataFrame"
      ],
      "execution_count": null,
      "outputs": [
        {
          "output_type": "execute_result",
          "data": {
            "text/html": [
              "<div>\n",
              "<style scoped>\n",
              "    .dataframe tbody tr th:only-of-type {\n",
              "        vertical-align: middle;\n",
              "    }\n",
              "\n",
              "    .dataframe tbody tr th {\n",
              "        vertical-align: top;\n",
              "    }\n",
              "\n",
              "    .dataframe thead th {\n",
              "        text-align: right;\n",
              "    }\n",
              "</style>\n",
              "<table border=\"1\" class=\"dataframe\">\n",
              "  <thead>\n",
              "    <tr style=\"text-align: right;\">\n",
              "      <th></th>\n",
              "      <th>last_name</th>\n",
              "      <th>quantity</th>\n",
              "      <th>total_amount</th>\n",
              "    </tr>\n",
              "  </thead>\n",
              "  <tbody>\n",
              "    <tr>\n",
              "      <th>0</th>\n",
              "      <td>Boyer</td>\n",
              "      <td>766</td>\n",
              "      <td>643049.37</td>\n",
              "    </tr>\n",
              "    <tr>\n",
              "      <th>1</th>\n",
              "      <td>Copeland</td>\n",
              "      <td>213</td>\n",
              "      <td>203549.39</td>\n",
              "    </tr>\n",
              "    <tr>\n",
              "      <th>2</th>\n",
              "      <td>Daniel</td>\n",
              "      <td>812</td>\n",
              "      <td>744259.20</td>\n",
              "    </tr>\n",
              "    <tr>\n",
              "      <th>3</th>\n",
              "      <td>Serrano</td>\n",
              "      <td>269</td>\n",
              "      <td>253183.68</td>\n",
              "    </tr>\n",
              "    <tr>\n",
              "      <th>4</th>\n",
              "      <td>Terrell</td>\n",
              "      <td>100</td>\n",
              "      <td>93851.95</td>\n",
              "    </tr>\n",
              "    <tr>\n",
              "      <th>5</th>\n",
              "      <td>Vargas</td>\n",
              "      <td>114</td>\n",
              "      <td>123156.90</td>\n",
              "    </tr>\n",
              "  </tbody>\n",
              "</table>\n",
              "</div>"
            ],
            "text/plain": [
              "  last_name  quantity  total_amount\n",
              "0     Boyer       766     643049.37\n",
              "1  Copeland       213     203549.39\n",
              "2    Daniel       812     744259.20\n",
              "3   Serrano       269     253183.68\n",
              "4   Terrell       100      93851.95\n",
              "5    Vargas       114     123156.90"
            ]
          },
          "metadata": {},
          "execution_count": 37
        }
      ]
    },
    {
      "cell_type": "code",
      "metadata": {
        "colab": {
          "base_uri": "https://localhost:8080/",
          "height": 687
        },
        "id": "uOcRrPuoR0m0",
        "outputId": "07c3c746-bbc7-4963-9199-3c969a291423"
      },
      "source": [
        "quantita = list(df['quantity'])\n",
        "names = list(df['last_name'])\n",
        "tot = list(df['total_amount'])\n",
        "\n",
        "fig = plt.figure(figsize=(10,10))\n",
        "ax = plt.axes()\n",
        "\n",
        "ax.bar(names, tot)\n",
        "ax.bar(names, quantita,bottom=tot)\n",
        "ax.set_xlabel('last_name', fontsize = 20)\n",
        "ax.set_ylabel('quantity', fontsize = 20)\n",
        "fig.suptitle('ISTOGRAMMA', fontsize = 30)\n",
        "plt.show()"
      ],
      "execution_count": null,
      "outputs": [
        {
          "output_type": "display_data",
          "data": {
            "image/png": "[encoded data removed]",
            "text/plain": [
              "<Figure size 720x720 with 1 Axes>"
            ]
          },
          "metadata": {
            "needs_background": "light"
          }
        }
      ]
    },
    {
      "cell_type": "code",
      "metadata": {
        "colab": {
          "base_uri": "https://localhost:8080/",
          "height": 687
        },
        "id": "VFFjAZLHro65",
        "outputId": "d09e4dbd-8399-4d49-a816-5560fb340bf6"
      },
      "source": [
        "#creo grafico a barre\n",
        "data = list(df['quantity'])\n",
        "names = list(df['last_name'])\n",
        "\n",
        "fig = plt.figure(figsize=(10,10))\n",
        "ax = plt.axes()\n",
        "\n",
        "ax.bar(names, data, color ='r')       #set_xlabel serve a inserire il nome della linea\n",
        "#ax.barh(df.sort_values(\"last_name\", ascending = False)[\"last_name\"], df[\"quantity\"].sort_values(ascending = False), color = \"c\")        per visualizzare il grafico a barre orizzonatele in ordine decrecente\n",
        "\n",
        "ax.set_xlabel('last_name', fontsize = 20)\n",
        "ax.set_ylabel('quantity', fontsize = 20)\n",
        "fig.suptitle('ISTOGRAMMA', fontsize = 30)\n",
        "plt.show()"
      ],
      "execution_count": null,
      "outputs": [
        {
          "output_type": "display_data",
          "data": {
            "image/png": "[encoded data removed]",
            "text/plain": [
              "<Figure size 720x720 with 1 Axes>"
            ]
          },
          "metadata": {
            "needs_background": "light"
          }
        }
      ]
    },
    {
      "cell_type": "code",
      "metadata": {
        "id": "3n40tanww-JM"
      },
      "source": [
        ""
      ],
      "execution_count": null,
      "outputs": []
    },
    {
      "cell_type": "code",
      "metadata": {
        "colab": {
          "base_uri": "https://localhost:8080/",
          "height": 252
        },
        "id": "rM9-MkTxjouk",
        "outputId": "ef776b50-99bf-444f-fae2-80db4c684ff9"
      },
      "source": [
        "pl.figure(figsize=(6, 4))\n",
        "\n",
        "#subplot(2, 2, 1)\n",
        "a1=pl.subplot(3, 2, 1)\n",
        "a1.set_xticklabels(())\n",
        "a1.set_yticklabels(())\n",
        "\n",
        "#subplot(2, 2, 2)\n",
        "a2=pl.subplot(3, 2, 2)\n",
        "a2.set_xticklabels(())\n",
        "a2.set_yticklabels(())\n",
        "\n",
        "#subplot(2, 2, 3)\n",
        "a3=pl.subplot(3, 2, 3)\n",
        "a3.set_xticklabels(())\n",
        "a3.set_yticklabels(())\n",
        "\n",
        "#subplot(2, 2, 3)\n",
        "a4=pl.subplot(3, 2, 4)\n",
        "a4.set_xticklabels(())\n",
        "a4.set_yticklabels(())\n",
        "\n",
        "a5=pl.subplot(3, 2, 5)\n",
        "a5.set_xticklabels(())\n",
        "a5.set_yticklabels(())\n",
        "\n",
        "a6=pl.subplot(3, 2, 6)\n",
        "a6.set_xticklabels(())\n",
        "a6.set_yticklabels(())\n",
        "\n",
        "pl.show()\n"
      ],
      "execution_count": null,
      "outputs": [
        {
          "output_type": "display_data",
          "data": {
            "image/png": "[encoded data removed]",
            "text/plain": [
              "<Figure size 432x288 with 6 Axes>"
            ]
          },
          "metadata": {
            "needs_background": "light"
          }
        }
      ]
    },
    {
      "cell_type": "code",
      "metadata": {
        "colab": {
          "base_uri": "https://localhost:8080/",
          "height": 694
        },
        "id": "5DsJo1KRz7q2",
        "outputId": "0f652dd9-0e67-4bd1-aca3-82ffb353af96"
      },
      "source": [
        "fig = plt.figure(figsize=(10,10))\n",
        "ax = plt.axes()\n",
        "ax.bar(df[\"last_name\"], df[\"total_amount\"]/df[\"quantity\"])          #trovo il costo medio\n",
        "ax.set_xlabel('x')\n",
        "ax.set_ylabel('y')\n",
        "ax.set_ylim([800,1100])                                             #dichiaro l'inizo dell'asse y\n",
        "ax.legend(loc=1)\n",
        "fig.suptitle('Istogramma')\n",
        "plt.show()"
      ],
      "execution_count": null,
      "outputs": [
        {
          "output_type": "stream",
          "name": "stderr",
          "text": [
            "No handles with labels found to put in legend.\n"
          ]
        },
        {
          "output_type": "display_data",
          "data": {
            "image/png": "[encoded data removed]",
            "text/plain": [
              "<Figure size 720x720 with 1 Axes>"
            ]
          },
          "metadata": {
            "needs_background": "light"
          }
        }
      ]
    },
    {
      "cell_type": "markdown",
      "metadata": {
        "id": "-WVjPO1_yiiK"
      },
      "source": [
        "# grafico a torta"
      ]
    },
    {
      "cell_type": "code",
      "metadata": {
        "colab": {
          "base_uri": "https://localhost:8080/",
          "height": 237
        },
        "id": "E3U0ej0ftV-f",
        "outputId": "71864910-2d40-4717-d88b-9d7ecf95550d"
      },
      "source": [
        "d = {'last_name': ['Copeland', 'Serrano', 'Boyer','Daniel', 'Vergas', 'Terrell'],\n",
        "      'order_perc' : [9.242144, 10.720887, 34.195933, 36.229205, 5.175601, 4.436229]\n",
        "     }\n",
        "df = pd.DataFrame(d)\n",
        "df"
      ],
      "execution_count": null,
      "outputs": [
        {
          "output_type": "execute_result",
          "data": {
            "text/html": [
              "<div>\n",
              "<style scoped>\n",
              "    .dataframe tbody tr th:only-of-type {\n",
              "        vertical-align: middle;\n",
              "    }\n",
              "\n",
              "    .dataframe tbody tr th {\n",
              "        vertical-align: top;\n",
              "    }\n",
              "\n",
              "    .dataframe thead th {\n",
              "        text-align: right;\n",
              "    }\n",
              "</style>\n",
              "<table border=\"1\" class=\"dataframe\">\n",
              "  <thead>\n",
              "    <tr style=\"text-align: right;\">\n",
              "      <th></th>\n",
              "      <th>last_name</th>\n",
              "      <th>order_perc</th>\n",
              "    </tr>\n",
              "  </thead>\n",
              "  <tbody>\n",
              "    <tr>\n",
              "      <th>0</th>\n",
              "      <td>Copeland</td>\n",
              "      <td>9.242144</td>\n",
              "    </tr>\n",
              "    <tr>\n",
              "      <th>1</th>\n",
              "      <td>Serrano</td>\n",
              "      <td>10.720887</td>\n",
              "    </tr>\n",
              "    <tr>\n",
              "      <th>2</th>\n",
              "      <td>Boyer</td>\n",
              "      <td>34.195933</td>\n",
              "    </tr>\n",
              "    <tr>\n",
              "      <th>3</th>\n",
              "      <td>Daniel</td>\n",
              "      <td>36.229205</td>\n",
              "    </tr>\n",
              "    <tr>\n",
              "      <th>4</th>\n",
              "      <td>Vergas</td>\n",
              "      <td>5.175601</td>\n",
              "    </tr>\n",
              "    <tr>\n",
              "      <th>5</th>\n",
              "      <td>Terrell</td>\n",
              "      <td>4.436229</td>\n",
              "    </tr>\n",
              "  </tbody>\n",
              "</table>\n",
              "</div>"
            ],
            "text/plain": [
              "  last_name  order_perc\n",
              "0  Copeland    9.242144\n",
              "1   Serrano   10.720887\n",
              "2     Boyer   34.195933\n",
              "3    Daniel   36.229205\n",
              "4    Vergas    5.175601\n",
              "5   Terrell    4.436229"
            ]
          },
          "metadata": {},
          "execution_count": 23
        }
      ]
    },
    {
      "cell_type": "code",
      "metadata": {
        "colab": {
          "base_uri": "https://localhost:8080/",
          "height": 663
        },
        "id": "9X0NGF75tdJh",
        "outputId": "37572686-e171-4c9c-8bd2-fc29a8b2cae1"
      },
      "source": [
        "names = list(df['last_name'])\n",
        "values = list(df['order_perc'])\n",
        "fig = plt.figure(figsize=[10,10])\n",
        "fig.suptitle('grafico a torta', color = 'r', fontsize= 40)    #titolo\n",
        "\n",
        "ax = plt.axes()\n",
        "ax.pie(values, labels=names,colors= ['r','m'], autopct='%1.2f%%', explode=(0,0.1,0,0,0,0))       #2f%% serve a vedere 2 numeri dopo il punto\n",
        "plt.show"
      ],
      "execution_count": null,
      "outputs": [
        {
          "output_type": "execute_result",
          "data": {
            "text/plain": [
              "<function matplotlib.pyplot.show>"
            ]
          },
          "metadata": {},
          "execution_count": 44
        },
        {
          "output_type": "display_data",
          "data": {
            "image/png": "[encoded data removed]",
            "text/plain": [
              "<Figure size 720x720 with 1 Axes>"
            ]
          },
          "metadata": {}
        }
      ]
    },
    {
      "cell_type": "markdown",
      "metadata": {
        "id": "Dqh64DR6yl5a"
      },
      "source": [
        "# grfaico treeMap"
      ]
    },
    {
      "cell_type": "code",
      "metadata": {
        "colab": {
          "base_uri": "https://localhost:8080/",
          "height": 247
        },
        "id": "QAw0PHbquWcm",
        "outputId": "93c5dd0d-c844-4134-ec06-80e9bcc7a164"
      },
      "source": [
        "taglia=list(df['order_perc'])\n",
        "label1 = list(df['last_name'])\n",
        "squarify.plot(sizes=taglia, label=label1)     #grafico treemap\n",
        "plt.axis('off') #toglie le assi\n",
        "plt.show()"
      ],
      "execution_count": null,
      "outputs": [
        {
          "output_type": "display_data",
          "data": {
            "image/png": "[encoded data removed]",
            "text/plain": [
              "<Figure size 432x288 with 1 Axes>"
            ]
          },
          "metadata": {
            "needs_background": "light"
          }
        }
      ]
    },
    {
      "cell_type": "markdown",
      "metadata": {
        "id": "kxReDkFr035I"
      },
      "source": [
        "# Pandas X MatPlotLib"
      ]
    },
    {
      "cell_type": "code",
      "metadata": {
        "id": "9zBdAum207_Y"
      },
      "source": [
        "import matplotlib\n",
        "import numpy as np"
      ],
      "execution_count": null,
      "outputs": []
    },
    {
      "cell_type": "code",
      "metadata": {
        "colab": {
          "base_uri": "https://localhost:8080/",
          "height": 444
        },
        "id": "ZQkHvVaL1DhC",
        "outputId": "d4dba7a7-f8a7-429f-d35e-9e40e7ad3240"
      },
      "source": [
        "df = pd.read_csv('https://raw.githubusercontent.com/italia/covid19-opendata-vaccini/master/dati/consegne-vaccini-latest.csv')\n",
        "df"
      ],
      "execution_count": null,
      "outputs": [
        {
          "output_type": "execute_result",
          "data": {
            "text/html": [
              "<div>\n",
              "<style scoped>\n",
              "    .dataframe tbody tr th:only-of-type {\n",
              "        vertical-align: middle;\n",
              "    }\n",
              "\n",
              "    .dataframe tbody tr th {\n",
              "        vertical-align: top;\n",
              "    }\n",
              "\n",
              "    .dataframe thead th {\n",
              "        text-align: right;\n",
              "    }\n",
              "</style>\n",
              "<table border=\"1\" class=\"dataframe\">\n",
              "  <thead>\n",
              "    <tr style=\"text-align: right;\">\n",
              "      <th></th>\n",
              "      <th>area</th>\n",
              "      <th>fornitore</th>\n",
              "      <th>numero_dosi</th>\n",
              "      <th>data_consegna</th>\n",
              "      <th>codice_NUTS1</th>\n",
              "      <th>codice_NUTS2</th>\n",
              "      <th>codice_regione_ISTAT</th>\n",
              "      <th>nome_area</th>\n",
              "    </tr>\n",
              "  </thead>\n",
              "  <tbody>\n",
              "    <tr>\n",
              "      <th>0</th>\n",
              "      <td>ABR</td>\n",
              "      <td>Pfizer/BioNTech</td>\n",
              "      <td>135</td>\n",
              "      <td>2020-12-27</td>\n",
              "      <td>ITF</td>\n",
              "      <td>ITF1</td>\n",
              "      <td>13</td>\n",
              "      <td>Abruzzo</td>\n",
              "    </tr>\n",
              "    <tr>\n",
              "      <th>1</th>\n",
              "      <td>ABR</td>\n",
              "      <td>Pfizer/BioNTech</td>\n",
              "      <td>7800</td>\n",
              "      <td>2020-12-30</td>\n",
              "      <td>ITF</td>\n",
              "      <td>ITF1</td>\n",
              "      <td>13</td>\n",
              "      <td>Abruzzo</td>\n",
              "    </tr>\n",
              "    <tr>\n",
              "      <th>2</th>\n",
              "      <td>ABR</td>\n",
              "      <td>Pfizer/BioNTech</td>\n",
              "      <td>3900</td>\n",
              "      <td>2021-01-05</td>\n",
              "      <td>ITF</td>\n",
              "      <td>ITF1</td>\n",
              "      <td>13</td>\n",
              "      <td>Abruzzo</td>\n",
              "    </tr>\n",
              "    <tr>\n",
              "      <th>3</th>\n",
              "      <td>ABR</td>\n",
              "      <td>Pfizer/BioNTech</td>\n",
              "      <td>3900</td>\n",
              "      <td>2021-01-07</td>\n",
              "      <td>ITF</td>\n",
              "      <td>ITF1</td>\n",
              "      <td>13</td>\n",
              "      <td>Abruzzo</td>\n",
              "    </tr>\n",
              "    <tr>\n",
              "      <th>4</th>\n",
              "      <td>ABR</td>\n",
              "      <td>Pfizer/BioNTech</td>\n",
              "      <td>3900</td>\n",
              "      <td>2021-01-11</td>\n",
              "      <td>ITF</td>\n",
              "      <td>ITF1</td>\n",
              "      <td>13</td>\n",
              "      <td>Abruzzo</td>\n",
              "    </tr>\n",
              "    <tr>\n",
              "      <th>...</th>\n",
              "      <td>...</td>\n",
              "      <td>...</td>\n",
              "      <td>...</td>\n",
              "      <td>...</td>\n",
              "      <td>...</td>\n",
              "      <td>...</td>\n",
              "      <td>...</td>\n",
              "      <td>...</td>\n",
              "    </tr>\n",
              "    <tr>\n",
              "      <th>5357</th>\n",
              "      <td>VEN</td>\n",
              "      <td>Pfizer/BioNTech</td>\n",
              "      <td>4</td>\n",
              "      <td>2021-10-15</td>\n",
              "      <td>ITH</td>\n",
              "      <td>ITH3</td>\n",
              "      <td>5</td>\n",
              "      <td>Veneto</td>\n",
              "    </tr>\n",
              "    <tr>\n",
              "      <th>5358</th>\n",
              "      <td>VEN</td>\n",
              "      <td>Moderna</td>\n",
              "      <td>5</td>\n",
              "      <td>2021-11-11</td>\n",
              "      <td>ITH</td>\n",
              "      <td>ITH3</td>\n",
              "      <td>5</td>\n",
              "      <td>Veneto</td>\n",
              "    </tr>\n",
              "    <tr>\n",
              "      <th>5359</th>\n",
              "      <td>VEN</td>\n",
              "      <td>Moderna</td>\n",
              "      <td>161300</td>\n",
              "      <td>2021-11-22</td>\n",
              "      <td>ITH</td>\n",
              "      <td>ITH3</td>\n",
              "      <td>5</td>\n",
              "      <td>Veneto</td>\n",
              "    </tr>\n",
              "    <tr>\n",
              "      <th>5360</th>\n",
              "      <td>VEN</td>\n",
              "      <td>Moderna</td>\n",
              "      <td>2</td>\n",
              "      <td>2021-11-24</td>\n",
              "      <td>ITH</td>\n",
              "      <td>ITH3</td>\n",
              "      <td>5</td>\n",
              "      <td>Veneto</td>\n",
              "    </tr>\n",
              "    <tr>\n",
              "      <th>5361</th>\n",
              "      <td>VEN</td>\n",
              "      <td>Moderna</td>\n",
              "      <td>1</td>\n",
              "      <td>2021-11-25</td>\n",
              "      <td>ITH</td>\n",
              "      <td>ITH3</td>\n",
              "      <td>5</td>\n",
              "      <td>Veneto</td>\n",
              "    </tr>\n",
              "  </tbody>\n",
              "</table>\n",
              "<p>5362 rows × 8 columns</p>\n",
              "</div>"
            ],
            "text/plain": [
              "     area        fornitore  ...  codice_regione_ISTAT nome_area\n",
              "0     ABR  Pfizer/BioNTech  ...                    13   Abruzzo\n",
              "1     ABR  Pfizer/BioNTech  ...                    13   Abruzzo\n",
              "2     ABR  Pfizer/BioNTech  ...                    13   Abruzzo\n",
              "3     ABR  Pfizer/BioNTech  ...                    13   Abruzzo\n",
              "4     ABR  Pfizer/BioNTech  ...                    13   Abruzzo\n",
              "...   ...              ...  ...                   ...       ...\n",
              "5357  VEN  Pfizer/BioNTech  ...                     5    Veneto\n",
              "5358  VEN          Moderna  ...                     5    Veneto\n",
              "5359  VEN          Moderna  ...                     5    Veneto\n",
              "5360  VEN          Moderna  ...                     5    Veneto\n",
              "5361  VEN          Moderna  ...                     5    Veneto\n",
              "\n",
              "[5362 rows x 8 columns]"
            ]
          },
          "metadata": {},
          "execution_count": 67
        }
      ]
    },
    {
      "cell_type": "code",
      "metadata": {
        "colab": {
          "base_uri": "https://localhost:8080/"
        },
        "id": "XbXtDdbsVQvi",
        "outputId": "0163421e-ae98-4f27-d70e-012bf4ceb859"
      },
      "source": [
        "df['numero_dosi'].count()"
      ],
      "execution_count": null,
      "outputs": [
        {
          "output_type": "execute_result",
          "data": {
            "text/plain": [
              "5362"
            ]
          },
          "metadata": {},
          "execution_count": 68
        }
      ]
    },
    {
      "cell_type": "code",
      "metadata": {
        "colab": {
          "base_uri": "https://localhost:8080/",
          "height": 423
        },
        "id": "99oCHe3K3-lf",
        "outputId": "3594916c-ebf7-4526-84f6-71acad8bc51d"
      },
      "source": [
        "df = df.filter(['fornitore','numero_dosi','nome_area']) #filter = serve a filtrare in questo caso fa passare solo queste colonne\n",
        "df"
      ],
      "execution_count": null,
      "outputs": [
        {
          "output_type": "execute_result",
          "data": {
            "text/html": [
              "<div>\n",
              "<style scoped>\n",
              "    .dataframe tbody tr th:only-of-type {\n",
              "        vertical-align: middle;\n",
              "    }\n",
              "\n",
              "    .dataframe tbody tr th {\n",
              "        vertical-align: top;\n",
              "    }\n",
              "\n",
              "    .dataframe thead th {\n",
              "        text-align: right;\n",
              "    }\n",
              "</style>\n",
              "<table border=\"1\" class=\"dataframe\">\n",
              "  <thead>\n",
              "    <tr style=\"text-align: right;\">\n",
              "      <th></th>\n",
              "      <th>fornitore</th>\n",
              "      <th>numero_dosi</th>\n",
              "      <th>nome_area</th>\n",
              "    </tr>\n",
              "  </thead>\n",
              "  <tbody>\n",
              "    <tr>\n",
              "      <th>0</th>\n",
              "      <td>Pfizer/BioNTech</td>\n",
              "      <td>135</td>\n",
              "      <td>Abruzzo</td>\n",
              "    </tr>\n",
              "    <tr>\n",
              "      <th>1</th>\n",
              "      <td>Pfizer/BioNTech</td>\n",
              "      <td>7800</td>\n",
              "      <td>Abruzzo</td>\n",
              "    </tr>\n",
              "    <tr>\n",
              "      <th>2</th>\n",
              "      <td>Pfizer/BioNTech</td>\n",
              "      <td>3900</td>\n",
              "      <td>Abruzzo</td>\n",
              "    </tr>\n",
              "    <tr>\n",
              "      <th>3</th>\n",
              "      <td>Pfizer/BioNTech</td>\n",
              "      <td>3900</td>\n",
              "      <td>Abruzzo</td>\n",
              "    </tr>\n",
              "    <tr>\n",
              "      <th>4</th>\n",
              "      <td>Pfizer/BioNTech</td>\n",
              "      <td>3900</td>\n",
              "      <td>Abruzzo</td>\n",
              "    </tr>\n",
              "    <tr>\n",
              "      <th>...</th>\n",
              "      <td>...</td>\n",
              "      <td>...</td>\n",
              "      <td>...</td>\n",
              "    </tr>\n",
              "    <tr>\n",
              "      <th>5356</th>\n",
              "      <td>Pfizer/BioNTech</td>\n",
              "      <td>4</td>\n",
              "      <td>Veneto</td>\n",
              "    </tr>\n",
              "    <tr>\n",
              "      <th>5357</th>\n",
              "      <td>Moderna</td>\n",
              "      <td>5</td>\n",
              "      <td>Veneto</td>\n",
              "    </tr>\n",
              "    <tr>\n",
              "      <th>5358</th>\n",
              "      <td>Moderna</td>\n",
              "      <td>161300</td>\n",
              "      <td>Veneto</td>\n",
              "    </tr>\n",
              "    <tr>\n",
              "      <th>5359</th>\n",
              "      <td>Moderna</td>\n",
              "      <td>2</td>\n",
              "      <td>Veneto</td>\n",
              "    </tr>\n",
              "    <tr>\n",
              "      <th>5360</th>\n",
              "      <td>Moderna</td>\n",
              "      <td>1</td>\n",
              "      <td>Veneto</td>\n",
              "    </tr>\n",
              "  </tbody>\n",
              "</table>\n",
              "<p>5361 rows × 3 columns</p>\n",
              "</div>"
            ],
            "text/plain": [
              "            fornitore  numero_dosi nome_area\n",
              "0     Pfizer/BioNTech          135   Abruzzo\n",
              "1     Pfizer/BioNTech         7800   Abruzzo\n",
              "2     Pfizer/BioNTech         3900   Abruzzo\n",
              "3     Pfizer/BioNTech         3900   Abruzzo\n",
              "4     Pfizer/BioNTech         3900   Abruzzo\n",
              "...               ...          ...       ...\n",
              "5356  Pfizer/BioNTech            4    Veneto\n",
              "5357          Moderna            5    Veneto\n",
              "5358          Moderna       161300    Veneto\n",
              "5359          Moderna            2    Veneto\n",
              "5360          Moderna            1    Veneto\n",
              "\n",
              "[5361 rows x 3 columns]"
            ]
          },
          "metadata": {},
          "execution_count": 97
        }
      ]
    },
    {
      "cell_type": "code",
      "metadata": {
        "colab": {
          "base_uri": "https://localhost:8080/"
        },
        "id": "yx5keeBt4t_V",
        "outputId": "abc8adea-82f2-43dd-8285-99bd4af8fff3"
      },
      "source": [
        "df[df['fornitore']== 'Moderna'].count()          #conto quanti moderna ci sono in fornitore"
      ],
      "execution_count": null,
      "outputs": [
        {
          "output_type": "execute_result",
          "data": {
            "text/plain": [
              "fornitore      1691\n",
              "numero_dosi    1691\n",
              "nome_area      1691\n",
              "dtype: int64"
            ]
          },
          "metadata": {},
          "execution_count": 102
        }
      ]
    },
    {
      "cell_type": "code",
      "metadata": {
        "colab": {
          "base_uri": "https://localhost:8080/",
          "height": 423
        },
        "id": "FtGfTJDb5CXP",
        "outputId": "eb4519ff-19c1-4937-a345-0c39244215f6"
      },
      "source": [
        "df['fornitore'].replace('Moderna', np.nan, inplace= True)\n",
        "df                                         #rimpiazzo moderna con nan"
      ],
      "execution_count": null,
      "outputs": [
        {
          "output_type": "execute_result",
          "data": {
            "text/html": [
              "<div>\n",
              "<style scoped>\n",
              "    .dataframe tbody tr th:only-of-type {\n",
              "        vertical-align: middle;\n",
              "    }\n",
              "\n",
              "    .dataframe tbody tr th {\n",
              "        vertical-align: top;\n",
              "    }\n",
              "\n",
              "    .dataframe thead th {\n",
              "        text-align: right;\n",
              "    }\n",
              "</style>\n",
              "<table border=\"1\" class=\"dataframe\">\n",
              "  <thead>\n",
              "    <tr style=\"text-align: right;\">\n",
              "      <th></th>\n",
              "      <th>fornitore</th>\n",
              "      <th>numero_dosi</th>\n",
              "      <th>nome_area</th>\n",
              "    </tr>\n",
              "  </thead>\n",
              "  <tbody>\n",
              "    <tr>\n",
              "      <th>0</th>\n",
              "      <td>Pfizer/BioNTech</td>\n",
              "      <td>135</td>\n",
              "      <td>Abruzzo</td>\n",
              "    </tr>\n",
              "    <tr>\n",
              "      <th>1</th>\n",
              "      <td>Pfizer/BioNTech</td>\n",
              "      <td>7800</td>\n",
              "      <td>Abruzzo</td>\n",
              "    </tr>\n",
              "    <tr>\n",
              "      <th>2</th>\n",
              "      <td>Pfizer/BioNTech</td>\n",
              "      <td>3900</td>\n",
              "      <td>Abruzzo</td>\n",
              "    </tr>\n",
              "    <tr>\n",
              "      <th>3</th>\n",
              "      <td>Pfizer/BioNTech</td>\n",
              "      <td>3900</td>\n",
              "      <td>Abruzzo</td>\n",
              "    </tr>\n",
              "    <tr>\n",
              "      <th>4</th>\n",
              "      <td>Pfizer/BioNTech</td>\n",
              "      <td>3900</td>\n",
              "      <td>Abruzzo</td>\n",
              "    </tr>\n",
              "    <tr>\n",
              "      <th>...</th>\n",
              "      <td>...</td>\n",
              "      <td>...</td>\n",
              "      <td>...</td>\n",
              "    </tr>\n",
              "    <tr>\n",
              "      <th>5356</th>\n",
              "      <td>Pfizer/BioNTech</td>\n",
              "      <td>4</td>\n",
              "      <td>Veneto</td>\n",
              "    </tr>\n",
              "    <tr>\n",
              "      <th>5357</th>\n",
              "      <td>NaN</td>\n",
              "      <td>5</td>\n",
              "      <td>Veneto</td>\n",
              "    </tr>\n",
              "    <tr>\n",
              "      <th>5358</th>\n",
              "      <td>NaN</td>\n",
              "      <td>161300</td>\n",
              "      <td>Veneto</td>\n",
              "    </tr>\n",
              "    <tr>\n",
              "      <th>5359</th>\n",
              "      <td>NaN</td>\n",
              "      <td>2</td>\n",
              "      <td>Veneto</td>\n",
              "    </tr>\n",
              "    <tr>\n",
              "      <th>5360</th>\n",
              "      <td>NaN</td>\n",
              "      <td>1</td>\n",
              "      <td>Veneto</td>\n",
              "    </tr>\n",
              "  </tbody>\n",
              "</table>\n",
              "<p>5361 rows × 3 columns</p>\n",
              "</div>"
            ],
            "text/plain": [
              "            fornitore  numero_dosi nome_area\n",
              "0     Pfizer/BioNTech          135   Abruzzo\n",
              "1     Pfizer/BioNTech         7800   Abruzzo\n",
              "2     Pfizer/BioNTech         3900   Abruzzo\n",
              "3     Pfizer/BioNTech         3900   Abruzzo\n",
              "4     Pfizer/BioNTech         3900   Abruzzo\n",
              "...               ...          ...       ...\n",
              "5356  Pfizer/BioNTech            4    Veneto\n",
              "5357              NaN            5    Veneto\n",
              "5358              NaN       161300    Veneto\n",
              "5359              NaN            2    Veneto\n",
              "5360              NaN            1    Veneto\n",
              "\n",
              "[5361 rows x 3 columns]"
            ]
          },
          "metadata": {},
          "execution_count": 103
        }
      ]
    },
    {
      "cell_type": "code",
      "metadata": {
        "colab": {
          "base_uri": "https://localhost:8080/",
          "height": 423
        },
        "id": "-BhTEjA25QOj",
        "outputId": "963c3b5a-9594-451c-9914-a9a50b411526"
      },
      "source": [
        "df.drop(df[(df['fornitore'].isnull())].index)                   #elimino i data frame che hanno nan"
      ],
      "execution_count": null,
      "outputs": [
        {
          "output_type": "execute_result",
          "data": {
            "text/html": [
              "<div>\n",
              "<style scoped>\n",
              "    .dataframe tbody tr th:only-of-type {\n",
              "        vertical-align: middle;\n",
              "    }\n",
              "\n",
              "    .dataframe tbody tr th {\n",
              "        vertical-align: top;\n",
              "    }\n",
              "\n",
              "    .dataframe thead th {\n",
              "        text-align: right;\n",
              "    }\n",
              "</style>\n",
              "<table border=\"1\" class=\"dataframe\">\n",
              "  <thead>\n",
              "    <tr style=\"text-align: right;\">\n",
              "      <th></th>\n",
              "      <th>fornitore</th>\n",
              "      <th>numero_dosi</th>\n",
              "      <th>nome_area</th>\n",
              "    </tr>\n",
              "  </thead>\n",
              "  <tbody>\n",
              "    <tr>\n",
              "      <th>0</th>\n",
              "      <td>Pfizer/BioNTech</td>\n",
              "      <td>135</td>\n",
              "      <td>Abruzzo</td>\n",
              "    </tr>\n",
              "    <tr>\n",
              "      <th>1</th>\n",
              "      <td>Pfizer/BioNTech</td>\n",
              "      <td>7800</td>\n",
              "      <td>Abruzzo</td>\n",
              "    </tr>\n",
              "    <tr>\n",
              "      <th>2</th>\n",
              "      <td>Pfizer/BioNTech</td>\n",
              "      <td>3900</td>\n",
              "      <td>Abruzzo</td>\n",
              "    </tr>\n",
              "    <tr>\n",
              "      <th>3</th>\n",
              "      <td>Pfizer/BioNTech</td>\n",
              "      <td>3900</td>\n",
              "      <td>Abruzzo</td>\n",
              "    </tr>\n",
              "    <tr>\n",
              "      <th>4</th>\n",
              "      <td>Pfizer/BioNTech</td>\n",
              "      <td>3900</td>\n",
              "      <td>Abruzzo</td>\n",
              "    </tr>\n",
              "    <tr>\n",
              "      <th>...</th>\n",
              "      <td>...</td>\n",
              "      <td>...</td>\n",
              "      <td>...</td>\n",
              "    </tr>\n",
              "    <tr>\n",
              "      <th>5348</th>\n",
              "      <td>Pfizer/BioNTech</td>\n",
              "      <td>4</td>\n",
              "      <td>Veneto</td>\n",
              "    </tr>\n",
              "    <tr>\n",
              "      <th>5349</th>\n",
              "      <td>Janssen</td>\n",
              "      <td>-15700</td>\n",
              "      <td>Veneto</td>\n",
              "    </tr>\n",
              "    <tr>\n",
              "      <th>5351</th>\n",
              "      <td>Pfizer/BioNTech</td>\n",
              "      <td>270270</td>\n",
              "      <td>Veneto</td>\n",
              "    </tr>\n",
              "    <tr>\n",
              "      <th>5352</th>\n",
              "      <td>Pfizer/BioNTech</td>\n",
              "      <td>91260</td>\n",
              "      <td>Veneto</td>\n",
              "    </tr>\n",
              "    <tr>\n",
              "      <th>5356</th>\n",
              "      <td>Pfizer/BioNTech</td>\n",
              "      <td>4</td>\n",
              "      <td>Veneto</td>\n",
              "    </tr>\n",
              "  </tbody>\n",
              "</table>\n",
              "<p>3670 rows × 3 columns</p>\n",
              "</div>"
            ],
            "text/plain": [
              "            fornitore  numero_dosi nome_area\n",
              "0     Pfizer/BioNTech          135   Abruzzo\n",
              "1     Pfizer/BioNTech         7800   Abruzzo\n",
              "2     Pfizer/BioNTech         3900   Abruzzo\n",
              "3     Pfizer/BioNTech         3900   Abruzzo\n",
              "4     Pfizer/BioNTech         3900   Abruzzo\n",
              "...               ...          ...       ...\n",
              "5348  Pfizer/BioNTech            4    Veneto\n",
              "5349          Janssen       -15700    Veneto\n",
              "5351  Pfizer/BioNTech       270270    Veneto\n",
              "5352  Pfizer/BioNTech        91260    Veneto\n",
              "5356  Pfizer/BioNTech            4    Veneto\n",
              "\n",
              "[3670 rows x 3 columns]"
            ]
          },
          "metadata": {},
          "execution_count": 104
        }
      ]
    },
    {
      "cell_type": "code",
      "metadata": {
        "colab": {
          "base_uri": "https://localhost:8080/"
        },
        "id": "NI_m-PuT1Jgc",
        "outputId": "2d02fd8c-87ee-427c-97c8-7934b3fa667a"
      },
      "source": [
        "df.loc[df['nome_area'] == input('Inserisci in nome di una regione: ').title(), 'numero_dosi'].count()    #faccio inserire all'utente una regione di cuoi poi mi vendra riportato il numero di dosi "
      ],
      "execution_count": null,
      "outputs": [
        {
          "name": "stdout",
          "output_type": "stream",
          "text": [
            "Inserisci in nome di una regione: s\n"
          ]
        },
        {
          "output_type": "execute_result",
          "data": {
            "text/plain": [
              "0"
            ]
          },
          "metadata": {},
          "execution_count": 98
        }
      ]
    },
    {
      "cell_type": "code",
      "metadata": {
        "colab": {
          "base_uri": "https://localhost:8080/"
        },
        "id": "eUHM1nfR18gd",
        "outputId": "e407e1ff-f38e-4fde-a291-7d9521f55e22"
      },
      "source": [
        "user_input = input('Inserisci in nome di una regione: ').title()\n",
        "n = df['nome_area'].str.contains(user_input).sum()\n",
        "\n",
        "if n > 1:\n",
        "  print(df.loc[df['nome_area'] == user_input, 'numero_dosi'].count())\n",
        "else:\n",
        "  print('La regione inserita non esiste!')                   #in questo es in caso che la regione non esista invia un messaggio"
      ],
      "execution_count": null,
      "outputs": [
        {
          "output_type": "stream",
          "name": "stdout",
          "text": [
            "Inserisci in nome di una regione: s\n",
            "0\n"
          ]
        }
      ]
    },
    {
      "cell_type": "code",
      "metadata": {
        "colab": {
          "base_uri": "https://localhost:8080/",
          "height": 192
        },
        "id": "-_bx64K32MMr",
        "outputId": "f33c6c44-3889-42b8-ce55-cc08f66f4447"
      },
      "source": [
        "Lo               #in questo es visualizzo il numero di vaccini forniti dai vari fornitori"
      ],
      "execution_count": null,
      "outputs": [
        {
          "name": "stdout",
          "output_type": "stream",
          "text": [
            "Inserisci in nome di una regione: Veneto\n"
          ]
        },
        {
          "output_type": "execute_result",
          "data": {
            "text/html": [
              "<div>\n",
              "<style scoped>\n",
              "    .dataframe tbody tr th:only-of-type {\n",
              "        vertical-align: middle;\n",
              "    }\n",
              "\n",
              "    .dataframe tbody tr th {\n",
              "        vertical-align: top;\n",
              "    }\n",
              "\n",
              "    .dataframe thead th {\n",
              "        text-align: right;\n",
              "    }\n",
              "</style>\n",
              "<table border=\"1\" class=\"dataframe\">\n",
              "  <thead>\n",
              "    <tr style=\"text-align: right;\">\n",
              "      <th></th>\n",
              "      <th>fornitore</th>\n",
              "      <th>numero_dosi</th>\n",
              "    </tr>\n",
              "  </thead>\n",
              "  <tbody>\n",
              "    <tr>\n",
              "      <th>2</th>\n",
              "      <td>Pfizer/BioNTech</td>\n",
              "      <td>5778279</td>\n",
              "    </tr>\n",
              "    <tr>\n",
              "      <th>1</th>\n",
              "      <td>Moderna</td>\n",
              "      <td>1439617</td>\n",
              "    </tr>\n",
              "    <tr>\n",
              "      <th>3</th>\n",
              "      <td>Vaxzevria (AstraZeneca)</td>\n",
              "      <td>929079</td>\n",
              "    </tr>\n",
              "    <tr>\n",
              "      <th>0</th>\n",
              "      <td>Janssen</td>\n",
              "      <td>103000</td>\n",
              "    </tr>\n",
              "  </tbody>\n",
              "</table>\n",
              "</div>"
            ],
            "text/plain": [
              "                 fornitore  numero_dosi\n",
              "2          Pfizer/BioNTech      5778279\n",
              "1                  Moderna      1439617\n",
              "3  Vaxzevria (AstraZeneca)       929079\n",
              "0                  Janssen       103000"
            ]
          },
          "metadata": {},
          "execution_count": 100
        }
      ]
    },
    {
      "cell_type": "markdown",
      "metadata": {
        "id": "rSUT-c8P5xy-"
      },
      "source": [
        "# Tabella Pivot"
      ]
    },
    {
      "cell_type": "code",
      "metadata": {
        "colab": {
          "base_uri": "https://localhost:8080/",
          "height": 423
        },
        "id": "QXn_17Cc513z",
        "outputId": "73020b9f-5a9f-4635-9829-97d098506082"
      },
      "source": [
        "df = pd.read_csv('https://raw.githubusercontent.com/wtitze/4E/main/ristoranti.csv')\n",
        "df"
      ],
      "execution_count": null,
      "outputs": [
        {
          "output_type": "execute_result",
          "data": {
            "text/html": [
              "<div>\n",
              "<style scoped>\n",
              "    .dataframe tbody tr th:only-of-type {\n",
              "        vertical-align: middle;\n",
              "    }\n",
              "\n",
              "    .dataframe tbody tr th {\n",
              "        vertical-align: top;\n",
              "    }\n",
              "\n",
              "    .dataframe thead th {\n",
              "        text-align: right;\n",
              "    }\n",
              "</style>\n",
              "<table border=\"1\" class=\"dataframe\">\n",
              "  <thead>\n",
              "    <tr style=\"text-align: right;\">\n",
              "      <th></th>\n",
              "      <th>N</th>\n",
              "      <th>address</th>\n",
              "      <th>borough</th>\n",
              "      <th>cuisine</th>\n",
              "      <th>grades</th>\n",
              "      <th>name</th>\n",
              "      <th>restaurant_id</th>\n",
              "    </tr>\n",
              "  </thead>\n",
              "  <tbody>\n",
              "    <tr>\n",
              "      <th>0</th>\n",
              "      <td>0</td>\n",
              "      <td>{'building': '8825', 'coord': [-73.8803827, 40...</td>\n",
              "      <td>Queens</td>\n",
              "      <td>American</td>\n",
              "      <td>[{'date': datetime.datetime(2014, 11, 15, 0, 0...</td>\n",
              "      <td>Brunos On The Boulevard</td>\n",
              "      <td>40356151</td>\n",
              "    </tr>\n",
              "    <tr>\n",
              "      <th>1</th>\n",
              "      <td>1</td>\n",
              "      <td>{'building': '156-71', 'coord': [-73.840437, 4...</td>\n",
              "      <td>Queens</td>\n",
              "      <td>Pizza/Italian</td>\n",
              "      <td>[{'date': datetime.datetime(2014, 10, 29, 0, 0...</td>\n",
              "      <td>New Park Pizzeria &amp; Restaurant</td>\n",
              "      <td>40364744</td>\n",
              "    </tr>\n",
              "    <tr>\n",
              "      <th>2</th>\n",
              "      <td>2</td>\n",
              "      <td>{'building': '6409', 'coord': [-74.00528899999...</td>\n",
              "      <td>Brooklyn</td>\n",
              "      <td>American</td>\n",
              "      <td>[{'date': datetime.datetime(2014, 7, 18, 0, 0)...</td>\n",
              "      <td>Regina Caterers</td>\n",
              "      <td>40356649</td>\n",
              "    </tr>\n",
              "    <tr>\n",
              "      <th>3</th>\n",
              "      <td>3</td>\n",
              "      <td>{'building': '2491', 'coord': [-74.1459332, 40...</td>\n",
              "      <td>Staten Island</td>\n",
              "      <td>Delicatessen</td>\n",
              "      <td>[{'date': datetime.datetime(2015, 1, 9, 0, 0),...</td>\n",
              "      <td>Bagels N Buns</td>\n",
              "      <td>40363427</td>\n",
              "    </tr>\n",
              "    <tr>\n",
              "      <th>4</th>\n",
              "      <td>4</td>\n",
              "      <td>{'building': '56', 'coord': [-74.004758, 40.74...</td>\n",
              "      <td>Manhattan</td>\n",
              "      <td>American</td>\n",
              "      <td>[{'date': datetime.datetime(2014, 6, 10, 0, 0)...</td>\n",
              "      <td>Old Homestead</td>\n",
              "      <td>40364715</td>\n",
              "    </tr>\n",
              "    <tr>\n",
              "      <th>...</th>\n",
              "      <td>...</td>\n",
              "      <td>...</td>\n",
              "      <td>...</td>\n",
              "      <td>...</td>\n",
              "      <td>...</td>\n",
              "      <td>...</td>\n",
              "      <td>...</td>\n",
              "    </tr>\n",
              "    <tr>\n",
              "      <th>25354</th>\n",
              "      <td>25354</td>\n",
              "      <td>{'building': 'ONE', 'coord': [-81.664363600000...</td>\n",
              "      <td>Queens</td>\n",
              "      <td>Other</td>\n",
              "      <td>[]</td>\n",
              "      <td>Camden Food Express</td>\n",
              "      <td>50018316</td>\n",
              "    </tr>\n",
              "    <tr>\n",
              "      <th>25355</th>\n",
              "      <td>25355</td>\n",
              "      <td>{'building': '700', 'coord': [-73.988230600000...</td>\n",
              "      <td>Manhattan</td>\n",
              "      <td>Other</td>\n",
              "      <td>[]</td>\n",
              "      <td>Wooly'S Nyc</td>\n",
              "      <td>50018495</td>\n",
              "    </tr>\n",
              "    <tr>\n",
              "      <th>25356</th>\n",
              "      <td>25356</td>\n",
              "      <td>{'building': '2144', 'coord': [-73.9552561, 40...</td>\n",
              "      <td>Manhattan</td>\n",
              "      <td>Other</td>\n",
              "      <td>[]</td>\n",
              "      <td>Rafi 786</td>\n",
              "      <td>50018553</td>\n",
              "    </tr>\n",
              "    <tr>\n",
              "      <th>25357</th>\n",
              "      <td>25357</td>\n",
              "      <td>{'building': '1448', 'coord': [-73.93032629999...</td>\n",
              "      <td>Brooklyn</td>\n",
              "      <td>Other</td>\n",
              "      <td>[]</td>\n",
              "      <td>NaN</td>\n",
              "      <td>50018721</td>\n",
              "    </tr>\n",
              "    <tr>\n",
              "      <th>25358</th>\n",
              "      <td>25358</td>\n",
              "      <td>{'building': '167', 'coord': [-73.9833565, 40....</td>\n",
              "      <td>Manhattan</td>\n",
              "      <td>Other</td>\n",
              "      <td>[]</td>\n",
              "      <td>Buttercup Bake Shop</td>\n",
              "      <td>50018710</td>\n",
              "    </tr>\n",
              "  </tbody>\n",
              "</table>\n",
              "<p>25359 rows × 7 columns</p>\n",
              "</div>"
            ],
            "text/plain": [
              "           N  ... restaurant_id\n",
              "0          0  ...      40356151\n",
              "1          1  ...      40364744\n",
              "2          2  ...      40356649\n",
              "3          3  ...      40363427\n",
              "4          4  ...      40364715\n",
              "...      ...  ...           ...\n",
              "25354  25354  ...      50018316\n",
              "25355  25355  ...      50018495\n",
              "25356  25356  ...      50018553\n",
              "25357  25357  ...      50018721\n",
              "25358  25358  ...      50018710\n",
              "\n",
              "[25359 rows x 7 columns]"
            ]
          },
          "metadata": {},
          "execution_count": 105
        }
      ]
    },
    {
      "cell_type": "code",
      "metadata": {
        "colab": {
          "base_uri": "https://localhost:8080/",
          "height": 423
        },
        "id": "RkIa_flJ6Dpy",
        "outputId": "aa7c935f-ac6a-417d-b675-aa6055210803"
      },
      "source": [
        "df = df.replace(df[df['cuisine']!='American']['cuisine'].tolist(),'non American')\n",
        "df                                 #rimpiazzo tutte le cucine non amreicane con il nome NON AMRICAN"
      ],
      "execution_count": null,
      "outputs": [
        {
          "output_type": "execute_result",
          "data": {
            "text/html": [
              "<div>\n",
              "<style scoped>\n",
              "    .dataframe tbody tr th:only-of-type {\n",
              "        vertical-align: middle;\n",
              "    }\n",
              "\n",
              "    .dataframe tbody tr th {\n",
              "        vertical-align: top;\n",
              "    }\n",
              "\n",
              "    .dataframe thead th {\n",
              "        text-align: right;\n",
              "    }\n",
              "</style>\n",
              "<table border=\"1\" class=\"dataframe\">\n",
              "  <thead>\n",
              "    <tr style=\"text-align: right;\">\n",
              "      <th></th>\n",
              "      <th>N</th>\n",
              "      <th>address</th>\n",
              "      <th>borough</th>\n",
              "      <th>cuisine</th>\n",
              "      <th>grades</th>\n",
              "      <th>name</th>\n",
              "      <th>restaurant_id</th>\n",
              "    </tr>\n",
              "  </thead>\n",
              "  <tbody>\n",
              "    <tr>\n",
              "      <th>0</th>\n",
              "      <td>0</td>\n",
              "      <td>{'building': '8825', 'coord': [-73.8803827, 40...</td>\n",
              "      <td>Queens</td>\n",
              "      <td>American</td>\n",
              "      <td>[{'date': datetime.datetime(2014, 11, 15, 0, 0...</td>\n",
              "      <td>Brunos On The Boulevard</td>\n",
              "      <td>40356151</td>\n",
              "    </tr>\n",
              "    <tr>\n",
              "      <th>1</th>\n",
              "      <td>1</td>\n",
              "      <td>{'building': '156-71', 'coord': [-73.840437, 4...</td>\n",
              "      <td>Queens</td>\n",
              "      <td>non American</td>\n",
              "      <td>[{'date': datetime.datetime(2014, 10, 29, 0, 0...</td>\n",
              "      <td>New Park Pizzeria &amp; Restaurant</td>\n",
              "      <td>40364744</td>\n",
              "    </tr>\n",
              "    <tr>\n",
              "      <th>2</th>\n",
              "      <td>2</td>\n",
              "      <td>{'building': '6409', 'coord': [-74.00528899999...</td>\n",
              "      <td>Brooklyn</td>\n",
              "      <td>American</td>\n",
              "      <td>[{'date': datetime.datetime(2014, 7, 18, 0, 0)...</td>\n",
              "      <td>Regina Caterers</td>\n",
              "      <td>40356649</td>\n",
              "    </tr>\n",
              "    <tr>\n",
              "      <th>3</th>\n",
              "      <td>3</td>\n",
              "      <td>{'building': '2491', 'coord': [-74.1459332, 40...</td>\n",
              "      <td>Staten Island</td>\n",
              "      <td>non American</td>\n",
              "      <td>[{'date': datetime.datetime(2015, 1, 9, 0, 0),...</td>\n",
              "      <td>Bagels N Buns</td>\n",
              "      <td>40363427</td>\n",
              "    </tr>\n",
              "    <tr>\n",
              "      <th>4</th>\n",
              "      <td>4</td>\n",
              "      <td>{'building': '56', 'coord': [-74.004758, 40.74...</td>\n",
              "      <td>Manhattan</td>\n",
              "      <td>American</td>\n",
              "      <td>[{'date': datetime.datetime(2014, 6, 10, 0, 0)...</td>\n",
              "      <td>Old Homestead</td>\n",
              "      <td>40364715</td>\n",
              "    </tr>\n",
              "    <tr>\n",
              "      <th>...</th>\n",
              "      <td>...</td>\n",
              "      <td>...</td>\n",
              "      <td>...</td>\n",
              "      <td>...</td>\n",
              "      <td>...</td>\n",
              "      <td>...</td>\n",
              "      <td>...</td>\n",
              "    </tr>\n",
              "    <tr>\n",
              "      <th>25354</th>\n",
              "      <td>25354</td>\n",
              "      <td>{'building': 'ONE', 'coord': [-81.664363600000...</td>\n",
              "      <td>Queens</td>\n",
              "      <td>non American</td>\n",
              "      <td>[]</td>\n",
              "      <td>Camden Food Express</td>\n",
              "      <td>50018316</td>\n",
              "    </tr>\n",
              "    <tr>\n",
              "      <th>25355</th>\n",
              "      <td>25355</td>\n",
              "      <td>{'building': '700', 'coord': [-73.988230600000...</td>\n",
              "      <td>Manhattan</td>\n",
              "      <td>non American</td>\n",
              "      <td>[]</td>\n",
              "      <td>Wooly'S Nyc</td>\n",
              "      <td>50018495</td>\n",
              "    </tr>\n",
              "    <tr>\n",
              "      <th>25356</th>\n",
              "      <td>25356</td>\n",
              "      <td>{'building': '2144', 'coord': [-73.9552561, 40...</td>\n",
              "      <td>Manhattan</td>\n",
              "      <td>non American</td>\n",
              "      <td>[]</td>\n",
              "      <td>Rafi 786</td>\n",
              "      <td>50018553</td>\n",
              "    </tr>\n",
              "    <tr>\n",
              "      <th>25357</th>\n",
              "      <td>25357</td>\n",
              "      <td>{'building': '1448', 'coord': [-73.93032629999...</td>\n",
              "      <td>Brooklyn</td>\n",
              "      <td>non American</td>\n",
              "      <td>[]</td>\n",
              "      <td>NaN</td>\n",
              "      <td>50018721</td>\n",
              "    </tr>\n",
              "    <tr>\n",
              "      <th>25358</th>\n",
              "      <td>25358</td>\n",
              "      <td>{'building': '167', 'coord': [-73.9833565, 40....</td>\n",
              "      <td>Manhattan</td>\n",
              "      <td>non American</td>\n",
              "      <td>[]</td>\n",
              "      <td>Buttercup Bake Shop</td>\n",
              "      <td>50018710</td>\n",
              "    </tr>\n",
              "  </tbody>\n",
              "</table>\n",
              "<p>25359 rows × 7 columns</p>\n",
              "</div>"
            ],
            "text/plain": [
              "           N  ... restaurant_id\n",
              "0          0  ...      40356151\n",
              "1          1  ...      40364744\n",
              "2          2  ...      40356649\n",
              "3          3  ...      40363427\n",
              "4          4  ...      40364715\n",
              "...      ...  ...           ...\n",
              "25354  25354  ...      50018316\n",
              "25355  25355  ...      50018495\n",
              "25356  25356  ...      50018553\n",
              "25357  25357  ...      50018721\n",
              "25358  25358  ...      50018710\n",
              "\n",
              "[25359 rows x 7 columns]"
            ]
          },
          "metadata": {},
          "execution_count": 107
        }
      ]
    },
    {
      "cell_type": "code",
      "metadata": {
        "colab": {
          "base_uri": "https://localhost:8080/",
          "height": 457
        },
        "id": "mozuqVlQ6Ob-",
        "outputId": "e31ee4d6-6758-44c1-ee02-e24410f1dd28"
      },
      "source": [
        "data = df.groupby(['borough','cuisine']).count()\n",
        "data                                        #Creo tabella pivot"
      ],
      "execution_count": null,
      "outputs": [
        {
          "output_type": "execute_result",
          "data": {
            "text/html": [
              "<div>\n",
              "<style scoped>\n",
              "    .dataframe tbody tr th:only-of-type {\n",
              "        vertical-align: middle;\n",
              "    }\n",
              "\n",
              "    .dataframe tbody tr th {\n",
              "        vertical-align: top;\n",
              "    }\n",
              "\n",
              "    .dataframe thead th {\n",
              "        text-align: right;\n",
              "    }\n",
              "</style>\n",
              "<table border=\"1\" class=\"dataframe\">\n",
              "  <thead>\n",
              "    <tr style=\"text-align: right;\">\n",
              "      <th></th>\n",
              "      <th></th>\n",
              "      <th>N</th>\n",
              "      <th>address</th>\n",
              "      <th>grades</th>\n",
              "      <th>name</th>\n",
              "      <th>restaurant_id</th>\n",
              "    </tr>\n",
              "    <tr>\n",
              "      <th>borough</th>\n",
              "      <th>cuisine</th>\n",
              "      <th></th>\n",
              "      <th></th>\n",
              "      <th></th>\n",
              "      <th></th>\n",
              "      <th></th>\n",
              "    </tr>\n",
              "  </thead>\n",
              "  <tbody>\n",
              "    <tr>\n",
              "      <th rowspan=\"2\" valign=\"top\">Bronx</th>\n",
              "      <th>American</th>\n",
              "      <td>411</td>\n",
              "      <td>411</td>\n",
              "      <td>411</td>\n",
              "      <td>411</td>\n",
              "      <td>411</td>\n",
              "    </tr>\n",
              "    <tr>\n",
              "      <th>non American</th>\n",
              "      <td>1927</td>\n",
              "      <td>1927</td>\n",
              "      <td>1927</td>\n",
              "      <td>1911</td>\n",
              "      <td>1927</td>\n",
              "    </tr>\n",
              "    <tr>\n",
              "      <th rowspan=\"2\" valign=\"top\">Brooklyn</th>\n",
              "      <th>American</th>\n",
              "      <td>1273</td>\n",
              "      <td>1273</td>\n",
              "      <td>1273</td>\n",
              "      <td>1273</td>\n",
              "      <td>1273</td>\n",
              "    </tr>\n",
              "    <tr>\n",
              "      <th>non American</th>\n",
              "      <td>4813</td>\n",
              "      <td>4813</td>\n",
              "      <td>4813</td>\n",
              "      <td>4773</td>\n",
              "      <td>4813</td>\n",
              "    </tr>\n",
              "    <tr>\n",
              "      <th rowspan=\"2\" valign=\"top\">Manhattan</th>\n",
              "      <th>American</th>\n",
              "      <td>3205</td>\n",
              "      <td>3205</td>\n",
              "      <td>3205</td>\n",
              "      <td>3205</td>\n",
              "      <td>3205</td>\n",
              "    </tr>\n",
              "    <tr>\n",
              "      <th>non American</th>\n",
              "      <td>7054</td>\n",
              "      <td>7054</td>\n",
              "      <td>7054</td>\n",
              "      <td>7006</td>\n",
              "      <td>7054</td>\n",
              "    </tr>\n",
              "    <tr>\n",
              "      <th rowspan=\"2\" valign=\"top\">Missing</th>\n",
              "      <th>American</th>\n",
              "      <td>10</td>\n",
              "      <td>10</td>\n",
              "      <td>10</td>\n",
              "      <td>10</td>\n",
              "      <td>10</td>\n",
              "    </tr>\n",
              "    <tr>\n",
              "      <th>non American</th>\n",
              "      <td>41</td>\n",
              "      <td>41</td>\n",
              "      <td>41</td>\n",
              "      <td>41</td>\n",
              "      <td>41</td>\n",
              "    </tr>\n",
              "    <tr>\n",
              "      <th rowspan=\"2\" valign=\"top\">Queens</th>\n",
              "      <th>American</th>\n",
              "      <td>1040</td>\n",
              "      <td>1040</td>\n",
              "      <td>1040</td>\n",
              "      <td>1040</td>\n",
              "      <td>1040</td>\n",
              "    </tr>\n",
              "    <tr>\n",
              "      <th>non American</th>\n",
              "      <td>4616</td>\n",
              "      <td>4616</td>\n",
              "      <td>4616</td>\n",
              "      <td>4575</td>\n",
              "      <td>4616</td>\n",
              "    </tr>\n",
              "    <tr>\n",
              "      <th rowspan=\"2\" valign=\"top\">Staten Island</th>\n",
              "      <th>American</th>\n",
              "      <td>244</td>\n",
              "      <td>244</td>\n",
              "      <td>244</td>\n",
              "      <td>244</td>\n",
              "      <td>244</td>\n",
              "    </tr>\n",
              "    <tr>\n",
              "      <th>non American</th>\n",
              "      <td>725</td>\n",
              "      <td>725</td>\n",
              "      <td>725</td>\n",
              "      <td>719</td>\n",
              "      <td>725</td>\n",
              "    </tr>\n",
              "  </tbody>\n",
              "</table>\n",
              "</div>"
            ],
            "text/plain": [
              "                               N  address  grades  name  restaurant_id\n",
              "borough       cuisine                                                 \n",
              "Bronx         American       411      411     411   411            411\n",
              "              non American  1927     1927    1927  1911           1927\n",
              "Brooklyn      American      1273     1273    1273  1273           1273\n",
              "              non American  4813     4813    4813  4773           4813\n",
              "Manhattan     American      3205     3205    3205  3205           3205\n",
              "              non American  7054     7054    7054  7006           7054\n",
              "Missing       American        10       10      10    10             10\n",
              "              non American    41       41      41    41             41\n",
              "Queens        American      1040     1040    1040  1040           1040\n",
              "              non American  4616     4616    4616  4575           4616\n",
              "Staten Island American       244      244     244   244            244\n",
              "              non American   725      725     725   719            725"
            ]
          },
          "metadata": {},
          "execution_count": 108
        }
      ]
    },
    {
      "cell_type": "code",
      "metadata": {
        "colab": {
          "base_uri": "https://localhost:8080/",
          "height": 300
        },
        "id": "nRDaDiW56uYu",
        "outputId": "3cf9cf73-b728-472a-aa1a-4211ac06bc22"
      },
      "source": [
        "data.unstack()    #separa le zone e le rimette in posizioni diverse secondo un criterio"
      ],
      "execution_count": null,
      "outputs": [
        {
          "output_type": "execute_result",
          "data": {
            "text/html": [
              "<div>\n",
              "<style scoped>\n",
              "    .dataframe tbody tr th:only-of-type {\n",
              "        vertical-align: middle;\n",
              "    }\n",
              "\n",
              "    .dataframe tbody tr th {\n",
              "        vertical-align: top;\n",
              "    }\n",
              "\n",
              "    .dataframe thead tr th {\n",
              "        text-align: left;\n",
              "    }\n",
              "\n",
              "    .dataframe thead tr:last-of-type th {\n",
              "        text-align: right;\n",
              "    }\n",
              "</style>\n",
              "<table border=\"1\" class=\"dataframe\">\n",
              "  <thead>\n",
              "    <tr>\n",
              "      <th></th>\n",
              "      <th colspan=\"2\" halign=\"left\">N</th>\n",
              "      <th colspan=\"2\" halign=\"left\">address</th>\n",
              "      <th colspan=\"2\" halign=\"left\">grades</th>\n",
              "      <th colspan=\"2\" halign=\"left\">name</th>\n",
              "      <th colspan=\"2\" halign=\"left\">restaurant_id</th>\n",
              "    </tr>\n",
              "    <tr>\n",
              "      <th>cuisine</th>\n",
              "      <th>American</th>\n",
              "      <th>non American</th>\n",
              "      <th>American</th>\n",
              "      <th>non American</th>\n",
              "      <th>American</th>\n",
              "      <th>non American</th>\n",
              "      <th>American</th>\n",
              "      <th>non American</th>\n",
              "      <th>American</th>\n",
              "      <th>non American</th>\n",
              "    </tr>\n",
              "    <tr>\n",
              "      <th>borough</th>\n",
              "      <th></th>\n",
              "      <th></th>\n",
              "      <th></th>\n",
              "      <th></th>\n",
              "      <th></th>\n",
              "      <th></th>\n",
              "      <th></th>\n",
              "      <th></th>\n",
              "      <th></th>\n",
              "      <th></th>\n",
              "    </tr>\n",
              "  </thead>\n",
              "  <tbody>\n",
              "    <tr>\n",
              "      <th>Bronx</th>\n",
              "      <td>411</td>\n",
              "      <td>1927</td>\n",
              "      <td>411</td>\n",
              "      <td>1927</td>\n",
              "      <td>411</td>\n",
              "      <td>1927</td>\n",
              "      <td>411</td>\n",
              "      <td>1911</td>\n",
              "      <td>411</td>\n",
              "      <td>1927</td>\n",
              "    </tr>\n",
              "    <tr>\n",
              "      <th>Brooklyn</th>\n",
              "      <td>1273</td>\n",
              "      <td>4813</td>\n",
              "      <td>1273</td>\n",
              "      <td>4813</td>\n",
              "      <td>1273</td>\n",
              "      <td>4813</td>\n",
              "      <td>1273</td>\n",
              "      <td>4773</td>\n",
              "      <td>1273</td>\n",
              "      <td>4813</td>\n",
              "    </tr>\n",
              "    <tr>\n",
              "      <th>Manhattan</th>\n",
              "      <td>3205</td>\n",
              "      <td>7054</td>\n",
              "      <td>3205</td>\n",
              "      <td>7054</td>\n",
              "      <td>3205</td>\n",
              "      <td>7054</td>\n",
              "      <td>3205</td>\n",
              "      <td>7006</td>\n",
              "      <td>3205</td>\n",
              "      <td>7054</td>\n",
              "    </tr>\n",
              "    <tr>\n",
              "      <th>Missing</th>\n",
              "      <td>10</td>\n",
              "      <td>41</td>\n",
              "      <td>10</td>\n",
              "      <td>41</td>\n",
              "      <td>10</td>\n",
              "      <td>41</td>\n",
              "      <td>10</td>\n",
              "      <td>41</td>\n",
              "      <td>10</td>\n",
              "      <td>41</td>\n",
              "    </tr>\n",
              "    <tr>\n",
              "      <th>Queens</th>\n",
              "      <td>1040</td>\n",
              "      <td>4616</td>\n",
              "      <td>1040</td>\n",
              "      <td>4616</td>\n",
              "      <td>1040</td>\n",
              "      <td>4616</td>\n",
              "      <td>1040</td>\n",
              "      <td>4575</td>\n",
              "      <td>1040</td>\n",
              "      <td>4616</td>\n",
              "    </tr>\n",
              "    <tr>\n",
              "      <th>Staten Island</th>\n",
              "      <td>244</td>\n",
              "      <td>725</td>\n",
              "      <td>244</td>\n",
              "      <td>725</td>\n",
              "      <td>244</td>\n",
              "      <td>725</td>\n",
              "      <td>244</td>\n",
              "      <td>719</td>\n",
              "      <td>244</td>\n",
              "      <td>725</td>\n",
              "    </tr>\n",
              "  </tbody>\n",
              "</table>\n",
              "</div>"
            ],
            "text/plain": [
              "                     N               ... restaurant_id             \n",
              "cuisine       American non American  ...      American non American\n",
              "borough                              ...                           \n",
              "Bronx              411         1927  ...           411         1927\n",
              "Brooklyn          1273         4813  ...          1273         4813\n",
              "Manhattan         3205         7054  ...          3205         7054\n",
              "Missing             10           41  ...            10           41\n",
              "Queens            1040         4616  ...          1040         4616\n",
              "Staten Island      244          725  ...           244          725\n",
              "\n",
              "[6 rows x 10 columns]"
            ]
          },
          "metadata": {},
          "execution_count": 109
        }
      ]
    },
    {
      "cell_type": "code",
      "metadata": {
        "colab": {
          "base_uri": "https://localhost:8080/",
          "height": 426
        },
        "id": "jVd9ETv368DK",
        "outputId": "b6787c89-ee1c-458f-ffc3-fc4148e2081a"
      },
      "source": [
        "df = data.reset_index()\n",
        "df              #resetto l'indice"
      ],
      "execution_count": null,
      "outputs": [
        {
          "output_type": "execute_result",
          "data": {
            "text/html": [
              "<div>\n",
              "<style scoped>\n",
              "    .dataframe tbody tr th:only-of-type {\n",
              "        vertical-align: middle;\n",
              "    }\n",
              "\n",
              "    .dataframe tbody tr th {\n",
              "        vertical-align: top;\n",
              "    }\n",
              "\n",
              "    .dataframe thead th {\n",
              "        text-align: right;\n",
              "    }\n",
              "</style>\n",
              "<table border=\"1\" class=\"dataframe\">\n",
              "  <thead>\n",
              "    <tr style=\"text-align: right;\">\n",
              "      <th></th>\n",
              "      <th>borough</th>\n",
              "      <th>cuisine</th>\n",
              "      <th>N</th>\n",
              "      <th>address</th>\n",
              "      <th>grades</th>\n",
              "      <th>name</th>\n",
              "      <th>restaurant_id</th>\n",
              "    </tr>\n",
              "  </thead>\n",
              "  <tbody>\n",
              "    <tr>\n",
              "      <th>0</th>\n",
              "      <td>Bronx</td>\n",
              "      <td>American</td>\n",
              "      <td>411</td>\n",
              "      <td>411</td>\n",
              "      <td>411</td>\n",
              "      <td>411</td>\n",
              "      <td>411</td>\n",
              "    </tr>\n",
              "    <tr>\n",
              "      <th>1</th>\n",
              "      <td>Bronx</td>\n",
              "      <td>non American</td>\n",
              "      <td>1927</td>\n",
              "      <td>1927</td>\n",
              "      <td>1927</td>\n",
              "      <td>1911</td>\n",
              "      <td>1927</td>\n",
              "    </tr>\n",
              "    <tr>\n",
              "      <th>2</th>\n",
              "      <td>Brooklyn</td>\n",
              "      <td>American</td>\n",
              "      <td>1273</td>\n",
              "      <td>1273</td>\n",
              "      <td>1273</td>\n",
              "      <td>1273</td>\n",
              "      <td>1273</td>\n",
              "    </tr>\n",
              "    <tr>\n",
              "      <th>3</th>\n",
              "      <td>Brooklyn</td>\n",
              "      <td>non American</td>\n",
              "      <td>4813</td>\n",
              "      <td>4813</td>\n",
              "      <td>4813</td>\n",
              "      <td>4773</td>\n",
              "      <td>4813</td>\n",
              "    </tr>\n",
              "    <tr>\n",
              "      <th>4</th>\n",
              "      <td>Manhattan</td>\n",
              "      <td>American</td>\n",
              "      <td>3205</td>\n",
              "      <td>3205</td>\n",
              "      <td>3205</td>\n",
              "      <td>3205</td>\n",
              "      <td>3205</td>\n",
              "    </tr>\n",
              "    <tr>\n",
              "      <th>5</th>\n",
              "      <td>Manhattan</td>\n",
              "      <td>non American</td>\n",
              "      <td>7054</td>\n",
              "      <td>7054</td>\n",
              "      <td>7054</td>\n",
              "      <td>7006</td>\n",
              "      <td>7054</td>\n",
              "    </tr>\n",
              "    <tr>\n",
              "      <th>6</th>\n",
              "      <td>Missing</td>\n",
              "      <td>American</td>\n",
              "      <td>10</td>\n",
              "      <td>10</td>\n",
              "      <td>10</td>\n",
              "      <td>10</td>\n",
              "      <td>10</td>\n",
              "    </tr>\n",
              "    <tr>\n",
              "      <th>7</th>\n",
              "      <td>Missing</td>\n",
              "      <td>non American</td>\n",
              "      <td>41</td>\n",
              "      <td>41</td>\n",
              "      <td>41</td>\n",
              "      <td>41</td>\n",
              "      <td>41</td>\n",
              "    </tr>\n",
              "    <tr>\n",
              "      <th>8</th>\n",
              "      <td>Queens</td>\n",
              "      <td>American</td>\n",
              "      <td>1040</td>\n",
              "      <td>1040</td>\n",
              "      <td>1040</td>\n",
              "      <td>1040</td>\n",
              "      <td>1040</td>\n",
              "    </tr>\n",
              "    <tr>\n",
              "      <th>9</th>\n",
              "      <td>Queens</td>\n",
              "      <td>non American</td>\n",
              "      <td>4616</td>\n",
              "      <td>4616</td>\n",
              "      <td>4616</td>\n",
              "      <td>4575</td>\n",
              "      <td>4616</td>\n",
              "    </tr>\n",
              "    <tr>\n",
              "      <th>10</th>\n",
              "      <td>Staten Island</td>\n",
              "      <td>American</td>\n",
              "      <td>244</td>\n",
              "      <td>244</td>\n",
              "      <td>244</td>\n",
              "      <td>244</td>\n",
              "      <td>244</td>\n",
              "    </tr>\n",
              "    <tr>\n",
              "      <th>11</th>\n",
              "      <td>Staten Island</td>\n",
              "      <td>non American</td>\n",
              "      <td>725</td>\n",
              "      <td>725</td>\n",
              "      <td>725</td>\n",
              "      <td>719</td>\n",
              "      <td>725</td>\n",
              "    </tr>\n",
              "  </tbody>\n",
              "</table>\n",
              "</div>"
            ],
            "text/plain": [
              "          borough       cuisine     N  address  grades  name  restaurant_id\n",
              "0           Bronx      American   411      411     411   411            411\n",
              "1           Bronx  non American  1927     1927    1927  1911           1927\n",
              "2        Brooklyn      American  1273     1273    1273  1273           1273\n",
              "3        Brooklyn  non American  4813     4813    4813  4773           4813\n",
              "4       Manhattan      American  3205     3205    3205  3205           3205\n",
              "5       Manhattan  non American  7054     7054    7054  7006           7054\n",
              "6         Missing      American    10       10      10    10             10\n",
              "7         Missing  non American    41       41      41    41             41\n",
              "8          Queens      American  1040     1040    1040  1040           1040\n",
              "9          Queens  non American  4616     4616    4616  4575           4616\n",
              "10  Staten Island      American   244      244     244   244            244\n",
              "11  Staten Island  non American   725      725     725   719            725"
            ]
          },
          "metadata": {},
          "execution_count": 110
        }
      ]
    },
    {
      "cell_type": "markdown",
      "metadata": {
        "id": "lZCPrgxz2x_V"
      },
      "source": [
        "# DateTime"
      ]
    },
    {
      "cell_type": "code",
      "metadata": {
        "colab": {
          "base_uri": "https://localhost:8080/"
        },
        "id": "YQJic0JR204M",
        "outputId": "592818f1-7639-48ac-ee01-e9c8936a5b44"
      },
      "source": [
        "from datetime import date, timedelta\n",
        "import datetime\n",
        "\n",
        "from dateutil.relativedelta import relativedelta\n",
        "yesterday = date.today() - relativedelta(month= 6)\n",
        "yesterday"
      ],
      "execution_count": null,
      "outputs": [
        {
          "output_type": "execute_result",
          "data": {
            "text/plain": [
              "datetime.date(2021, 6, 29)"
            ]
          },
          "metadata": {},
          "execution_count": 86
        }
      ]
    },
    {
      "cell_type": "code",
      "metadata": {
        "id": "-QBciIhZ3Jq8"
      },
      "source": [
        "dfll =  df[(df['nome_area']=='Lombardia') | (df['nome_area']=='Lazio')]\n",
        "dati = dfll[dfll['data_consegna'] > str(yesterday)].groupby('nome_area').count()\n",
        "dati                                                                                       #visualizzo solo le consegne fatte durante gli ultimi 6 mesi"
      ],
      "execution_count": null,
      "outputs": []
    },
    {
      "cell_type": "code",
      "metadata": {
        "colab": {
          "base_uri": "https://localhost:8080/"
        },
        "id": "bvmknGAB3dO3",
        "outputId": "5ea154a2-ca93-4f65-e207-4a032e724730"
      },
      "source": [
        "now = datetime.datetime.now()\n",
        "date_time = now.strftime(\"%m/%d/%Y\")\n",
        "print(\"Date and Time:\",date_time)\n",
        "#data di oggi"
      ],
      "execution_count": null,
      "outputs": [
        {
          "output_type": "stream",
          "name": "stdout",
          "text": [
            "Date and Time: 11/29/2021\n"
          ]
        }
      ]
    },
    {
      "cell_type": "code",
      "metadata": {
        "colab": {
          "base_uri": "https://localhost:8080/",
          "height": 423
        },
        "id": "NS5zeUr57rrI",
        "outputId": "4b8ca357-f723-4327-ac61-a7ef49c10b4b"
      },
      "source": [
        "df = pd.read_csv('https://raw.githubusercontent.com/wtitze/4E/main/prime_titles.csv')\n",
        "df"
      ],
      "execution_count": null,
      "outputs": [
        {
          "output_type": "execute_result",
          "data": {
            "text/html": [
              "<div>\n",
              "<style scoped>\n",
              "    .dataframe tbody tr th:only-of-type {\n",
              "        vertical-align: middle;\n",
              "    }\n",
              "\n",
              "    .dataframe tbody tr th {\n",
              "        vertical-align: top;\n",
              "    }\n",
              "\n",
              "    .dataframe thead th {\n",
              "        text-align: right;\n",
              "    }\n",
              "</style>\n",
              "<table border=\"1\" class=\"dataframe\">\n",
              "  <thead>\n",
              "    <tr style=\"text-align: right;\">\n",
              "      <th></th>\n",
              "      <th>S.no.</th>\n",
              "      <th>Name of the show</th>\n",
              "      <th>Year of release</th>\n",
              "      <th>No of seasons available</th>\n",
              "      <th>Language</th>\n",
              "      <th>Genre</th>\n",
              "      <th>IMDb rating</th>\n",
              "      <th>Age of viewers</th>\n",
              "    </tr>\n",
              "  </thead>\n",
              "  <tbody>\n",
              "    <tr>\n",
              "      <th>0</th>\n",
              "      <td>1</td>\n",
              "      <td>Pataal Lok</td>\n",
              "      <td>2020.0</td>\n",
              "      <td>1.0</td>\n",
              "      <td>Hindi</td>\n",
              "      <td>Drama</td>\n",
              "      <td>7.5</td>\n",
              "      <td>18+</td>\n",
              "    </tr>\n",
              "    <tr>\n",
              "      <th>1</th>\n",
              "      <td>2</td>\n",
              "      <td>Upload</td>\n",
              "      <td>2020.0</td>\n",
              "      <td>1.0</td>\n",
              "      <td>English</td>\n",
              "      <td>Sci-fi comedy</td>\n",
              "      <td>8.1</td>\n",
              "      <td>16+</td>\n",
              "    </tr>\n",
              "    <tr>\n",
              "      <th>2</th>\n",
              "      <td>3</td>\n",
              "      <td>The Marvelous Mrs. Maisel</td>\n",
              "      <td>2017.0</td>\n",
              "      <td>3.0</td>\n",
              "      <td>English</td>\n",
              "      <td>Drama, Comedy</td>\n",
              "      <td>8.7</td>\n",
              "      <td>16+</td>\n",
              "    </tr>\n",
              "    <tr>\n",
              "      <th>3</th>\n",
              "      <td>4</td>\n",
              "      <td>Four More Shots Please</td>\n",
              "      <td>2019.0</td>\n",
              "      <td>2.0</td>\n",
              "      <td>Hindi</td>\n",
              "      <td>Drama, Comedy</td>\n",
              "      <td>5.3</td>\n",
              "      <td>18+</td>\n",
              "    </tr>\n",
              "    <tr>\n",
              "      <th>4</th>\n",
              "      <td>5</td>\n",
              "      <td>Fleabag</td>\n",
              "      <td>2016.0</td>\n",
              "      <td>2.0</td>\n",
              "      <td>English</td>\n",
              "      <td>Comedy</td>\n",
              "      <td>8.7</td>\n",
              "      <td>18+</td>\n",
              "    </tr>\n",
              "    <tr>\n",
              "      <th>...</th>\n",
              "      <td>...</td>\n",
              "      <td>...</td>\n",
              "      <td>...</td>\n",
              "      <td>...</td>\n",
              "      <td>...</td>\n",
              "      <td>...</td>\n",
              "      <td>...</td>\n",
              "      <td>...</td>\n",
              "    </tr>\n",
              "    <tr>\n",
              "      <th>399</th>\n",
              "      <td>400</td>\n",
              "      <td>NaN</td>\n",
              "      <td>NaN</td>\n",
              "      <td>NaN</td>\n",
              "      <td>NaN</td>\n",
              "      <td>NaN</td>\n",
              "      <td>NaN</td>\n",
              "      <td>NaN</td>\n",
              "    </tr>\n",
              "    <tr>\n",
              "      <th>400</th>\n",
              "      <td>401</td>\n",
              "      <td>NaN</td>\n",
              "      <td>NaN</td>\n",
              "      <td>NaN</td>\n",
              "      <td>NaN</td>\n",
              "      <td>NaN</td>\n",
              "      <td>NaN</td>\n",
              "      <td>NaN</td>\n",
              "    </tr>\n",
              "    <tr>\n",
              "      <th>401</th>\n",
              "      <td>402</td>\n",
              "      <td>NaN</td>\n",
              "      <td>NaN</td>\n",
              "      <td>NaN</td>\n",
              "      <td>NaN</td>\n",
              "      <td>NaN</td>\n",
              "      <td>NaN</td>\n",
              "      <td>NaN</td>\n",
              "    </tr>\n",
              "    <tr>\n",
              "      <th>402</th>\n",
              "      <td>403</td>\n",
              "      <td>NaN</td>\n",
              "      <td>NaN</td>\n",
              "      <td>NaN</td>\n",
              "      <td>NaN</td>\n",
              "      <td>NaN</td>\n",
              "      <td>NaN</td>\n",
              "      <td>NaN</td>\n",
              "    </tr>\n",
              "    <tr>\n",
              "      <th>403</th>\n",
              "      <td>404</td>\n",
              "      <td>NaN</td>\n",
              "      <td>NaN</td>\n",
              "      <td>NaN</td>\n",
              "      <td>NaN</td>\n",
              "      <td>NaN</td>\n",
              "      <td>NaN</td>\n",
              "      <td>NaN</td>\n",
              "    </tr>\n",
              "  </tbody>\n",
              "</table>\n",
              "<p>404 rows × 8 columns</p>\n",
              "</div>"
            ],
            "text/plain": [
              "     S.no.           Name of the show  ...  IMDb rating  Age of viewers\n",
              "0        1                 Pataal Lok  ...          7.5             18+\n",
              "1        2                     Upload  ...          8.1             16+\n",
              "2        3  The Marvelous Mrs. Maisel  ...          8.7             16+\n",
              "3        4     Four More Shots Please  ...          5.3             18+\n",
              "4        5                    Fleabag  ...          8.7             18+\n",
              "..     ...                        ...  ...          ...             ...\n",
              "399    400                        NaN  ...          NaN             NaN\n",
              "400    401                        NaN  ...          NaN             NaN\n",
              "401    402                        NaN  ...          NaN             NaN\n",
              "402    403                        NaN  ...          NaN             NaN\n",
              "403    404                        NaN  ...          NaN             NaN\n",
              "\n",
              "[404 rows x 8 columns]"
            ]
          },
          "metadata": {},
          "execution_count": 124
        }
      ]
    },
    {
      "cell_type": "code",
      "metadata": {
        "id": "O9OuAb0k7tce"
      },
      "source": [
        "df.dropna(inplace=True)"
      ],
      "execution_count": null,
      "outputs": []
    },
    {
      "cell_type": "code",
      "metadata": {
        "colab": {
          "base_uri": "https://localhost:8080/",
          "height": 423
        },
        "id": "3u0hH7FE8KX5",
        "outputId": "b0f8424e-b0e6-4def-d408-eca272b7958e"
      },
      "source": [
        "df = df.replace(df[df['Language']!='English']['Language'].tolist(),'non English')\n",
        "df"
      ],
      "execution_count": null,
      "outputs": [
        {
          "output_type": "execute_result",
          "data": {
            "text/html": [
              "<div>\n",
              "<style scoped>\n",
              "    .dataframe tbody tr th:only-of-type {\n",
              "        vertical-align: middle;\n",
              "    }\n",
              "\n",
              "    .dataframe tbody tr th {\n",
              "        vertical-align: top;\n",
              "    }\n",
              "\n",
              "    .dataframe thead th {\n",
              "        text-align: right;\n",
              "    }\n",
              "</style>\n",
              "<table border=\"1\" class=\"dataframe\">\n",
              "  <thead>\n",
              "    <tr style=\"text-align: right;\">\n",
              "      <th></th>\n",
              "      <th>S.no.</th>\n",
              "      <th>Name of the show</th>\n",
              "      <th>Year of release</th>\n",
              "      <th>No of seasons available</th>\n",
              "      <th>Language</th>\n",
              "      <th>Genre</th>\n",
              "      <th>IMDb rating</th>\n",
              "      <th>Age of viewers</th>\n",
              "    </tr>\n",
              "  </thead>\n",
              "  <tbody>\n",
              "    <tr>\n",
              "      <th>0</th>\n",
              "      <td>1</td>\n",
              "      <td>Pataal Lok</td>\n",
              "      <td>2020.0</td>\n",
              "      <td>1.0</td>\n",
              "      <td>non English</td>\n",
              "      <td>Drama</td>\n",
              "      <td>7.5</td>\n",
              "      <td>18+</td>\n",
              "    </tr>\n",
              "    <tr>\n",
              "      <th>1</th>\n",
              "      <td>2</td>\n",
              "      <td>Upload</td>\n",
              "      <td>2020.0</td>\n",
              "      <td>1.0</td>\n",
              "      <td>English</td>\n",
              "      <td>Sci-fi comedy</td>\n",
              "      <td>8.1</td>\n",
              "      <td>16+</td>\n",
              "    </tr>\n",
              "    <tr>\n",
              "      <th>2</th>\n",
              "      <td>3</td>\n",
              "      <td>The Marvelous Mrs. Maisel</td>\n",
              "      <td>2017.0</td>\n",
              "      <td>3.0</td>\n",
              "      <td>English</td>\n",
              "      <td>Drama, Comedy</td>\n",
              "      <td>8.7</td>\n",
              "      <td>16+</td>\n",
              "    </tr>\n",
              "    <tr>\n",
              "      <th>3</th>\n",
              "      <td>4</td>\n",
              "      <td>Four More Shots Please</td>\n",
              "      <td>2019.0</td>\n",
              "      <td>2.0</td>\n",
              "      <td>non English</td>\n",
              "      <td>Drama, Comedy</td>\n",
              "      <td>5.3</td>\n",
              "      <td>18+</td>\n",
              "    </tr>\n",
              "    <tr>\n",
              "      <th>4</th>\n",
              "      <td>5</td>\n",
              "      <td>Fleabag</td>\n",
              "      <td>2016.0</td>\n",
              "      <td>2.0</td>\n",
              "      <td>English</td>\n",
              "      <td>Comedy</td>\n",
              "      <td>8.7</td>\n",
              "      <td>18+</td>\n",
              "    </tr>\n",
              "    <tr>\n",
              "      <th>...</th>\n",
              "      <td>...</td>\n",
              "      <td>...</td>\n",
              "      <td>...</td>\n",
              "      <td>...</td>\n",
              "      <td>...</td>\n",
              "      <td>...</td>\n",
              "      <td>...</td>\n",
              "      <td>...</td>\n",
              "    </tr>\n",
              "    <tr>\n",
              "      <th>373</th>\n",
              "      <td>374</td>\n",
              "      <td>The Danny Thomas Show</td>\n",
              "      <td>1958.0</td>\n",
              "      <td>3.0</td>\n",
              "      <td>English</td>\n",
              "      <td>Comedy</td>\n",
              "      <td>7.2</td>\n",
              "      <td>All</td>\n",
              "    </tr>\n",
              "    <tr>\n",
              "      <th>374</th>\n",
              "      <td>375</td>\n",
              "      <td>Hitoshi Matsumoto Presents Documental</td>\n",
              "      <td>2018.0</td>\n",
              "      <td>3.0</td>\n",
              "      <td>non English</td>\n",
              "      <td>Comedy</td>\n",
              "      <td>8.0</td>\n",
              "      <td>18+</td>\n",
              "    </tr>\n",
              "    <tr>\n",
              "      <th>375</th>\n",
              "      <td>376</td>\n",
              "      <td>Businessmen VS Aliens</td>\n",
              "      <td>2018.0</td>\n",
              "      <td>1.0</td>\n",
              "      <td>non English</td>\n",
              "      <td>Comedy</td>\n",
              "      <td>4.5</td>\n",
              "      <td>13+</td>\n",
              "    </tr>\n",
              "    <tr>\n",
              "      <th>379</th>\n",
              "      <td>380</td>\n",
              "      <td>Scooter: Secret Agent</td>\n",
              "      <td>2003.0</td>\n",
              "      <td>1.0</td>\n",
              "      <td>English</td>\n",
              "      <td>Comedy</td>\n",
              "      <td>6.8</td>\n",
              "      <td>All</td>\n",
              "    </tr>\n",
              "    <tr>\n",
              "      <th>383</th>\n",
              "      <td>384</td>\n",
              "      <td>The Real McCoys</td>\n",
              "      <td>1958.0</td>\n",
              "      <td>6.0</td>\n",
              "      <td>English</td>\n",
              "      <td>Comedy</td>\n",
              "      <td>7.5</td>\n",
              "      <td>All</td>\n",
              "    </tr>\n",
              "  </tbody>\n",
              "</table>\n",
              "<p>182 rows × 8 columns</p>\n",
              "</div>"
            ],
            "text/plain": [
              "     S.no.                       Name of the show  ...  IMDb rating  Age of viewers\n",
              "0        1                             Pataal Lok  ...          7.5             18+\n",
              "1        2                                 Upload  ...          8.1             16+\n",
              "2        3              The Marvelous Mrs. Maisel  ...          8.7             16+\n",
              "3        4                 Four More Shots Please  ...          5.3             18+\n",
              "4        5                                Fleabag  ...          8.7             18+\n",
              "..     ...                                    ...  ...          ...             ...\n",
              "373    374                  The Danny Thomas Show  ...          7.2             All\n",
              "374    375  Hitoshi Matsumoto Presents Documental  ...          8.0             18+\n",
              "375    376                  Businessmen VS Aliens  ...          4.5             13+\n",
              "379    380                  Scooter: Secret Agent  ...          6.8             All\n",
              "383    384                        The Real McCoys  ...          7.5             All\n",
              "\n",
              "[182 rows x 8 columns]"
            ]
          },
          "metadata": {},
          "execution_count": 128
        }
      ]
    },
    {
      "cell_type": "code",
      "metadata": {
        "colab": {
          "base_uri": "https://localhost:8080/",
          "height": 332
        },
        "id": "x4sqv1LD7h05",
        "outputId": "5468bbfa-d917-4006-9aa4-9c621a54c86c"
      },
      "source": [
        "year = datetime.datetime.now().year - 10                #dichiaro year = 10 anni fa\n",
        "df[df['Year of release']>= year].groupby(['Language'])['Year of release'].value_counts().unstack(0).plot.bar()\n",
        "plt.suptitle('Show')\n",
        "\n",
        "plt.show()"
      ],
      "execution_count": null,
      "outputs": [
        {
          "output_type": "display_data",
          "data": {
            "image/png": "[encoded data removed]",
            "text/plain": [
              "<Figure size 432x288 with 1 Axes>"
            ]
          },
          "metadata": {
            "needs_background": "light"
          }
        }
      ]
    }
  ]
}
