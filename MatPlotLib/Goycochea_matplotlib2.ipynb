{
  "nbformat": 4,
  "nbformat_minor": 0,
  "metadata": {
    "colab": {
      "name": "Goycochea.matplotlib2.ipynb",
      "provenance": []
    },
    "kernelspec": {
      "name": "python3",
      "display_name": "Python 3"
    },
    "language_info": {
      "name": "python"
    }
  },
  "cells": [
    {
      "cell_type": "code",
      "metadata": {
        "id": "Wh3XuQmKlZrE"
      },
      "source": [
        "import pandas as pd\n",
        "import matplotlib.pyplot as plt"
      ],
      "execution_count": null,
      "outputs": []
    },
    {
      "cell_type": "markdown",
      "metadata": {
        "id": "x2Jg_ywNkaJF"
      },
      "source": [
        "1. creare un dataframe contenente le informazioni riportate qui sotto, relative a quanti prodotti ha venduto (‘quantity’) e quanto ha venduto in termini di $ (‘total_amount’) ogni membro dello staff (colonna “last_name”):"
      ]
    },
    {
      "cell_type": "code",
      "metadata": {
        "colab": {
          "base_uri": "https://localhost:8080/",
          "height": 237
        },
        "id": "t5CDQEunNx6f",
        "outputId": "f842ab0d-2cb2-41d7-ac2f-53b34df6c54b"
      },
      "source": [
        "d = {'last_name': ['Boyer', 'Copeland', 'Daniel','Serrano', 'Terrell', 'Vargas'],\n",
        "      'quantity' : [766, 213, 812, 269, 100, 114],\n",
        "     'total_amount' : [643049.37, 203549.39, 744259.20, 253183.68, 93851.95, 123156.90]\n",
        "     }\n",
        "df = pd.DataFrame(d)\n",
        "df"
      ],
      "execution_count": null,
      "outputs": [
        {
          "output_type": "execute_result",
          "data": {
            "text/html": [
              "<div>\n",
              "<style scoped>\n",
              "    .dataframe tbody tr th:only-of-type {\n",
              "        vertical-align: middle;\n",
              "    }\n",
              "\n",
              "    .dataframe tbody tr th {\n",
              "        vertical-align: top;\n",
              "    }\n",
              "\n",
              "    .dataframe thead th {\n",
              "        text-align: right;\n",
              "    }\n",
              "</style>\n",
              "<table border=\"1\" class=\"dataframe\">\n",
              "  <thead>\n",
              "    <tr style=\"text-align: right;\">\n",
              "      <th></th>\n",
              "      <th>last_name</th>\n",
              "      <th>quantity</th>\n",
              "      <th>total_amount</th>\n",
              "    </tr>\n",
              "  </thead>\n",
              "  <tbody>\n",
              "    <tr>\n",
              "      <th>0</th>\n",
              "      <td>Boyer</td>\n",
              "      <td>766</td>\n",
              "      <td>643049.37</td>\n",
              "    </tr>\n",
              "    <tr>\n",
              "      <th>1</th>\n",
              "      <td>Copeland</td>\n",
              "      <td>213</td>\n",
              "      <td>203549.39</td>\n",
              "    </tr>\n",
              "    <tr>\n",
              "      <th>2</th>\n",
              "      <td>Daniel</td>\n",
              "      <td>812</td>\n",
              "      <td>744259.20</td>\n",
              "    </tr>\n",
              "    <tr>\n",
              "      <th>3</th>\n",
              "      <td>Serrano</td>\n",
              "      <td>269</td>\n",
              "      <td>253183.68</td>\n",
              "    </tr>\n",
              "    <tr>\n",
              "      <th>4</th>\n",
              "      <td>Terrell</td>\n",
              "      <td>100</td>\n",
              "      <td>93851.95</td>\n",
              "    </tr>\n",
              "    <tr>\n",
              "      <th>5</th>\n",
              "      <td>Vargas</td>\n",
              "      <td>114</td>\n",
              "      <td>123156.90</td>\n",
              "    </tr>\n",
              "  </tbody>\n",
              "</table>\n",
              "</div>"
            ],
            "text/plain": [
              "  last_name  quantity  total_amount\n",
              "0     Boyer       766     643049.37\n",
              "1  Copeland       213     203549.39\n",
              "2    Daniel       812     744259.20\n",
              "3   Serrano       269     253183.68\n",
              "4   Terrell       100      93851.95\n",
              "5    Vargas       114     123156.90"
            ]
          },
          "metadata": {},
          "execution_count": 4
        }
      ]
    },
    {
      "cell_type": "markdown",
      "metadata": {
        "id": "DJ6XMcYhqDlW"
      },
      "source": [
        "2. visualizzi due grafici a barre affiancati che indichino quantità vendute e valore venduto per ogni dipendente. Il risultato deve essere questo:\n"
      ]
    },
    {
      "cell_type": "code",
      "metadata": {
        "colab": {
          "base_uri": "https://localhost:8080/",
          "height": 297
        },
        "id": "J5DQ6ka6qFzk",
        "outputId": "981b2c0a-7f45-4f9b-fc11-b891ff6f9bcd"
      },
      "source": [
        "quantita = list(df['quantity'])\n",
        "names = list(df['last_name'])\n",
        "tot = list(df['total_amount'])\n",
        "fig, (ax1, ax2) = plt.subplots(2,1)   # aggiungo piu grafici\n",
        "ax1.bar(names, quantita)\n",
        "ax2.bar(names, tot)\n",
        "fig.tight_layout()\n",
        "plt.show()"
      ],
      "execution_count": null,
      "outputs": [
        {
          "output_type": "display_data",
          "data": {
            "image/png": "[encoded data removed]",
            "text/plain": [
              "<Figure size 432x288 with 2 Axes>"
            ]
          },
          "metadata": {
            "needs_background": "light"
          }
        }
      ]
    },
    {
      "cell_type": "markdown",
      "metadata": {
        "id": "Uj5Hp3ULuAy2"
      },
      "source": [
        "3. visualizzi i grafici precedenti con un titolo, gli assi e la griglia.\n"
      ]
    },
    {
      "cell_type": "code",
      "metadata": {
        "colab": {
          "base_uri": "https://localhost:8080/",
          "height": 477
        },
        "id": "yuAEJ9zPuGW1",
        "outputId": "195d4b2f-73c7-4c47-91dd-f93f95ee4b38"
      },
      "source": [
        "quantita = list(df['quantity'])\n",
        "names = list(df['last_name'])\n",
        "tot = list(df['total_amount'])\n",
        "\n",
        "fig, (ax1, ax2) = plt.subplots(1,2)\n",
        "fig.suptitle('2 grafici')\n",
        "fig.set_size_inches(10,7)\n",
        "ax1.bar(names, quantita)\n",
        "ax2.bar(names, tot)\n",
        "fig.tight_layout()\n",
        "fig.autofmt_xdate(rotation=90)\n",
        "ax1.grid(linewidth=0.5, color ='k',linestyle='-')    #grid serve a fare la griglia \n",
        "ax2.grid(linewidth=0.5, color ='k',linestyle='-')\n",
        "plt.show()"
      ],
      "execution_count": null,
      "outputs": [
        {
          "output_type": "display_data",
          "data": {
            "image/png": "[encoded data removed]",
            "text/plain": [
              "<Figure size 720x504 with 2 Axes>"
            ]
          },
          "metadata": {
            "needs_background": "light"
          }
        }
      ]
    },
    {
      "cell_type": "markdown",
      "metadata": {
        "id": "JsJULliIxGDf"
      },
      "source": [
        "4. visualizzi, senza creare nuovi dataframe, il costo medio dei prodotti venduti da ogni dipendente. Il risultato deve essere questo (prestare attenzione ai valori dell’asse delle ordinate):\n"
      ]
    },
    {
      "cell_type": "code",
      "metadata": {
        "colab": {
          "base_uri": "https://localhost:8080/",
          "height": 677
        },
        "id": "STX2BLNqxJFG",
        "outputId": "e252a79d-e8a8-4b39-b6de-2ee97448c606"
      },
      "source": [
        "fig = plt.figure(figsize=(10,10))\n",
        "ax = plt.axes()\n",
        "ax.bar(df[\"last_name\"], df[\"total_amount\"]/df[\"quantity\"])\n",
        "ax.set_xlabel('x')\n",
        "ax.set_ylabel('y')\n",
        "ax.set_ylim([800,1100])\n",
        "\n",
        "fig.suptitle('Istogramma')\n",
        "plt.show()"
      ],
      "execution_count": null,
      "outputs": [
        {
          "output_type": "display_data",
          "data": {
            "image/png": "[encoded data removed]",
            "text/plain": [
              "<Figure size 720x720 with 1 Axes>"
            ]
          },
          "metadata": {
            "needs_background": "light"
          }
        }
      ]
    }
  ]
}