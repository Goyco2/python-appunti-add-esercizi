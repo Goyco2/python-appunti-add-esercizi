{
  "nbformat": 4,
  "nbformat_minor": 0,
  "metadata": {
    "colab": {
      "name": "esercizio4.ipynb",
      "provenance": []
    },
    "kernelspec": {
      "name": "python3",
      "display_name": "Python 3"
    },
    "language_info": {
      "name": "python"
    }
  },
  "cells": [
    {
      "cell_type": "markdown",
      "metadata": {
        "id": "SZunOLdprjcG"
      },
      "source": [
        "1. scrivere una funzione chiamata media che dati due numeri restituisca la media. Utilizzare poi la funzione in un programma che acquisisca dall'utente due numeri e calcoli la media"
      ]
    },
    {
      "cell_type": "code",
      "metadata": {
        "colab": {
          "base_uri": "https://localhost:8080/"
        },
        "id": "PkdD6JfZrfvt",
        "outputId": "65896e65-85c5-418e-9353-96fbeaa070c6"
      },
      "source": [
        "def media(x, y): \n",
        "  n = x + y\n",
        "  n = n / 2\n",
        "  return n\n",
        "media(int(input(\"inserire il primo numero: \")), int(input(\"inserire il secondo numero: \")))"
      ],
      "execution_count": null,
      "outputs": [
        {
          "name": "stdout",
          "output_type": "stream",
          "text": [
            "inserire il primo numero: 0\n",
            "inserire il secondo numero: 10\n"
          ]
        },
        {
          "output_type": "execute_result",
          "data": {
            "text/plain": [
              "5.0"
            ]
          },
          "metadata": {},
          "execution_count": 15
        }
      ]
    },
    {
      "cell_type": "markdown",
      "metadata": {
        "id": "ImmzR0dYvmGG"
      },
      "source": [
        "2. scrivere una funzione chiamata piuCorta che date due liste restituisca la lista con meno elementi. Utilizzare poi la funzione in un programma che acquisisca dall'utente due liste e visualizzi gli elementi della lista più corta."
      ]
    },
    {
      "cell_type": "code",
      "metadata": {
        "colab": {
          "base_uri": "https://localhost:8080/"
        },
        "id": "bnx9KbHd53uM",
        "outputId": "16aed155-710f-4ce1-a18a-905023dd93a4"
      },
      "source": [
        "def piuCorta(lista1, lista2):\n",
        "    if len(lista1) > len(lista2):\n",
        "     return lista2\n",
        "    else:\n",
        "     return lista1\n",
        "lst = []\n",
        "n = int(input(\"inserici il numero di elementi: \"))\n",
        "for i in range(0, n):\n",
        "  element = str(input())\n",
        "  lst.append(element)\n",
        "\n",
        "lst2 = []\n",
        "n2 = int(input(\"inserici il numero di elementi: \"))\n",
        "for i in range(0, n2):\n",
        "  element2 = str(input())\n",
        "  lst2.append(element2)\n",
        "print(\"la lista più corta è: \", piuCorta(lst, lst2))"
      ],
      "execution_count": 7,
      "outputs": [
        {
          "output_type": "stream",
          "name": "stdout",
          "text": [
            "inserici il numero di elementi: 3\n",
            "a\n",
            "s\n",
            "d\n",
            "inserici il numero di elementi: 2\n",
            "a\n",
            "s\n",
            "la lista più corta è:  ['a', 's']\n"
          ]
        }
      ]
    },
    {
      "cell_type": "markdown",
      "metadata": {
        "id": "fbI5Pjud2iC3"
      },
      "source": [
        "3. scrivere una funzione chiamata costruisciLista che dati due numeri interi restituisca la lista formata da tutti i numeri interi compresi tra i due numeri dati. Utilizzare poi la funzione in un programma che acquisisca dall'utente due numeri e visualizzi la lista formata da tutti i numeri interi compresi tra i due numeri dati ma a partire dal più grande fino al più piccolo."
      ]
    },
    {
      "cell_type": "code",
      "metadata": {
        "colab": {
          "base_uri": "https://localhost:8080/"
        },
        "id": "EKa1u_tU2iZd",
        "outputId": "c11ddb53-cf9c-48a6-ab08-50f9e6ebda7d"
      },
      "source": [
        "def costruisciLista(x,y):\n",
        "  z = [i for i in range(x+1,y)]\n",
        "  return z\n",
        "costruisciLista(int(input(\"inserire il primo numero: \")), int(input(\"inserire il secondo numero: \")))\n"
      ],
      "execution_count": null,
      "outputs": [
        {
          "name": "stdout",
          "output_type": "stream",
          "text": [
            "inserire il primo numero: 1\n",
            "inserire il secondo numero: 10\n"
          ]
        },
        {
          "output_type": "execute_result",
          "data": {
            "text/plain": [
              "[2, 3, 4, 5, 6, 7, 8, 9]"
            ]
          },
          "metadata": {},
          "execution_count": 45
        }
      ]
    },
    {
      "cell_type": "markdown",
      "metadata": {
        "id": "wc5WepRA4l5e"
      },
      "source": [
        "4. scrivere una funzione chiamata valoreAssoluto che dato un numero restituisca il suo valore assoluto. Utilizzare poi questa funzione per determinare il valore assoluto degli elementi di una lista inserita dall'utente."
      ]
    },
    {
      "cell_type": "code",
      "metadata": {
        "id": "fFu0A1su4nm1",
        "colab": {
          "base_uri": "https://localhost:8080/"
        },
        "outputId": "015af026-9d38-4159-d66a-e78e70f1fa67"
      },
      "source": [
        "def valoreAssoluto(num1):\n",
        "  num1 = abs(num1)\n",
        "  return num1\n",
        "\n",
        "lst = []\n",
        "n = int(input(\"Inserisci il numero di elementi: \"))\n",
        "for i in range(0, n):\n",
        "   element = int(input(\"Inserire numero: \"))\n",
        "   lst.append(element)\n",
        "\n",
        "for j in range(0, n):\n",
        "  print(\"Valore assoluto: \", valoreAssoluto(lst[j]))"
      ],
      "execution_count": 10,
      "outputs": [
        {
          "output_type": "stream",
          "name": "stdout",
          "text": [
            "Inserisci il numero di elementi: 9\n",
            "Inserire numero: 0\n",
            "Inserire numero: 1\n",
            "Inserire numero: 2\n",
            "Inserire numero: 3\n",
            "Inserire numero: 4\n",
            "Inserire numero: 5\n",
            "Inserire numero: 6\n",
            "Inserire numero: -19\n",
            "Inserire numero: -24\n",
            "Valore assoluto:  0\n",
            "Valore assoluto:  1\n",
            "Valore assoluto:  2\n",
            "Valore assoluto:  3\n",
            "Valore assoluto:  4\n",
            "Valore assoluto:  5\n",
            "Valore assoluto:  6\n",
            "Valore assoluto:  19\n",
            "Valore assoluto:  24\n"
          ]
        }
      ]
    },
    {
      "cell_type": "markdown",
      "metadata": {
        "id": "HNqoAjCHBiOn"
      },
      "source": [
        "5. scrivere una funzione chiamata scambia che data una lista scambi il primo elemento con l'ultimo, il secondo con il penultimo e così via. Utilizzare poi la funzione in un programma che acquisisca dall'utente una lista di 10 elementi e li visualizzi scambiati.\n"
      ]
    },
    {
      "cell_type": "code",
      "metadata": {
        "id": "UUG-NMvNBjDl",
        "colab": {
          "base_uri": "https://localhost:8080/"
        },
        "outputId": "e7ccd72b-7693-4931-dc00-92bb23bdcb5a"
      },
      "source": [
        "def scambia(lst):\n",
        "  for i in lst:\n",
        "    lst.reverse()\n",
        "    return lst\n",
        "lst= []\n",
        "for n in range(0, 10):\n",
        "   element = str(input(\"Inserire elemento: \"))\n",
        "   lst.append(element)\n",
        "\n",
        "print(scambia(lst))"
      ],
      "execution_count": 11,
      "outputs": [
        {
          "output_type": "stream",
          "name": "stdout",
          "text": [
            "Inserire elemento: 0\n",
            "Inserire elemento: 1\n",
            "Inserire elemento: 2\n",
            "Inserire elemento: 3\n",
            "Inserire elemento: 4\n",
            "Inserire elemento: 5\n",
            "Inserire elemento: 6\n",
            "Inserire elemento: 7\n",
            "Inserire elemento: a\n",
            "Inserire elemento: b\n",
            "['b', 'a', '7', '6', '5', '4', '3', '2', '1', '0']\n"
          ]
        }
      ]
    },
    {
      "cell_type": "markdown",
      "metadata": {
        "id": "VR9QK6NqRm46"
      },
      "source": [
        "6. scrivere una funzione lambda che dati due numeri calcoli la loro somma. Utilizzare la funzione in un programma che chieda all'utente due numeri interi e visualizzi la loro somma."
      ]
    },
    {
      "cell_type": "code",
      "metadata": {
        "colab": {
          "base_uri": "https://localhost:8080/"
        },
        "id": "nufvv0ljRrxY",
        "outputId": "ac8bd62b-69eb-4c22-f1c6-d973a2e9d4d7"
      },
      "source": [
        "z = lambda x, y: x + y\n",
        "z(int(input(\"Inserire primo numero: \")), int(input(\"Inserire secondo numero: \")))"
      ],
      "execution_count": 12,
      "outputs": [
        {
          "name": "stdout",
          "output_type": "stream",
          "text": [
            "Inserire primo numero: 187\n",
            "Inserire secondo numero: 13\n"
          ]
        },
        {
          "output_type": "execute_result",
          "data": {
            "text/plain": [
              "200"
            ]
          },
          "metadata": {},
          "execution_count": 12
        }
      ]
    },
    {
      "cell_type": "markdown",
      "metadata": {
        "id": "9asgbM9TSjpt"
      },
      "source": [
        "7. scrivere un programma che utilizzi una lambda function per aumentare di 10 unità tutti gli elementi di una lista di interi inserita dall'utente.\n"
      ]
    },
    {
      "cell_type": "code",
      "metadata": {
        "colab": {
          "base_uri": "https://localhost:8080/"
        },
        "id": "MWCQULqaSlyK",
        "outputId": "aedb4ec0-9fc9-49af-be6b-0315389b3d44"
      },
      "source": [
        "lst = []\n",
        "n = int(input(\"Inserisci il numero di elementi: \"))\n",
        "for i in range(0, n):\n",
        "   element = int(input(\"Inserisci numero: \"))\n",
        "   lst.append(element)\n",
        "\n",
        "for i in range(0, n):\n",
        "   z = lambda x, y: x[i] + y\n",
        "   print(z(lst,10))"
      ],
      "execution_count": 13,
      "outputs": [
        {
          "output_type": "stream",
          "name": "stdout",
          "text": [
            "Inserisci il numero di elementi: 3\n",
            "Inserisci numero: 6\n",
            "Inserisci numero: 31\n",
            "Inserisci numero: 13\n",
            "16\n",
            "41\n",
            "23\n"
          ]
        }
      ]
    },
    {
      "cell_type": "markdown",
      "metadata": {
        "id": "zR2Re2AGS0u-"
      },
      "source": [
        "8. scrivere una funzione lambda che sostituisca il valore 0 se il parametro è negativo, il valore del parametro se è positivo. Utilizzare poi la funzione in un programma che chieda all'utente i 10 elementi di una lista e visualizzi la lista con il valore 0 al posto dei numeri negativi."
      ]
    },
    {
      "cell_type": "code",
      "metadata": {
        "id": "5PErE5I8S4pz"
      },
      "source": [
        "lst = []\n",
        "for i in range(0, 10):\n",
        "   element = int(input(\"Inserisci numero: \"))\n",
        "   lst.append(element)\n",
        "\n",
        "for i in range(0,10):\n",
        "  if lst[i] < 0:\n",
        "    lst[i] = 0\n",
        "print(lst)"
      ],
      "execution_count": null,
      "outputs": []
    }
  ]
}