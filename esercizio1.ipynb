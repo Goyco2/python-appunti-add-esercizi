{
  "nbformat": 4,
  "nbformat_minor": 0,
  "metadata": {
    "colab": {
      "name": "esercizio1.ipynb",
      "provenance": []
    },
    "kernelspec": {
      "name": "python3",
      "display_name": "Python 3"
    },
    "language_info": {
      "name": "python"
    }
  },
  "cells": [
    {
      "cell_type": "markdown",
      "metadata": {
        "id": "VfeTENhnvAQW"
      },
      "source": [
        "a. far inserie all'utente due valori interi"
      ]
    },
    {
      "cell_type": "code",
      "metadata": {
        "colab": {
          "base_uri": "https://localhost:8080/"
        },
        "id": "sHb6FH3pvMZe",
        "outputId": "5dadc70c-7fb0-4db3-e610-2270348d15f6"
      },
      "source": [
        "x = int(input(\"inserire il primo numero :\"))\n",
        "y = int(input(\"inserire il secondo numero:\"))"
      ],
      "execution_count": 17,
      "outputs": [
        {
          "name": "stdout",
          "output_type": "stream",
          "text": [
            "inserire il primo numero :10\n",
            "inserire il secondo numero:2\n"
          ]
        }
      ]
    },
    {
      "cell_type": "markdown",
      "metadata": {
        "id": "BVlZwrHbvdOl"
      },
      "source": [
        "\n",
        "b. effettuare le 4 operazioni aritmetiche tra i due numeri"
      ]
    },
    {
      "cell_type": "code",
      "metadata": {
        "colab": {
          "base_uri": "https://localhost:8080/"
        },
        "id": "llPcCx4cvkhe",
        "outputId": "26274c20-e7aa-4aff-ffd5-c3360b7eb470"
      },
      "source": [
        "\n",
        "print(x, \"+\", y, \"-\", x + y)\n",
        "print(x, \"-\", y, \"-\", x - y)\n",
        "print(x, \"*\", y, \"- \", x*y)\n",
        "print(x, \"/\", y, \"- \", x/y)"
      ],
      "execution_count": 30,
      "outputs": [
        {
          "output_type": "stream",
          "name": "stdout",
          "text": [
            "10 + 2 - 12\n",
            "10 - 2 - 8\n",
            "10 * 2 -  20\n",
            "10 / 2 -  5.0\n"
          ]
        }
      ]
    },
    {
      "cell_type": "markdown",
      "metadata": {
        "id": "Z213R2FUwgo4"
      },
      "source": [
        "\n",
        "c. effettuare l'elevamento a potenza del primo numero per il secondo"
      ]
    },
    {
      "cell_type": "code",
      "metadata": {
        "colab": {
          "base_uri": "https://localhost:8080/"
        },
        "id": "L7bnGIRRwkFO",
        "outputId": "07fcac09-6525-424c-8f3a-c67f71921535"
      },
      "source": [
        "\n",
        "print(x**y)"
      ],
      "execution_count": 19,
      "outputs": [
        {
          "output_type": "stream",
          "name": "stdout",
          "text": [
            "100\n"
          ]
        }
      ]
    },
    {
      "cell_type": "markdown",
      "metadata": {
        "id": "511H0QqExegj"
      },
      "source": [
        "\n",
        "d. effettuare il calcolo del resto della divisione tra il primo e il secondo numero"
      ]
    },
    {
      "cell_type": "code",
      "metadata": {
        "colab": {
          "base_uri": "https://localhost:8080/"
        },
        "id": "4NzH4eptxh51",
        "outputId": "b7a43617-9a26-4f10-8373-1472f2a0beda"
      },
      "source": [
        "print(x,\"%\", y,\"-\", x%y)"
      ],
      "execution_count": 33,
      "outputs": [
        {
          "output_type": "stream",
          "name": "stdout",
          "text": [
            "10 % 2 - 0\n"
          ]
        }
      ]
    },
    {
      "cell_type": "markdown",
      "metadata": {
        "id": "uFYxujaHyziV"
      },
      "source": [
        "f. effettuare la divisione intera tra il primo e il secondo numero"
      ]
    },
    {
      "cell_type": "code",
      "metadata": {
        "colab": {
          "base_uri": "https://localhost:8080/"
        },
        "id": "o-F7pUb7y361",
        "outputId": "fd428be9-08ad-41f8-d4fd-fc0decd7885f"
      },
      "source": [
        "print(x, \"/\", y, \"-\", x//y)"
      ],
      "execution_count": 32,
      "outputs": [
        {
          "output_type": "stream",
          "name": "stdout",
          "text": [
            "10 / 2 - 5\n"
          ]
        }
      ]
    },
    {
      "cell_type": "markdown",
      "metadata": {
        "id": "f1_qr7jx1hht"
      },
      "source": [
        "g. incrementare di una unità entrambi i numeri\n",
        "\n"
      ]
    },
    {
      "cell_type": "code",
      "metadata": {
        "colab": {
          "base_uri": "https://localhost:8080/"
        },
        "id": "6BhMVjl71l-8",
        "outputId": "cbff2681-0471-475f-e311-deefb06fd64c"
      },
      "source": [
        "x = x +1\n",
        "y = y +1\n",
        "print(x, y)"
      ],
      "execution_count": 37,
      "outputs": [
        {
          "output_type": "stream",
          "name": "stdout",
          "text": [
            "11 3\n"
          ]
        }
      ]
    },
    {
      "cell_type": "markdown",
      "metadata": {
        "id": "YxIsGqkQ2gKF"
      },
      "source": [
        "\n",
        "h. far inserie all'utente due valori: il primo rappresenta la sua altezza (in metri) e il secondo rappresenta il suo peso (in kg). Visualizzare poi l'IMC (google it...)"
      ]
    },
    {
      "cell_type": "code",
      "metadata": {
        "colab": {
          "base_uri": "https://localhost:8080/"
        },
        "id": "rCEs22rY2k39",
        "outputId": "9b497632-22a5-4236-ae96-3bfb0f08a767"
      },
      "source": [
        "alt = float(input(\"inserire la tua altezza :\"))\n",
        "pes = float(input(\"inserire il tuo peso:\"))\n",
        "print(pes / alt*2)"
      ],
      "execution_count": 48,
      "outputs": [
        {
          "output_type": "stream",
          "name": "stdout",
          "text": [
            "inserire la tua altezza :1.80\n",
            "inserire il tuo peso:70\n",
            "77.77777777777777\n"
          ]
        }
      ]
    },
    {
      "cell_type": "markdown",
      "metadata": {
        "id": "rnE-0se97T51"
      },
      "source": [
        "\n",
        "i. arrotondare l'IMC precedente\n"
      ]
    },
    {
      "cell_type": "code",
      "metadata": {
        "id": "lJSnhwyA8O0b"
      },
      "source": [
        ""
      ],
      "execution_count": null,
      "outputs": []
    },
    {
      "cell_type": "markdown",
      "metadata": {
        "id": "7rnmHrvI8Sgb"
      },
      "source": [
        "visualizzare il proprio nome, cognome, data di nascita e città di nascita separando le informazioni con un trattino."
      ]
    },
    {
      "cell_type": "code",
      "metadata": {
        "colab": {
          "base_uri": "https://localhost:8080/"
        },
        "id": "RkUqPiIA8VTk",
        "outputId": "cf5bf6a0-eb12-4299-dc21-5c56d36a0e35"
      },
      "source": [
        "dati = \" Gabriel - Goycochea - 02/09/2005 -Milano \"\n",
        "print(dati)"
      ],
      "execution_count": 60,
      "outputs": [
        {
          "output_type": "stream",
          "name": "stdout",
          "text": [
            "Gabriel - Goycochea - 02/09/2005 -Milano\n"
          ]
        }
      ]
    },
    {
      "cell_type": "markdown",
      "metadata": {
        "id": "Rn_cjPu19OPt"
      },
      "source": [
        "k. visualizzare le stesse informazioni per 10 volte di seguito"
      ]
    },
    {
      "cell_type": "code",
      "metadata": {
        "colab": {
          "base_uri": "https://localhost:8080/"
        },
        "id": "dGNL40SQ9Pa0",
        "outputId": "c169abf0-64d3-4217-c89a-989b917c928b"
      },
      "source": [
        "print(dati*10)"
      ],
      "execution_count": 62,
      "outputs": [
        {
          "output_type": "stream",
          "name": "stdout",
          "text": [
            "Gabriel - Goycochea - 02/09/2005 -MilanoGabriel - Goycochea - 02/09/2005 -MilanoGabriel - Goycochea - 02/09/2005 -MilanoGabriel - Goycochea - 02/09/2005 -MilanoGabriel - Goycochea - 02/09/2005 -MilanoGabriel - Goycochea - 02/09/2005 -MilanoGabriel - Goycochea - 02/09/2005 -MilanoGabriel - Goycochea - 02/09/2005 -MilanoGabriel - Goycochea - 02/09/2005 -MilanoGabriel - Goycochea - 02/09/2005 -Milano\n"
          ]
        }
      ]
    },
    {
      "cell_type": "markdown",
      "metadata": {
        "id": "PZ0Nm3tB-Z59"
      },
      "source": [
        "l. assegnare il proprio nome e cognome ad una stringa e visualizzarla con tutte le lettere maiuscole"
      ]
    },
    {
      "cell_type": "code",
      "metadata": {
        "id": "qa6a8SuD-co8"
      },
      "source": [
        ""
      ],
      "execution_count": null,
      "outputs": []
    }
  ]
}